{
 "cells": [
  {
   "cell_type": "code",
   "execution_count": 1,
   "metadata": {},
   "outputs": [],
   "source": [
    "import torch\n",
    "import torch.nn as nn\n",
    "from torch.utils.data import Dataset\n",
    "\n",
    "import pandas, numpy, random\n",
    "import matplotlib.pyplot as plt"
   ]
  },
  {
   "cell_type": "code",
   "execution_count": 2,
   "metadata": {},
   "outputs": [
    {
     "name": "stdout",
     "output_type": "stream",
     "text": [
      "using cuda: GeForce RTX 2080 Ti\n"
     ]
    },
    {
     "data": {
      "text/plain": [
       "device(type='cuda')"
      ]
     },
     "execution_count": 2,
     "metadata": {},
     "output_type": "execute_result"
    }
   ],
   "source": [
    "# if CUDA is available, use GPU and set default tensor type to cuda\n",
    "\n",
    "if torch.cuda.is_available():\n",
    "  torch.set_default_tensor_type(torch.cuda.FloatTensor)\n",
    "  print(\"using cuda:\", torch.cuda.get_device_name(0))\n",
    "  pass\n",
    "\n",
    "device = torch.device(\"cuda\" if torch.cuda.is_available() else \"cpu\")\n",
    "\n",
    "device"
   ]
  },
  {
   "cell_type": "code",
   "execution_count": 3,
   "metadata": {},
   "outputs": [],
   "source": [
    "max_length_smiles = 29\n",
    "\n",
    "class Token(nn.Embedding):\n",
    "    def __init__(self, vocab_size, embed_size=200, padding_idx=0):\n",
    "        super().__init__(vocab_size, embed_size, padding_idx)\n",
    "        \n",
    "token = Token(30)\n",
    "\n",
    "def convertToASCII(item):\n",
    "    ascii = []\n",
    "    for char in item:\n",
    "        ascii.append(ord(char))\n",
    "        \n",
    "    return ascii\n",
    "\n",
    "def convertASCIIToString(items):\n",
    "    result = \"\"\n",
    "    for item in items:\n",
    "        result = result + chr(item)\n",
    "    return result"
   ]
  },
  {
   "cell_type": "code",
   "execution_count": 4,
   "metadata": {},
   "outputs": [],
   "source": [
    "# dataset class\n",
    "\n",
    "class qm9Dataset(Dataset):\n",
    "    \n",
    "    def __init__(self, csv_file):\n",
    "        self.data_df = pandas.read_csv(csv_file, header=None, skiprows=1, dtype='unicode')\n",
    "        #print(self.data_df)\n",
    "        pass\n",
    "    \n",
    "    def __len__(self):\n",
    "        return len(self.data_df)\n",
    "    \n",
    "    def __getitem__(self, index):\n",
    "        smiles = (self.data_df.iloc[index,0] + \" \" * max_length_smiles)[0:max_length_smiles]\n",
    "        #print(\"smiles\", smiles)\n",
    "        smiles = torch.cuda.FloatTensor(convertToASCII(smiles)) / 128.0   #ascii max value\n",
    "        #smiles = smiles.reshape(-1)\n",
    "        #smiles = smiles.unsqueeze(-1)\n",
    "        #print(\"smiles.shape\", smiles.shape)\n",
    "\n",
    "        labels = []\n",
    "        labels.append(float(self.data_df.iloc[index,1]))\n",
    "        labels.append(float(self.data_df.iloc[index,2]))\n",
    "        labels.append(float(self.data_df.iloc[index,3]))\n",
    "        labels.append(float(self.data_df.iloc[index,4]))\n",
    "        labels.append(float(self.data_df.iloc[index,5]))\n",
    "        labels.append(float(self.data_df.iloc[index,6]))\n",
    "        labels.append(float(self.data_df.iloc[index,7]))\n",
    "        labels.append(float(self.data_df.iloc[index,8]))\n",
    "        labels.append(float(self.data_df.iloc[index,9]))\n",
    "        labels.append(float(self.data_df.iloc[index,10]))\n",
    "        labels.append(float(self.data_df.iloc[index,11]))\n",
    "        labels.append(float(self.data_df.iloc[index,11]))\n",
    "        labels.append(float(self.data_df.iloc[index,12]))\n",
    "        \n",
    "        labels = torch.cuda.FloatTensor(labels)\n",
    "        \n",
    "        target = torch.zeros((len(self.data_df))).to(device)\n",
    "        target[index] = 1.0\n",
    "        \n",
    "        return smiles,labels,target\n",
    "    \n",
    "    pass"
   ]
  },
  {
   "cell_type": "code",
   "execution_count": 5,
   "metadata": {},
   "outputs": [],
   "source": [
    "qm9dataset = qm9Dataset('dataset/qm9.csv')"
   ]
  },
  {
   "cell_type": "code",
   "execution_count": 6,
   "metadata": {},
   "outputs": [
    {
     "data": {
      "text/plain": [
       "(tensor([0.6172, 0.2500, 0.2500, 0.2500, 0.2500, 0.2500, 0.2500, 0.2500, 0.2500,\n",
       "         0.2500, 0.2500, 0.2500, 0.2500, 0.2500, 0.2500, 0.2500, 0.2500, 0.2500,\n",
       "         0.2500, 0.2500, 0.2500, 0.2500, 0.2500, 0.2500, 0.2500, 0.2500, 0.2500,\n",
       "         0.2500, 0.2500]),\n",
       " tensor([ 1.8511e+00,  6.3100e+00, -2.9280e-01,  6.8700e-02,  3.6150e-01,\n",
       "          1.9000e+01,  2.1375e-02,  6.0020e+00, -7.6405e+01, -7.6402e+01,\n",
       "         -7.6401e+01, -7.6401e+01, -7.6422e+01]),\n",
       " tensor([0., 0., 1.,  ..., 0., 0., 0.]))"
      ]
     },
     "execution_count": 6,
     "metadata": {},
     "output_type": "execute_result"
    }
   ],
   "source": [
    "qm9dataset[2]"
   ]
  },
  {
   "cell_type": "code",
   "execution_count": 7,
   "metadata": {},
   "outputs": [
    {
     "data": {
      "text/plain": [
       "'\\nmax_length_smiles = 0\\ni = 0\\nfor smiles,label,target in data_loader:\\n    i += 1\\n    if (i % 1000 == 0):\\n        print(smiles)\\n    max_length_smiles = max(max_length_smiles, len(smiles[0]))\\n    #print(\"Max length smiles:\", max_length_smiles)\\n\\n    #max_length_smiles = 29\\n'"
      ]
     },
     "execution_count": 7,
     "metadata": {},
     "output_type": "execute_result"
    }
   ],
   "source": [
    "from torch.utils.data import DataLoader\n",
    "data_loader = torch.utils.data.DataLoader(qm9dataset,batch_size=1,shuffle=False)\n",
    "\n",
    "'''\n",
    "max_length_smiles = 0\n",
    "i = 0\n",
    "for smiles,label,target in data_loader:\n",
    "    i += 1\n",
    "    if (i % 1000 == 0):\n",
    "        print(smiles)\n",
    "    max_length_smiles = max(max_length_smiles, len(smiles[0]))\n",
    "    #print(\"Max length smiles:\", max_length_smiles)\n",
    "\n",
    "    #max_length_smiles = 29\n",
    "'''"
   ]
  },
  {
   "cell_type": "code",
   "execution_count": 8,
   "metadata": {},
   "outputs": [
    {
     "data": {
      "text/plain": [
       "tensor([[0.2188, 0.5547, 0.4844, 0.8906, 0.4531, 0.4141, 0.9219, 0.0703, 0.0469,\n",
       "         0.0625, 0.6250, 0.6172, 0.8516, 0.1875, 0.1875, 0.1953, 0.1094, 0.3750,\n",
       "         0.2500, 0.3984, 0.5391, 0.7734, 0.4922, 0.5234, 0.5391, 0.9297, 0.3438,\n",
       "         0.2344, 0.2266]])"
      ]
     },
     "execution_count": 8,
     "metadata": {},
     "output_type": "execute_result"
    }
   ],
   "source": [
    "def generate_random_smiles(size):\n",
    "    random_data = torch.randint(0, 128, (1,size))/128\n",
    "    return random_data.float()\n",
    "\n",
    "def generate_random_one_hot(size):\n",
    "    label_tensor = torch.zeros((size))\n",
    "    random_idx = random.randint(0,size-1)\n",
    "    label_tensor[random_idx] = 1.0\n",
    "    return label_tensor\n",
    "\n",
    "def generate_random_seed(size):\n",
    "    #random_data = torch.randn(size)\n",
    "    random_data = torch.randint(0, 256, (1,size))/256\n",
    "    return random_data\n",
    "\n",
    "\n",
    "class View(nn.Module):\n",
    "    def __init__(self, shape):\n",
    "        super().__init__()\n",
    "        self.shape = shape,\n",
    "\n",
    "    def forward(self, x):\n",
    "        return x.view(*self.shape)\n",
    "    \n",
    "generate_random_smiles(max_length_smiles)    "
   ]
  },
  {
   "cell_type": "code",
   "execution_count": 9,
   "metadata": {},
   "outputs": [],
   "source": [
    "# discriminator class\n",
    "\n",
    "class Discriminator(nn.Module):\n",
    "    \n",
    "    def __init__(self):\n",
    "        # initialise parent pytorch class\n",
    "        super().__init__()\n",
    "        \n",
    "        # define neural network layers\n",
    "        self.model = nn.Sequential(\n",
    "            View(max_length_smiles),\n",
    "            \n",
    "            nn.Linear(max_length_smiles, 20),\n",
    "            nn.LeakyReLU(),\n",
    "            \n",
    "            nn.LayerNorm(20),\n",
    "            \n",
    "            nn.Linear(20, 1),\n",
    "            nn.Sigmoid()\n",
    "        )\n",
    "        \n",
    "        # create loss function\n",
    "        self.loss_function = nn.BCELoss()\n",
    "\n",
    "        # create optimiser, simple stochastic gradient descent\n",
    "        self.optimiser = torch.optim.Adam(self.parameters(), lr=0.0001)\n",
    "\n",
    "        # counter and accumulator for progress\n",
    "        self.counter = 0;\n",
    "        self.progress = []\n",
    "\n",
    "        pass\n",
    "    \n",
    "    \n",
    "    def forward(self, inputs):\n",
    "        # combine seed and label\n",
    "        #inputs = torch.cat((image_tensor, label_tensor))\n",
    "        return self.model(inputs)\n",
    "    \n",
    "    \n",
    "    def train(self, inputs, targets):\n",
    "        # calculate the output of the network\n",
    "        outputs = self.forward(inputs)\n",
    "        \n",
    "        #print(\"outputs\", outputs)\n",
    "        \n",
    "        # calculate loss\n",
    "        loss = self.loss_function(outputs, targets)\n",
    "\n",
    "        # increase counter and accumulate error every 10\n",
    "        self.counter += 1;\n",
    "        if (self.counter % 10 == 0):\n",
    "            self.progress.append(loss.item())\n",
    "            pass\n",
    "        if (self.counter % 10000 == 0):\n",
    "            print(\"counter = \", self.counter)\n",
    "            pass\n",
    "\n",
    "        # zero gradients, perform a backward pass, update weights\n",
    "        self.optimiser.zero_grad()\n",
    "        loss.backward()\n",
    "        self.optimiser.step()\n",
    "\n",
    "        pass\n",
    "    \n",
    "    \n",
    "    def plot_progress(self):\n",
    "        df = pandas.DataFrame(self.progress, columns=['loss'])\n",
    "        df.plot(ylim=(0), figsize=(16,8), alpha=0.1, marker='.', grid=True, yticks=(0, 0.25, 0.5, 1.0, 5.0))\n",
    "        pass\n",
    "    \n",
    "    pass"
   ]
  },
  {
   "cell_type": "code",
   "execution_count": 10,
   "metadata": {},
   "outputs": [
    {
     "name": "stdout",
     "output_type": "stream",
     "text": [
      "counter =  10000\n",
      "counter =  20000\n",
      "counter =  30000\n",
      "counter =  40000\n",
      "counter =  50000\n",
      "counter =  60000\n",
      "counter =  70000\n",
      "counter =  80000\n",
      "counter =  90000\n",
      "counter =  100000\n",
      "counter =  110000\n",
      "counter =  120000\n",
      "counter =  130000\n",
      "counter =  140000\n",
      "counter =  150000\n",
      "counter =  160000\n",
      "counter =  170000\n",
      "counter =  180000\n",
      "counter =  190000\n",
      "counter =  200000\n",
      "counter =  210000\n",
      "counter =  220000\n",
      "counter =  230000\n",
      "counter =  240000\n"
     ]
    },
    {
     "ename": "KeyboardInterrupt",
     "evalue": "",
     "output_type": "error",
     "traceback": [
      "\u001b[0;31m---------------------------------------------------------------------------\u001b[0m",
      "\u001b[0;31mKeyboardInterrupt\u001b[0m                         Traceback (most recent call last)",
      "\u001b[0;32m<timed exec>\u001b[0m in \u001b[0;36m<module>\u001b[0;34m\u001b[0m\n",
      "\u001b[0;32m<ipython-input-9-9a59c814f384>\u001b[0m in \u001b[0;36mtrain\u001b[0;34m(self, inputs, targets)\u001b[0m\n\u001b[1;32m     60\u001b[0m         \u001b[0mself\u001b[0m\u001b[0;34m.\u001b[0m\u001b[0moptimiser\u001b[0m\u001b[0;34m.\u001b[0m\u001b[0mzero_grad\u001b[0m\u001b[0;34m(\u001b[0m\u001b[0;34m)\u001b[0m\u001b[0;34m\u001b[0m\u001b[0;34m\u001b[0m\u001b[0m\n\u001b[1;32m     61\u001b[0m         \u001b[0mloss\u001b[0m\u001b[0;34m.\u001b[0m\u001b[0mbackward\u001b[0m\u001b[0;34m(\u001b[0m\u001b[0;34m)\u001b[0m\u001b[0;34m\u001b[0m\u001b[0;34m\u001b[0m\u001b[0m\n\u001b[0;32m---> 62\u001b[0;31m         \u001b[0mself\u001b[0m\u001b[0;34m.\u001b[0m\u001b[0moptimiser\u001b[0m\u001b[0;34m.\u001b[0m\u001b[0mstep\u001b[0m\u001b[0;34m(\u001b[0m\u001b[0;34m)\u001b[0m\u001b[0;34m\u001b[0m\u001b[0;34m\u001b[0m\u001b[0m\n\u001b[0m\u001b[1;32m     63\u001b[0m \u001b[0;34m\u001b[0m\u001b[0m\n\u001b[1;32m     64\u001b[0m         \u001b[0;32mpass\u001b[0m\u001b[0;34m\u001b[0m\u001b[0;34m\u001b[0m\u001b[0m\n",
      "\u001b[0;32m~/anaconda3/lib/python3.7/site-packages/torch/autograd/grad_mode.py\u001b[0m in \u001b[0;36mdecorate_context\u001b[0;34m(*args, **kwargs)\u001b[0m\n\u001b[1;32m     24\u001b[0m         \u001b[0;32mdef\u001b[0m \u001b[0mdecorate_context\u001b[0m\u001b[0;34m(\u001b[0m\u001b[0;34m*\u001b[0m\u001b[0margs\u001b[0m\u001b[0;34m,\u001b[0m \u001b[0;34m**\u001b[0m\u001b[0mkwargs\u001b[0m\u001b[0;34m)\u001b[0m\u001b[0;34m:\u001b[0m\u001b[0;34m\u001b[0m\u001b[0;34m\u001b[0m\u001b[0m\n\u001b[1;32m     25\u001b[0m             \u001b[0;32mwith\u001b[0m \u001b[0mself\u001b[0m\u001b[0;34m.\u001b[0m\u001b[0m__class__\u001b[0m\u001b[0;34m(\u001b[0m\u001b[0;34m)\u001b[0m\u001b[0;34m:\u001b[0m\u001b[0;34m\u001b[0m\u001b[0;34m\u001b[0m\u001b[0m\n\u001b[0;32m---> 26\u001b[0;31m                 \u001b[0;32mreturn\u001b[0m \u001b[0mfunc\u001b[0m\u001b[0;34m(\u001b[0m\u001b[0;34m*\u001b[0m\u001b[0margs\u001b[0m\u001b[0;34m,\u001b[0m \u001b[0;34m**\u001b[0m\u001b[0mkwargs\u001b[0m\u001b[0;34m)\u001b[0m\u001b[0;34m\u001b[0m\u001b[0;34m\u001b[0m\u001b[0m\n\u001b[0m\u001b[1;32m     27\u001b[0m         \u001b[0;32mreturn\u001b[0m \u001b[0mcast\u001b[0m\u001b[0;34m(\u001b[0m\u001b[0mF\u001b[0m\u001b[0;34m,\u001b[0m \u001b[0mdecorate_context\u001b[0m\u001b[0;34m)\u001b[0m\u001b[0;34m\u001b[0m\u001b[0;34m\u001b[0m\u001b[0m\n\u001b[1;32m     28\u001b[0m \u001b[0;34m\u001b[0m\u001b[0m\n",
      "\u001b[0;32m~/anaconda3/lib/python3.7/site-packages/torch/optim/adam.py\u001b[0m in \u001b[0;36mstep\u001b[0;34m(self, closure)\u001b[0m\n\u001b[1;32m    117\u001b[0m                    \u001b[0mgroup\u001b[0m\u001b[0;34m[\u001b[0m\u001b[0;34m'lr'\u001b[0m\u001b[0;34m]\u001b[0m\u001b[0;34m,\u001b[0m\u001b[0;34m\u001b[0m\u001b[0;34m\u001b[0m\u001b[0m\n\u001b[1;32m    118\u001b[0m                    \u001b[0mgroup\u001b[0m\u001b[0;34m[\u001b[0m\u001b[0;34m'weight_decay'\u001b[0m\u001b[0;34m]\u001b[0m\u001b[0;34m,\u001b[0m\u001b[0;34m\u001b[0m\u001b[0;34m\u001b[0m\u001b[0m\n\u001b[0;32m--> 119\u001b[0;31m                    \u001b[0mgroup\u001b[0m\u001b[0;34m[\u001b[0m\u001b[0;34m'eps'\u001b[0m\u001b[0;34m]\u001b[0m\u001b[0;34m\u001b[0m\u001b[0;34m\u001b[0m\u001b[0m\n\u001b[0m\u001b[1;32m    120\u001b[0m                    )\n\u001b[1;32m    121\u001b[0m         \u001b[0;32mreturn\u001b[0m \u001b[0mloss\u001b[0m\u001b[0;34m\u001b[0m\u001b[0;34m\u001b[0m\u001b[0m\n",
      "\u001b[0;32m~/anaconda3/lib/python3.7/site-packages/torch/optim/functional.py\u001b[0m in \u001b[0;36madam\u001b[0;34m(params, grads, exp_avgs, exp_avg_sqs, max_exp_avg_sqs, state_steps, amsgrad, beta1, beta2, lr, weight_decay, eps)\u001b[0m\n\u001b[1;32m     85\u001b[0m         \u001b[0;31m# Decay the first and second moment running average coefficient\u001b[0m\u001b[0;34m\u001b[0m\u001b[0;34m\u001b[0m\u001b[0;34m\u001b[0m\u001b[0m\n\u001b[1;32m     86\u001b[0m         \u001b[0mexp_avg\u001b[0m\u001b[0;34m.\u001b[0m\u001b[0mmul_\u001b[0m\u001b[0;34m(\u001b[0m\u001b[0mbeta1\u001b[0m\u001b[0;34m)\u001b[0m\u001b[0;34m.\u001b[0m\u001b[0madd_\u001b[0m\u001b[0;34m(\u001b[0m\u001b[0mgrad\u001b[0m\u001b[0;34m,\u001b[0m \u001b[0malpha\u001b[0m\u001b[0;34m=\u001b[0m\u001b[0;36m1\u001b[0m \u001b[0;34m-\u001b[0m \u001b[0mbeta1\u001b[0m\u001b[0;34m)\u001b[0m\u001b[0;34m\u001b[0m\u001b[0;34m\u001b[0m\u001b[0m\n\u001b[0;32m---> 87\u001b[0;31m         \u001b[0mexp_avg_sq\u001b[0m\u001b[0;34m.\u001b[0m\u001b[0mmul_\u001b[0m\u001b[0;34m(\u001b[0m\u001b[0mbeta2\u001b[0m\u001b[0;34m)\u001b[0m\u001b[0;34m.\u001b[0m\u001b[0maddcmul_\u001b[0m\u001b[0;34m(\u001b[0m\u001b[0mgrad\u001b[0m\u001b[0;34m,\u001b[0m \u001b[0mgrad\u001b[0m\u001b[0;34m,\u001b[0m \u001b[0mvalue\u001b[0m\u001b[0;34m=\u001b[0m\u001b[0;36m1\u001b[0m \u001b[0;34m-\u001b[0m \u001b[0mbeta2\u001b[0m\u001b[0;34m)\u001b[0m\u001b[0;34m\u001b[0m\u001b[0;34m\u001b[0m\u001b[0m\n\u001b[0m\u001b[1;32m     88\u001b[0m         \u001b[0;32mif\u001b[0m \u001b[0mamsgrad\u001b[0m\u001b[0;34m:\u001b[0m\u001b[0;34m\u001b[0m\u001b[0;34m\u001b[0m\u001b[0m\n\u001b[1;32m     89\u001b[0m             \u001b[0;31m# Maintains the maximum of all 2nd moment running avg. till now\u001b[0m\u001b[0;34m\u001b[0m\u001b[0;34m\u001b[0m\u001b[0;34m\u001b[0m\u001b[0m\n",
      "\u001b[0;31mKeyboardInterrupt\u001b[0m: "
     ]
    }
   ],
   "source": [
    "%%time\n",
    "# test discriminator can separate real data from random noise\n",
    "\n",
    "\n",
    "D = Discriminator()\n",
    "D.to(device)\n",
    "\n",
    "for smiles,label,target in data_loader:\n",
    "    # real\n",
    "    #print(\"smiles.shape\", smiles.shape)\n",
    "    D.train(smiles, torch.cuda.FloatTensor([1.0]))\n",
    "    # fake\n",
    "    D.train(generate_random_smiles(max_length_smiles), torch.cuda.FloatTensor([0.0]))\n",
    "    pass\n"
   ]
  },
  {
   "cell_type": "code",
   "execution_count": 11,
   "metadata": {},
   "outputs": [
    {
     "name": "stdout",
     "output_type": "stream",
     "text": [
      "0.9997417330741882\n",
      "0.9991576671600342\n",
      "0.9998303651809692\n",
      "0.9995940327644348\n",
      "1.6216905578403384e-06\n",
      "0.1180194765329361\n",
      "9.878636774374172e-05\n",
      "4.3759697291534394e-05\n"
     ]
    }
   ],
   "source": [
    "for i in range(4):\n",
    "    #random.randint(0,20000)\n",
    "    data_tensor,_,_ = qm9dataset[random.randint(0,130000)]\n",
    "    print( D.forward( data_tensor ).item() )\n",
    "    pass\n",
    "\n",
    "for i in range(4):\n",
    "    print( D.forward(generate_random_smiles(max_length_smiles)).item() )\n",
    "    pass"
   ]
  },
  {
   "cell_type": "code",
   "execution_count": 12,
   "metadata": {},
   "outputs": [
    {
     "data": {
      "image/png": "[encoded data removed]",
      "text/plain": [
       "<Figure size 1152x576 with 1 Axes>"
      ]
     },
     "metadata": {
      "needs_background": "light"
     },
     "output_type": "display_data"
    }
   ],
   "source": [
    "D.plot_progress()"
   ]
  },
  {
   "cell_type": "code",
   "execution_count": 13,
   "metadata": {},
   "outputs": [],
   "source": [
    "class Generator(nn.Module):\n",
    "    \n",
    "    def __init__(self):\n",
    "        # initialise parent pytorch class\n",
    "        super().__init__()\n",
    "        \n",
    "        # define neural network layers\n",
    "        self.model = nn.Sequential(\n",
    "            nn.Linear(max_length_smiles, 200),\n",
    "            nn.LeakyReLU(0.02),\n",
    "\n",
    "            nn.LayerNorm(200),\n",
    "\n",
    "            nn.Linear(200, max_length_smiles),\n",
    "            nn.Sigmoid()\n",
    "        )\n",
    "        \n",
    "        # create optimiser, simple stochastic gradient descent\n",
    "        self.optimiser = torch.optim.Adam(self.parameters(), lr=0.0001)\n",
    "\n",
    "        # counter and accumulator for progress\n",
    "        self.counter = 0;\n",
    "        self.progress = []\n",
    "        \n",
    "        pass\n",
    "    \n",
    "    \n",
    "    def forward(self, inputs):        \n",
    "        return self.model(inputs)\n",
    "\n",
    "\n",
    "    def train(self, D, inputs, targets):\n",
    "        # calculate the output of the network\n",
    "        g_output = self.forward(inputs)\n",
    "        \n",
    "        # pass onto Discriminator\n",
    "        d_output = D.forward(g_output)\n",
    "        \n",
    "        # calculate error\n",
    "        loss = D.loss_function(d_output, targets)\n",
    "\n",
    "        # increase counter and accumulate error every 10\n",
    "        self.counter += 1;\n",
    "        if (self.counter % 10 == 0):\n",
    "            self.progress.append(loss.item())\n",
    "            pass\n",
    "\n",
    "        # zero gradients, perform a backward pass, update weights\n",
    "        self.optimiser.zero_grad()\n",
    "        loss.backward()\n",
    "        self.optimiser.step()\n",
    "\n",
    "        pass\n",
    "    \n",
    "    \n",
    "    def plot_progress(self):\n",
    "        df = pandas.DataFrame(self.progress, columns=['loss'])\n",
    "        df.plot(ylim=(0), figsize=(16,8), alpha=0.1, marker='.', grid=True, yticks=(0, 0.25, 0.5, 1.0, 5.0))\n",
    "        pass\n",
    "    \n",
    "    pass"
   ]
  },
  {
   "cell_type": "code",
   "execution_count": 14,
   "metadata": {},
   "outputs": [
    {
     "name": "stdout",
     "output_type": "stream",
     "text": [
      "output tensor([[0.5387, 0.3711, 0.2980, 0.3026, 0.3753, 0.4432, 0.6043, 0.4804, 0.4887,\n",
      "         0.6113, 0.5074, 0.2936, 0.6316, 0.3526, 0.3867, 0.5501, 0.3748, 0.3667,\n",
      "         0.6148, 0.3542, 0.7138, 0.8005, 0.5541, 0.3134, 0.5428, 0.3188, 0.6216,\n",
      "         0.3162, 0.5261]], grad_fn=<SigmoidBackward>)\n"
     ]
    }
   ],
   "source": [
    "G = Generator()\n",
    "G.to(device)\n",
    "\n",
    "output = G.forward(generate_random_seed(max_length_smiles))\n",
    "\n",
    "print(\"output\", output)\n"
   ]
  },
  {
   "cell_type": "code",
   "execution_count": 15,
   "metadata": {},
   "outputs": [
    {
     "name": "stdout",
     "output_type": "stream",
     "text": [
      "epoch =  1\n",
      "counter =  10000\n",
      "counter =  20000\n",
      "counter =  30000\n",
      "counter =  40000\n",
      "counter =  50000\n",
      "counter =  60000\n",
      "counter =  70000\n",
      "counter =  80000\n",
      "counter =  90000\n",
      "counter =  100000\n",
      "counter =  110000\n",
      "counter =  120000\n",
      "counter =  130000\n",
      "counter =  140000\n",
      "counter =  150000\n",
      "counter =  160000\n",
      "counter =  170000\n",
      "counter =  180000\n",
      "counter =  190000\n",
      "counter =  200000\n",
      "counter =  210000\n",
      "counter =  220000\n",
      "counter =  230000\n",
      "counter =  240000\n",
      "counter =  250000\n",
      "counter =  260000\n",
      "CPU times: user 21min 13s, sys: 16.2 s, total: 21min 29s\n",
      "Wall time: 21min 24s\n"
     ]
    }
   ],
   "source": [
    "%%time \n",
    "D = Discriminator()\n",
    "D.to(device)\n",
    "\n",
    "G = Generator()\n",
    "G.to(device)\n",
    "\n",
    "\n",
    "epochs = 1\n",
    "\n",
    "for epoch in range(epochs):\n",
    "    print (\"epoch = \", epoch + 1)\n",
    "\n",
    "    # train Discriminator and Generator\n",
    "    for smiles,label,target in data_loader:\n",
    "        # train discriminator on true\n",
    "        D.train(smiles, torch.cuda.FloatTensor([1.0]))\n",
    "\n",
    "        # train discriminator on false\n",
    "        # use detach() so gradients in G are not calculated\n",
    "        D.train(G.forward(generate_random_seed(max_length_smiles)).detach(), torch.cuda.FloatTensor([0.0]))\n",
    "        # train generator\n",
    "        G.train(D, generate_random_seed(max_length_smiles), torch.cuda.FloatTensor([1.0]))\n",
    "\n",
    "    pass\n",
    "    \n",
    "pass"
   ]
  },
  {
   "cell_type": "code",
   "execution_count": 17,
   "metadata": {},
   "outputs": [
    {
     "name": "stdout",
     "output_type": "stream",
     "text": [
      "save model to file: pre_train_model/GAN5_G_2021_04_08_21_48.sav\n",
      "save model to file: pre_train_model/GAN5_D_2021_04_08_21_48.sav\n"
     ]
    },
    {
     "data": {
      "text/plain": [
       "tensor([0.5000], grad_fn=<SigmoidBackward>)"
      ]
     },
     "execution_count": 17,
     "metadata": {},
     "output_type": "execute_result"
    }
   ],
   "source": [
    "import pickle\n",
    "from datetime import datetime\n",
    "\n",
    "now = datetime.now() \n",
    "date_time = now.strftime(\"%Y_%m_%d_%H_%M\")\n",
    "G_filename = 'pre_train_model/GAN5_G_' + date_time + '.sav'\n",
    "print('save model to file:', G_filename)\n",
    "pickle.dump(G, open(G_filename, 'wb'))\n",
    "\n",
    "D_filename = 'pre_train_model/GAN5_D_' + date_time + '.sav'\n",
    "print('save model to file:', D_filename)\n",
    "pickle.dump(D, open(D_filename, 'wb'))\n",
    "\n",
    "G_model = pickle.load(open(G_filename, 'rb'))\n",
    "D_model = pickle.load(open(D_filename, 'rb'))\n",
    "\n",
    "output = G_model.forward(generate_random_seed(max_length_smiles))\n",
    "D_model.forward(output)"
   ]
  },
  {
   "cell_type": "code",
   "execution_count": 18,
   "metadata": {},
   "outputs": [
    {
     "data": {
      "image/png": "[encoded data removed]",
      "text/plain": [
       "<Figure size 1152x576 with 1 Axes>"
      ]
     },
     "metadata": {
      "needs_background": "light"
     },
     "output_type": "display_data"
    }
   ],
   "source": [
    "D.plot_progress()"
   ]
  },
  {
   "cell_type": "code",
   "execution_count": 19,
   "metadata": {},
   "outputs": [
    {
     "data": {
      "image/png": "[encoded data removed]",
      "text/plain": [
       "<Figure size 1152x576 with 1 Axes>"
      ]
     },
     "metadata": {
      "needs_background": "light"
     },
     "output_type": "display_data"
    }
   ],
   "source": [
    "G.plot_progress()"
   ]
  },
  {
   "cell_type": "code",
   "execution_count": 21,
   "metadata": {},
   "outputs": [
    {
     "name": "stdout",
     "output_type": "stream",
     "text": [
      "smiles: [[ 96  46 124  58  85  11 123  72  75 117  56  29  81  55  90  93  64  34\n",
      "   56   4  46  10  44  27  48  45  30  75   5]]\n",
      "smiles: [[ 97  46 125  54  87  11 124  74  76 117  52  29  83  52  91  93  63  33\n",
      "   56   4  49  10  45  29  49  48  29  70   5]]\n",
      "smiles: [[ 97  45 124  60  87  11 124  77  75 118  54  27  85  54  90  94  63  33\n",
      "   54   4  46  10  45  27  49  47  31  73   5]]\n",
      "smiles: [[ 97  45 124  59  86  11 124  73  75 118  52  28  82  53  91  95  63  33\n",
      "   55   4  47  10  44  28  50  47  30  73   5]]\n",
      "smiles: [[ 97  45 125  58  86  10 124  76  73 118  54  24  83  55  91  95  63  33\n",
      "   55   4  46  10  46  27  49  47  30  74   5]]\n",
      "smiles: [[ 97  46 125  57  86  12 124  70  73 118  54  26  80  54  92  92  64  32\n",
      "   57   4  48  10  46  27  48  48  29  75   5]]\n",
      "smiles: [[ 97  46 125  56  85  11 124  71  76 117  52  27  84  50  90  93  65  33\n",
      "   55   4  46  10  44  27  49  46  30  73   5]]\n",
      "smiles: [[ 96  45 125  57  84  10 124  71  74 118  51  27  82  56  92  93  62  32\n",
      "   55   4  47  10  44  27  50  47  29  73   5]]\n",
      "smiles: [[ 97  45 124  55  86  12 124  74  73 117  53  30  84  56  91  88  63  32\n",
      "   55   4  49  10  44  28  49  47  30  72   5]]\n",
      "smiles: [[ 98  45 125  58  87  10 124  76  74 118  54  27  84  56  90  95  64  33\n",
      "   55   4  47   9  45  27  49  47  30  73   5]]\n",
      "0.5000884532928467\n",
      "0.5001528859138489\n",
      "0.5000645518302917\n",
      "0.49992549419403076\n",
      "0.4987782835960388\n",
      "0.5001283288002014\n",
      "0.4998649060726166\n",
      "0.5002738237380981\n",
      "0.5000219345092773\n",
      "0.4999375343322754\n"
     ]
    }
   ],
   "source": [
    "for i in range(10):\n",
    "    output = G.forward(generate_random_seed(max_length_smiles))\n",
    "    smiles = output.detach().cpu().numpy() * 128\n",
    "    print(\"smiles:\", smiles.astype(int) )           \n",
    "    #print(convertASCIIToString(smiles))\n",
    "    pass\n",
    "\n",
    "for i in range(10):\n",
    "    data_tensor,_,_ = qm9dataset[random.randint(0,130000)]\n",
    "    #print(D_model.forward(data_tensor).item())\n",
    "    print(D.forward( data_tensor ).item() )"
   ]
  },
  {
   "cell_type": "code",
   "execution_count": null,
   "metadata": {},
   "outputs": [],
   "source": []
  }
 ],
 "metadata": {
  "kernelspec": {
   "display_name": "Python 3",
   "language": "python",
   "name": "python3"
  },
  "language_info": {
   "codemirror_mode": {
    "name": "ipython",
    "version": 3
   },
   "file_extension": ".py",
   "mimetype": "text/x-python",
   "name": "python",
   "nbconvert_exporter": "python",
   "pygments_lexer": "ipython3",
   "version": "3.7.6"
  }
 },
 "nbformat": 4,
 "nbformat_minor": 4
}
