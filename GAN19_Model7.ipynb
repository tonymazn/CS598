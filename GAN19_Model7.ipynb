{
 "cells": [
  {
   "cell_type": "code",
   "execution_count": 1,
   "metadata": {},
   "outputs": [],
   "source": [
    "import numpy as np\n",
    "import pandas as pd\n",
    "import matplotlib.pyplot as plt\n",
    "from rdkit import Chem, DataStructs\n",
    "from rdkit.Chem import PandasTools, AllChem\n",
    "from molvecgen.vectorizers import SmilesVectorizer\n",
    "from sklearn.preprocessing import StandardScaler\n",
    "from sklearn.model_selection import train_test_split\n",
    "import torch\n",
    "import torch.nn as nn\n",
    "import torch.nn.functional as F\n",
    "from torch.utils.data import Dataset\n",
    "from torch.optim.lr_scheduler import ReduceLROnPlateau\n",
    "import pandas, numpy, random\n",
    "import matplotlib.pyplot as plt\n",
    "from sklearn.model_selection import train_test_split"
   ]
  },
  {
   "cell_type": "code",
   "execution_count": 2,
   "metadata": {},
   "outputs": [],
   "source": [
    "# To make simpler model, we setup a baseline, when molecular's mu > baseline, we set it to 1, otherwise 0\n",
    "baseline = 2.3\n",
    "\n",
    "# Model setting\n",
    "epochs = 16\n",
    "batch_size = 1   # The mini_batch size during training\n",
    "G_input_size = 100 # The Generator input data size\n",
    "learning_rate_D = 0.10000 # The Discriminator initial learning rate for the optimizer \n",
    "learning_rate_G = 0.10000  # The Generator initial learning rate for the optimizer\n"
   ]
  },
  {
   "cell_type": "code",
   "execution_count": 3,
   "metadata": {},
   "outputs": [],
   "source": [
    "# dataset\n",
    "class SMILESMolDataset(Dataset):\n",
    "    def __init__(self, molecules, y, vectorizer):\n",
    "        self.molecules = molecules\n",
    "        self.y = y\n",
    "        self.vectorizer = vectorizer\n",
    "    def __len__(self):\n",
    "        return len(self.molecules)\n",
    "    def __getitem__(self, idx):\n",
    "        if torch.is_tensor(idx):\n",
    "            idx = idx.tolist()\n",
    "        \n",
    "        mols = self.molecules[idx]\n",
    "         \n",
    "        #The vectorizer was written to work with batches, \n",
    "        #but PyTorch datasets unfortunately works with single samples\n",
    "        sample = self.vectorizer.transform([mols])[0]\n",
    "        label = float(self.y[idx] > baseline)\n",
    "        #print(\"self.y[idx]\", self.y[idx], 'label', label)\n",
    "\n",
    "        target = torch.FloatTensor([label])\n",
    "        \n",
    "        return sample, label, target"
   ]
  },
  {
   "cell_type": "code",
   "execution_count": 4,
   "metadata": {},
   "outputs": [
    {
     "data": {
      "text/html": [
       "<div>\n",
       "<style scoped>\n",
       "    .dataframe tbody tr th:only-of-type {\n",
       "        vertical-align: middle;\n",
       "    }\n",
       "\n",
       "    .dataframe tbody tr th {\n",
       "        vertical-align: top;\n",
       "    }\n",
       "\n",
       "    .dataframe thead th {\n",
       "        text-align: right;\n",
       "    }\n",
       "</style>\n",
       "<table border=\"1\" class=\"dataframe\">\n",
       "  <thead>\n",
       "    <tr style=\"text-align: right;\">\n",
       "      <th></th>\n",
       "      <th>smiles</th>\n",
       "      <th>mu</th>\n",
       "      <th>alpha</th>\n",
       "      <th>homo</th>\n",
       "      <th>lumo</th>\n",
       "      <th>gap</th>\n",
       "      <th>r2</th>\n",
       "      <th>zpve</th>\n",
       "      <th>cv</th>\n",
       "      <th>u0</th>\n",
       "      <th>u298</th>\n",
       "      <th>h298</th>\n",
       "      <th>g298</th>\n",
       "      <th>Molecule</th>\n",
       "    </tr>\n",
       "  </thead>\n",
       "  <tbody>\n",
       "    <tr>\n",
       "      <th>200</th>\n",
       "      <td>Cc1cc[nH]c1</td>\n",
       "      <td>1.6978</td>\n",
       "      <td>55.32</td>\n",
       "      <td>-0.1982</td>\n",
       "      <td>0.0533</td>\n",
       "      <td>0.2515</td>\n",
       "      <td>528.9258</td>\n",
       "      <td>0.109903</td>\n",
       "      <td>20.948</td>\n",
       "      <td>-249.395323</td>\n",
       "      <td>-249.389640</td>\n",
       "      <td>-249.388696</td>\n",
       "      <td>-249.424242</td>\n",
       "      <td><img data-content=\"rdkit/molecule\" src=\"data:image/png;base64,iVBORw0KGgoAAAANSUhEUgAAAMgAAADICAIAAAAiOjnJAAAABmJLR0QA/wD/AP+gvaeTAAAPqElEQVR4nO3dcUyU9R/A8c8dXHcwUBAEUox0sBw4lVC2IlqKv03rdM0K0nk0wkBU0HL+CM3OKe0Xvxrdrxx6SmsXig3HsrNwQ8sKWoOQlKEo/EJESEPwUOE4PB6+vz+eX49Gyh14n+e55/i81l/69Z6P7e3Dcd+H51EwxoAQV1NKPQDxTBQWQUFhERQUFkFBYREUFBZBQWERFBQWQUFhERQUFkFBYREUFBZBQWERFBQWQUFhERQUFkFBYREUFBZBQWERFBQWQUFhERQUFkFBYREUFBZBQWERFBQWQUFhERQUFkFBYREUFBZBQWERFBQWQUFhERQUFkFBYREUFBZBQWERFBQWQUFhERQUFkFBYREUFBZBQWERFBQWQUFhERQUFkFBYREUFNZfcBzX2Ngo9RSegMICAOA4rrq6etOmTeHh4fHx8cuXLz99+rTUQ8mbYiI/YdVms1VWVpaXlx87dsxisfC/GBQU1NPTExUVVV9f7+fnJ+2EMsYmHqvVajabdTrdpEmThP8P0dHRer2+rq7OZrPFxsYCwGuvvSb1pDI2gcLq7+/ne7r3PMT31NTUdO/KlpYWf39/ACgpKZFqWrnz/LBu3LhhMpm0Wq1areZjUiqVcXFxer2+ubn5QX+quLgYAPz8/C5evCjmtB7DY8Pq7u7me1KpVHxPXl5eCQkJBoOho6PDmVdYvXo1ACxYsGBwcBB7Ws/jaWFduXLFaDRqtVpvb+8RPV29enVML9Xb2ztz5kwAyM3NRZrWg3lIWG1tbQaDISEhQaFQ8D1pNBqtVms0Gru6usb9srW1tSqVSqlUVlZWunDaiUDeYf32228jevLx8dFqtSaT6ebNmy45RH5+PgCEhISM9YQ3wckyrMbGRr1eHxcXJ3xz5+vry/d0+/Zt1x6L47ikpCQAWLp06fDwsGtf3IPJKSy+p9mzZws9TZkyRafTmc1mm82Gd9yOjo7g4GAAKCwsxDuKh3H3sDiOq6ur0+v1kZGRQk/BwcF8T3fu3BFnjIqKCoVCoVKpampqxDmi3LlpWENDQ1VVVTk5OdOmTRN6mjFjRkZGhtlsttvt4o+UnZ0NAJGRkbdu3RL/6LLjXmEJPYWFhQk9RURE5OTkVFVVSfsWx2azzZ8/HwDS0tIkHEMu3CKsgYEBs9mckZExdepUoadZs2Zh9zQ8PFxTU3PgwAEn1zc3N/PbQQcPHkQayWNIGdbom8F4xx3xvk2lUvX09Dj5Z/fv389v9YyyHUSYJGGNshl84cIFvOPa7faTJ09mZWXd+3X2scce27x585g+o1q1ahUALFy4kLZ6RiFeWD09PQ/aDG5pacE7rsvft1kslscffxwA8vLyMAb2DOhhdXV1FRUVJSUlCZt33t7eSUlJRUVFqJ9l8+/bdDpdQECAy9+31dTU8Fs9J06ccNXAHgY3rMHBwb179z7kZvCYjPK+7dy5cy480K5duwAgNDT02rVrLnxZj4EbFn/leEBAQElJicViwTuQxWIpKysT830bx3GLFy8GgGXLltFWz9+JEVZsbCzS6wvv2x555BHhfVtCQsL777+P+r6NJ2z1GAwG7GPJjizDun79+oMu4uvs7HTtsUb3zTffKBQKtVpdX18v5nHdn5zCam9vNxgMS5Ys+ftFfBK+0dmwYQNt9fydDMK6dOnSfS/iM5lMvb29rhp13Gw227x58wAgPT1d6lnciPuGNcpFfO52bjh37pyvry8AHDp0SOpZ3IXbhcVfdBUdHS18cxcQEPDKK6+YTKa+vj68UR/Svn37AGDy5Mmtra1Sz+IW3CWs+vr6rVu3zpo1S+gpODh47dq1x48fl8vOyauvvspv9Yh2lZg7c5ewNm3aJPQk8kV8riJs9Wzfvl3qWaTnLmHV1ta++eab1dXVHMehjoSqqqrK29tbqVSePHlS6lkk5i5heYydO3cCwPTp069fvy71LFKi2xi52I4dOxYvXtzZ2Zmamsom8J18KCwXUyqVJpMpKCjo+PHje/bskXocyVBYrhceHm4ymRQKxdatW8+cOSP1ONKgsFC88MIL69atGxwcTE5O7uvrk3ocCVBYWAoLC+fNm9fS0vLWW29JPYsEKCwsGo3m0KFDvr6+Bw4cOHz4sNTjiI3CQhQTE/Phhx8CwPr169va2qQeR1QUFq6srKyUlJTe3t6UlBS73S71OOKhsNDt27cvIiKitrZ29+7dUs8iHgoLHX/Jv5eX13vvvffdd99JPY5IKCwxJCYmvvPOO8PDw6mpqd3d3VKPIwYKSyTvvvvuokWLOjs7+dvHSz0OOgpLJEql8vPPPw8KCqqoqCgqKpJ6HHQUlnjCw8P5e4ps2bLl7NmzUo+Di8IS1cqVKzMzMwcHB1evXm21WqUeBxFuWEpl9OzZ/dOnn0I9irwYDIa5c+eeP3/es7d6cMMaHtZcuODb2TkZ9SjyotFoSktLfXx8jEbjF198IfU4WOhLoQRiYmI++OADAMjKyvLUrR4KSxobNmx48cUXe3t7dTrd0NCQ1OO4HoXlYs6fgT799NOQkJBffvlFpVIpZCg0NHSUvx2F5UqlpaVPPPHEmK5I9tQPS72lHsBztLa2ZmVl3blzx8fHx5n16enpXV1dzzzzzKlTp4TbnHgO1J8BOn2aAbCJ8NNfdrv9qaeeAoCXX37ZmfX8WS0gIODSpUvIo0mDwnKN3NxcAJgxY4Yzd/ZubGzkz2qHDx8WYTZJUFgucOrUKS8vL29v759++snh4oGBgblz5wJAZmamCLNJhcJ6WF1dXY8++igA5OfnO7M+MzMTAKKjo/v7+7FnkxCF9VCGh4eXL18OAM8+++zQ0JDD9eXl5QCgVqvPnDkjwngSorAeSmFhIQAEBgZevnzZ4eIrV64EBQUBwJ49e0SYTVoU1vg1NDRoNBqFQnH06FGHizmOW7RoEQA8//zzE+H23RTWOPX19fHPes3OznZmvV6vh4l0FxoKa5zS0tIAYM6cOVar1eHiH3/80cvLS6lUfvvttyLM5g4orPEoKysDAI1G09DQ4HCxxWKJiIgAgB07dogwm5ugsMastbV18uTJALB//35n1qekpABAfHy87G5++TAorLERtm5eeuklZ9bzPzfhwVs3D0JhjU1eXt6Ytm74+7+XlpaKMJtbobDG4Pvvv+e3bqqrqx0uHhgY4J9Y8cYbb4gwm7uhsJx1/fr1adOmAcCuXbucWZ+VlQUAUVFRt2/fxp7NDVFYThkeHl6xYgUAJCYmOrN18/XXXysUCrVa/euvv4ownhuisJxiMBjGsXXz8ccfizCbe6KwHGtoaOAvn3Jy64aevMooLIeErZuNGzc6s54eIMDDDauzk/3zn+w//0E9CK7XX38dAGJiYpzZuqFHnghww5K7I0eO8Fs3Z8+edbiYHtJ0Lwrrgdrb2wMDAwHAaDQ6s54eK3cvCuv+7Hb7008/DQArV650Zj09CHMEx2Gp1QyAXb16n9/6178YANuw4T7rfX3ZH3+MXL97NwNgev14hxXRtm3bACA8PNyZrRt6dO/fYf0ktNUK//430muj++GHHwoKCpRKZUlJyZQpU0ZfLNzsKj09ffXq1eJM6P6wwvLxgb174Y8/kF4ekcViSU1N5ThOr9c/99xzDtfzt+eLjIz86KOP8KeTDayw1q2T5UmLMZaWltbe3p6YmLh9+3aH6/kbiqrV6rKyMn9/fxEmlAussLZsAX9/2LdPZietTz755KuvvgoMDOTvzD76YuEWyAUFBbGxseJMKBdYYQUFwcaNYLVCQQHSEVyvsbHx7bffhj+fJTH6YuGm7cuWLcvJyRFlQDlBvI2RcNK6dg3vIC5jtVqTk5MHBgbWr1+fnJzscD3/mInQ0NDPPvtMoVCIMKHMOPy+kf/4YJT/7vtxw8AAY4zl5TEAtnnz/39rxMcNbrWZtnbtWnB666ampkalUimVyhMnTogwmxw5e1umJ58ElWrkL/7+O1y5Mtqf2rIF9uwBoxFycyEs7C+/1dYGkZEwfz5otbBmDURGOv1PAUF5eXlxcbFw29nRFwuP8srLy1uyZIk4E8qPw/TG9wEpf8ZijG3bxgDYpk2M/fWMdfQo8/H5/zlPoWDx8ayggP33vw/1r2R8Ll++HBAQAAB79+51Zv2qVasAYOHChYODg9izyRd6WD09zN+faTTs999Hfim0WpnZzHQ6NmnS3S+s0dFMr2d1dQ/zlxobu92u1+udvGEa/2gJPz+/5uZm7MFkDT0sds9J60FbOgMDzGxmGRls6tS7hc2axXJyWFUVE+dqOY7jHK5pbm728/MDgIMHD4owkqyJEZZw0lq/3sFe4dAQq6piOTksLOxuYRERohb2IDabbf78+QCQlpYm5RwyIUZY7M+TFv+myplNaKGwadPuFjZjBsvIYGYzs9sdv4LLZWdnA0BkZOStW7ckOLzciBQWf9Li+xjT1Q0cx+rqmF7PIiPvFhYczHQ6ZjYz0S58qqioUCgUKpWqpqZGpEPKnEj3eZ8yBcb36bRSCXFxsHMntLRAYyPo9TB7NnR3Q0kJrFgBYWGQmgrHjsHgoKsnvkdnZ2dqaipjrKCgID4+HvFInkTqssfjzBm2YweLjr57DluypGTNmjVffvmlMx9vjgnHcUlJSQCwdOnSifxTN2Mly7AE58+z3btZbCx78sl/8P9OfHx8tFqtyWS6efOmSw6Rn58PACEhIVfv+26APIC8wxK0tbUZDIaEhARh206j0Wi1WqPR2NXVNe6Xra2t5bduKisrXTjtROAhYQna29uNRqNWqxUeIuLl5ZWQkGAwGMZ6yunt7Z05cyYA5ObmIk3rwTwtLEF3d7fJZNJqtao/9ziFwjo6Opx5Bf464wULFtDWzTh4bFiCGzdu8IWp1Wq+MKVSGRcXp9frR9mWKS4uBgA/P7+LFy+KOa3H8PywBP39/WazWafT8dsyvOjoaL1e39TUdO/KlpYW/jrjkpISqaaVuwkUlsBqtfKFTZo0aURhdXV1NpuNv86Yv+yYjI+CeeiDGJ1hs9kqKyvLy8uPHTtmsVj4XwwKCurp6YmKiqqvr7/33EbGZEKHJeA47ueffz5y5EhZWdnNmzeTkpJ27twZFxcn9VwyRmH9BcdxTU1Nc+bMkXoQ2aOwCAp62DhBQWERFBQWQUFhERQUFkFBYREUFBZBQWERFBQWQUFhERQUFkFBYREUFBZBQWERFBQWQUFhERQUFkFBYREUFBZBQWERFBQWQUFhERQUFkFBYREUFBZBQWERFBQWQUFhERQUFkFBYREUFBZBQWERFBQWQUFhERQUFkFBYREUFBZBQWERFBQWQUFhERQUFkFBYREUFBZBQWERFBQWQUFhERQUFkHxP90ZQpoFevsrAAAAAElFTkSuQmCC\" alt=\"Mol\"/></td>\n",
       "    </tr>\n",
       "    <tr>\n",
       "      <th>201</th>\n",
       "      <td>Cc1c[nH]cn1</td>\n",
       "      <td>3.3147</td>\n",
       "      <td>51.32</td>\n",
       "      <td>-0.2157</td>\n",
       "      <td>0.0376</td>\n",
       "      <td>0.2533</td>\n",
       "      <td>500.6403</td>\n",
       "      <td>0.098598</td>\n",
       "      <td>19.536</td>\n",
       "      <td>-265.457424</td>\n",
       "      <td>-265.451994</td>\n",
       "      <td>-265.451050</td>\n",
       "      <td>-265.486153</td>\n",
       "      <td><img data-content=\"rdkit/molecule\" src=\"data:image/png;base64,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\" alt=\"Mol\"/></td>\n",
       "    </tr>\n",
       "    <tr>\n",
       "      <th>202</th>\n",
       "      <td>Cc1ccoc1</td>\n",
       "      <td>0.8398</td>\n",
       "      <td>51.11</td>\n",
       "      <td>-0.2183</td>\n",
       "      <td>0.0250</td>\n",
       "      <td>0.2434</td>\n",
       "      <td>512.5694</td>\n",
       "      <td>0.097541</td>\n",
       "      <td>19.399</td>\n",
       "      <td>-269.263476</td>\n",
       "      <td>-269.258130</td>\n",
       "      <td>-269.257186</td>\n",
       "      <td>-269.292093</td>\n",
       "      <td><img data-content=\"rdkit/molecule\" src=\"data:image/png;base64,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\" alt=\"Mol\"/></td>\n",
       "    </tr>\n",
       "  </tbody>\n",
       "</table>\n",
       "</div>"
      ],
      "text/plain": [
       "          smiles      mu  alpha    homo    lumo     gap        r2      zpve  \\\n",
       "200  Cc1cc[nH]c1  1.6978  55.32 -0.1982  0.0533  0.2515  528.9258  0.109903   \n",
       "201  Cc1c[nH]cn1  3.3147  51.32 -0.2157  0.0376  0.2533  500.6403  0.098598   \n",
       "202     Cc1ccoc1  0.8398  51.11 -0.2183  0.0250  0.2434  512.5694  0.097541   \n",
       "\n",
       "         cv          u0        u298        h298        g298  \\\n",
       "200  20.948 -249.395323 -249.389640 -249.388696 -249.424242   \n",
       "201  19.536 -265.457424 -265.451994 -265.451050 -265.486153   \n",
       "202  19.399 -269.263476 -269.258130 -269.257186 -269.292093   \n",
       "\n",
       "                                              Molecule  \n",
       "200  <img data-content=\"rdkit/molecule\" src=\"data:i...  \n",
       "201  <img data-content=\"rdkit/molecule\" src=\"data:i...  \n",
       "202  <img data-content=\"rdkit/molecule\" src=\"data:i...  "
      ]
     },
     "execution_count": 4,
     "metadata": {},
     "output_type": "execute_result"
    }
   ],
   "source": [
    "# read qm9.csv to get data\n",
    "dataset = pandas.read_csv('dataset/qm9.csv',skiprows=lambda i: i % 2 != 0 and i == 0,nrows=6000)\n",
    "PandasTools.AddMoleculeColumnToFrame(dataset,'smiles','Molecule')\n",
    "\n",
    "smivec = SmilesVectorizer(pad=1, leftpad=True, canonical=False, augment=True)\n",
    "smivec.fit(dataset.Molecule.values, )\n",
    "\n",
    "dataset[200:203]"
   ]
  },
  {
   "cell_type": "code",
   "execution_count": 5,
   "metadata": {},
   "outputs": [
    {
     "name": "stdout",
     "output_type": "stream",
     "text": [
      "length of x_train: 3000 x_data 3000 y_train 3000 y_data 3000\n"
     ]
    }
   ],
   "source": [
    "# x_data(SMILES/Molecule) is the data for Generator,but we don't use y_data, we will use random y;\n",
    "# x_train, y_train are real examples, it will pass to Discriminator;\n",
    "x_train, x_data, y_train, y_data = train_test_split(dataset[['smiles','Molecule']].values, dataset['mu'].values, test_size=0.5)\n",
    "x_train = pd.DataFrame(x_train, columns=['smiles','Molecule'])\n",
    "x_data = pd.DataFrame(x_data, columns=['smiles','Molecule'])\n",
    "\n",
    "print('length of x_train:',len(x_train),'x_data',len(x_data),'y_train', len(y_train), 'y_data', len(y_data))\n"
   ]
  },
  {
   "cell_type": "code",
   "execution_count": 6,
   "metadata": {},
   "outputs": [
    {
     "name": "stdout",
     "output_type": "stream",
     "text": [
      " > baseline 1482  <= baseline 1518\n",
      "number_of_data 3000 max_mu 14.4177 min_mu 0.0\n"
     ]
    }
   ],
   "source": [
    "# data statistics\n",
    "max_mu = max(y_data)\n",
    "min_mu = min(y_data)\n",
    "number_of_data = len(y_data)\n",
    "\n",
    "number1 = len(y_data[y_data > baseline])\n",
    "number2 = len(y_data[y_data <= baseline])\n",
    "print(' > baseline', number1, ' <= baseline', number2)\n",
    "print(\"number_of_data\", number_of_data, \"max_mu\", max_mu, \"min_mu\", min_mu)\n",
    "#real_data.head(5)\n",
    "\n",
    "\n",
    "#print(real_data['mu'])"
   ]
  },
  {
   "cell_type": "code",
   "execution_count": 7,
   "metadata": {},
   "outputs": [
    {
     "name": "stdout",
     "output_type": "stream",
     "text": [
      "tensor([1., 0., 0., 3., 2.])\n",
      "tensor([1., 0., 1., 1., 1.])\n"
     ]
    }
   ],
   "source": [
    "# functions to generate random data\n",
    "def generate_random_seed_G(size):\n",
    "    random_data = torch.randn(size)\n",
    "    return random_data\n",
    "\n",
    "\n",
    "def generate_random_value(size):\n",
    "    random_data = np.random.randint(0, baseline * 2,(1, size))\n",
    "    random_data = torch.FloatTensor(random_data)\n",
    "    return random_data.view(-1)\n",
    "\n",
    "def generate_random_label(size):\n",
    "    random_data = np.random.randint(0, 2,(1, size))\n",
    "    random_data = torch.FloatTensor(random_data)\n",
    "    return random_data.view(-1)\n",
    "\n",
    "\n",
    "class View(nn.Module):\n",
    "    def __init__(self, shape):\n",
    "        super().__init__()\n",
    "        self.shape = shape,\n",
    "\n",
    "    def forward(self, x):\n",
    "        return x.view(*self.shape)\n",
    "\n",
    "print(generate_random_value(5))\n",
    "print(generate_random_label(5))"
   ]
  },
  {
   "cell_type": "code",
   "execution_count": 8,
   "metadata": {},
   "outputs": [
    {
     "name": "stdout",
     "output_type": "stream",
     "text": [
      "data_dataset[10] (array([[0, 0, 0, 0, 0, 0, 0, 0, 0, 0, 0, 0, 0, 0, 0, 0, 0, 0, 0, 0, 0, 0,\n",
      "        0],\n",
      "       [0, 0, 0, 0, 0, 0, 0, 0, 0, 0, 0, 0, 0, 0, 0, 0, 0, 0, 0, 0, 0, 0,\n",
      "        0],\n",
      "       [0, 0, 0, 0, 0, 0, 0, 0, 0, 0, 0, 0, 0, 0, 0, 0, 0, 0, 0, 0, 0, 0,\n",
      "        0],\n",
      "       [0, 0, 0, 0, 0, 0, 0, 0, 0, 0, 0, 0, 0, 0, 0, 0, 0, 0, 0, 0, 0, 0,\n",
      "        0],\n",
      "       [0, 0, 0, 0, 0, 0, 0, 0, 0, 0, 0, 0, 0, 0, 0, 0, 0, 0, 0, 0, 0, 0,\n",
      "        0],\n",
      "       [0, 0, 0, 0, 0, 0, 0, 0, 0, 0, 0, 0, 0, 0, 0, 0, 0, 0, 0, 0, 0, 0,\n",
      "        0],\n",
      "       [0, 0, 0, 0, 0, 0, 0, 0, 0, 0, 0, 0, 0, 0, 0, 0, 0, 0, 0, 0, 0, 0,\n",
      "        0],\n",
      "       [0, 0, 0, 0, 0, 0, 0, 0, 0, 0, 0, 0, 0, 0, 0, 0, 0, 0, 0, 0, 0, 0,\n",
      "        0],\n",
      "       [0, 0, 0, 0, 0, 0, 0, 0, 0, 0, 0, 0, 0, 0, 0, 0, 0, 0, 0, 0, 0, 0,\n",
      "        0],\n",
      "       [0, 0, 0, 0, 0, 0, 0, 0, 0, 0, 0, 0, 0, 0, 0, 0, 0, 0, 0, 0, 0, 0,\n",
      "        0],\n",
      "       [0, 0, 0, 0, 0, 0, 0, 0, 0, 0, 0, 0, 0, 0, 0, 0, 0, 0, 0, 0, 0, 0,\n",
      "        0],\n",
      "       [0, 0, 0, 0, 0, 0, 0, 0, 0, 0, 0, 0, 0, 0, 0, 0, 0, 0, 0, 0, 1, 0,\n",
      "        0],\n",
      "       [0, 0, 0, 0, 0, 0, 0, 0, 0, 0, 0, 0, 0, 1, 0, 0, 0, 0, 0, 0, 0, 0,\n",
      "        0],\n",
      "       [0, 0, 0, 0, 0, 0, 0, 0, 0, 0, 0, 0, 0, 0, 0, 0, 0, 0, 1, 0, 0, 0,\n",
      "        0],\n",
      "       [0, 0, 0, 0, 0, 0, 0, 0, 0, 0, 0, 0, 0, 0, 0, 1, 0, 0, 0, 0, 0, 0,\n",
      "        0],\n",
      "       [0, 0, 0, 0, 0, 0, 0, 0, 0, 0, 0, 0, 0, 0, 0, 1, 0, 0, 0, 0, 0, 0,\n",
      "        0],\n",
      "       [0, 0, 0, 0, 0, 0, 0, 0, 0, 0, 0, 0, 0, 0, 0, 1, 0, 0, 0, 0, 0, 0,\n",
      "        0],\n",
      "       [0, 0, 0, 0, 0, 0, 0, 0, 0, 0, 0, 0, 0, 0, 0, 1, 0, 0, 0, 0, 0, 0,\n",
      "        0],\n",
      "       [0, 0, 0, 0, 0, 0, 0, 0, 0, 0, 1, 0, 0, 0, 0, 0, 0, 0, 0, 0, 0, 0,\n",
      "        0],\n",
      "       [0, 0, 0, 0, 0, 0, 0, 1, 0, 0, 0, 0, 0, 0, 0, 0, 0, 0, 0, 0, 0, 0,\n",
      "        0],\n",
      "       [0, 0, 0, 0, 0, 0, 0, 0, 0, 0, 0, 0, 0, 0, 1, 0, 0, 0, 0, 0, 0, 0,\n",
      "        0],\n",
      "       [0, 0, 0, 0, 0, 0, 0, 0, 0, 0, 0, 0, 1, 0, 0, 0, 0, 0, 0, 0, 0, 0,\n",
      "        0],\n",
      "       [0, 0, 0, 0, 0, 0, 0, 0, 0, 0, 0, 0, 0, 0, 0, 1, 0, 0, 0, 0, 0, 0,\n",
      "        0],\n",
      "       [0, 0, 0, 0, 0, 0, 0, 0, 0, 0, 0, 0, 0, 0, 0, 0, 0, 0, 1, 0, 0, 0,\n",
      "        0],\n",
      "       [0, 0, 0, 0, 0, 0, 0, 0, 0, 0, 0, 0, 0, 0, 0, 0, 0, 0, 0, 0, 0, 1,\n",
      "        0]], dtype=int8), 1.0, tensor([1.])) y_data 3.4201\n"
     ]
    }
   ],
   "source": [
    "# dataset for Generator, we 'Molecule' data will be used and actually ignore y_data in Generator, instead we use\n",
    "# random value, but keeping it simple, we shape one SMILESMolDataset class.\n",
    "data_dataset = SMILESMolDataset(x_data['Molecule'], y_data, smivec)\n",
    "print('data_dataset[10]', data_dataset[10], 'y_data', y_data[10] )"
   ]
  },
  {
   "cell_type": "code",
   "execution_count": 9,
   "metadata": {},
   "outputs": [
    {
     "data": {
      "text/plain": [
       "(array([[0, 0, 0, 0, 0, 0, 0, 0, 0, 0, 0, 0, 0, 0, 0, 0, 0, 0, 0, 0, 0, 0,\n",
       "         0],\n",
       "        [0, 0, 0, 0, 0, 0, 0, 0, 0, 0, 0, 0, 0, 0, 0, 0, 0, 0, 0, 0, 0, 0,\n",
       "         0],\n",
       "        [0, 0, 0, 0, 0, 0, 0, 0, 0, 0, 0, 0, 0, 0, 0, 0, 0, 0, 0, 0, 0, 0,\n",
       "         0],\n",
       "        [0, 0, 0, 0, 0, 0, 0, 0, 0, 0, 0, 0, 0, 0, 0, 0, 0, 0, 0, 0, 0, 0,\n",
       "         0],\n",
       "        [0, 0, 0, 0, 0, 0, 0, 0, 0, 0, 0, 0, 0, 0, 0, 0, 0, 0, 0, 0, 0, 0,\n",
       "         0],\n",
       "        [0, 0, 0, 0, 0, 0, 0, 0, 0, 0, 0, 0, 0, 0, 0, 0, 0, 0, 0, 0, 0, 0,\n",
       "         0],\n",
       "        [0, 0, 0, 0, 0, 0, 0, 0, 0, 0, 0, 0, 0, 0, 0, 0, 0, 0, 0, 0, 0, 0,\n",
       "         0],\n",
       "        [0, 0, 0, 0, 0, 0, 0, 0, 0, 0, 0, 0, 0, 0, 0, 0, 0, 0, 0, 0, 1, 0,\n",
       "         0],\n",
       "        [0, 0, 0, 0, 0, 0, 0, 0, 0, 0, 0, 0, 0, 0, 0, 1, 0, 0, 0, 0, 0, 0,\n",
       "         0],\n",
       "        [0, 0, 0, 0, 0, 0, 0, 0, 0, 0, 0, 0, 0, 0, 0, 0, 0, 0, 1, 0, 0, 0,\n",
       "         0],\n",
       "        [0, 0, 0, 0, 0, 0, 0, 0, 0, 0, 1, 0, 0, 0, 0, 0, 0, 0, 0, 0, 0, 0,\n",
       "         0],\n",
       "        [0, 0, 0, 0, 0, 0, 0, 0, 0, 0, 0, 0, 0, 0, 1, 0, 0, 0, 0, 0, 0, 0,\n",
       "         0],\n",
       "        [0, 0, 0, 0, 0, 0, 0, 0, 0, 0, 0, 0, 0, 0, 0, 0, 1, 0, 0, 0, 0, 0,\n",
       "         0],\n",
       "        [0, 0, 0, 0, 0, 0, 0, 0, 0, 0, 0, 0, 0, 0, 1, 0, 0, 0, 0, 0, 0, 0,\n",
       "         0],\n",
       "        [0, 0, 0, 0, 0, 0, 0, 0, 0, 0, 0, 0, 0, 0, 1, 0, 0, 0, 0, 0, 0, 0,\n",
       "         0],\n",
       "        [0, 0, 0, 0, 0, 0, 0, 0, 0, 0, 0, 0, 1, 0, 0, 0, 0, 0, 0, 0, 0, 0,\n",
       "         0],\n",
       "        [0, 0, 0, 0, 0, 0, 0, 0, 0, 0, 0, 0, 0, 0, 0, 1, 0, 0, 0, 0, 0, 0,\n",
       "         0],\n",
       "        [0, 0, 0, 0, 0, 0, 0, 0, 0, 0, 0, 0, 0, 0, 0, 1, 0, 0, 0, 0, 0, 0,\n",
       "         0],\n",
       "        [0, 0, 0, 0, 0, 0, 0, 0, 0, 0, 0, 0, 0, 0, 0, 1, 0, 0, 0, 0, 0, 0,\n",
       "         0],\n",
       "        [0, 0, 0, 0, 0, 0, 0, 0, 1, 0, 0, 0, 0, 0, 0, 0, 0, 0, 0, 0, 0, 0,\n",
       "         0],\n",
       "        [0, 0, 0, 0, 0, 0, 0, 0, 0, 0, 0, 0, 0, 1, 0, 0, 0, 0, 0, 0, 0, 0,\n",
       "         0],\n",
       "        [0, 0, 0, 0, 0, 0, 0, 0, 0, 0, 0, 1, 0, 0, 0, 0, 0, 0, 0, 0, 0, 0,\n",
       "         0],\n",
       "        [0, 0, 0, 0, 0, 0, 0, 0, 0, 0, 0, 0, 0, 0, 0, 0, 0, 1, 0, 0, 0, 0,\n",
       "         0],\n",
       "        [0, 0, 0, 0, 0, 0, 0, 0, 0, 0, 0, 0, 0, 0, 0, 0, 0, 0, 1, 0, 0, 0,\n",
       "         0],\n",
       "        [0, 0, 0, 0, 0, 0, 0, 0, 0, 0, 0, 0, 0, 0, 0, 0, 0, 0, 0, 0, 0, 1,\n",
       "         0]], dtype=int8),\n",
       " 0.0,\n",
       " tensor([0.]))"
      ]
     },
     "execution_count": 9,
     "metadata": {},
     "output_type": "execute_result"
    }
   ],
   "source": [
    "# Real examples\n",
    "train_dataset = SMILESMolDataset(x_train['Molecule'], y_train, smivec)\n",
    "train_dataset[10]"
   ]
  },
  {
   "cell_type": "code",
   "execution_count": 10,
   "metadata": {},
   "outputs": [
    {
     "data": {
      "text/plain": [
       "0.0"
      ]
     },
     "execution_count": 10,
     "metadata": {},
     "output_type": "execute_result"
    }
   ],
   "source": [
    "# return a random SMILES\n",
    "def generate_random_seed(size):\n",
    "    index_list = np.random.randint(1, number_of_data, (1, size))[0]\n",
    "    random_data = []\n",
    "    for i in index_list:\n",
    "          random_data.append( data_dataset[i] )\n",
    "    #random_data = data_dataset[10]\n",
    "    return random_data\n",
    "\n",
    "generate_random_seed(2)[0][1]"
   ]
  },
  {
   "cell_type": "code",
   "execution_count": 11,
   "metadata": {},
   "outputs": [],
   "source": [
    "# Model setting\n",
    "dims = smivec.dims"
   ]
  },
  {
   "cell_type": "code",
   "execution_count": 12,
   "metadata": {},
   "outputs": [],
   "source": [
    "# discriminator class\n",
    "class Discriminator(nn.Module):\n",
    "    \n",
    "    def __init__(self):\n",
    "        # initialise parent pytorch class\n",
    "        super().__init__()\n",
    "        \n",
    "        length = dims[0] \n",
    "        number_tokens = dims[1] + 1  # add the label layer\n",
    "\n",
    "        self.model = nn.Sequential(\n",
    "            View(length * number_tokens),\n",
    "            nn.Linear(length * number_tokens, 200),\n",
    "            nn.LeakyReLU(0.02),\n",
    "\n",
    "            nn.LayerNorm(200),\n",
    "\n",
    "            nn.Linear(200, 1),\n",
    "            nn.Sigmoid()\n",
    "        )\n",
    "        \n",
    "        \n",
    "        self.loss_function = nn.MSELoss()\n",
    "\n",
    "        self.optimiser = torch.optim.Adam(self.parameters(), lr=learning_rate_D)\n",
    "\n",
    "        # monitor\n",
    "        self.counter = 0;\n",
    "        self.progress = []\n",
    "\n",
    "        pass\n",
    "    \n",
    "    \n",
    "    def forward(self, input_tensor, label_tensor):\n",
    "        x = torch.cat((input_tensor, label_tensor), -1)\n",
    "        return self.model(x)\n",
    "    \n",
    "    \n",
    "    def train(self, inputs, label_tensor, targets):\n",
    "        outputs = self.forward(inputs, label_tensor)\n",
    "\n",
    "        loss = self.loss_function(outputs, targets)\n",
    "\n",
    "        # monitor\n",
    "        self.counter += 1;\n",
    "        if (self.counter % 10 == 0):\n",
    "            self.progress.append(loss.item())\n",
    "            pass\n",
    "        if (self.counter % 1000 == 0):\n",
    "            print(\"counter = \", self.counter)\n",
    "            pass\n",
    "\n",
    "        self.optimiser.zero_grad()\n",
    "        loss.backward()\n",
    "        self.optimiser.step()\n",
    "\n",
    "        pass\n",
    "    \n",
    "    # the plot to check convergent\n",
    "    def plot_progress(self):\n",
    "        df = pandas.DataFrame(self.progress, columns=['loss'])\n",
    "        df.plot(ylim=(0), figsize=(16,8), alpha=0.1, marker='.', grid=True, yticks=(0, 0.25, 0.5, 1.0, 5.0))\n",
    "        pass\n",
    "    \n",
    "    pass"
   ]
  },
  {
   "cell_type": "code",
   "execution_count": 13,
   "metadata": {},
   "outputs": [],
   "source": [
    "# load real examples\n",
    "from torch.utils.data import DataLoader\n",
    "data_loader = torch.utils.data.DataLoader(train_dataset,batch_size=batch_size,shuffle=True, num_workers=4,drop_last=True )\n",
    "\n"
   ]
  },
  {
   "cell_type": "code",
   "execution_count": 14,
   "metadata": {},
   "outputs": [
    {
     "data": {
      "text/plain": [
       "device(type='cuda')"
      ]
     },
     "execution_count": 14,
     "metadata": {},
     "output_type": "execute_result"
    }
   ],
   "source": [
    "# set device to gpu\n",
    "device = torch.device(\"cuda\" if torch.cuda.is_available() else \"cpu\")\n",
    "device"
   ]
  },
  {
   "cell_type": "code",
   "execution_count": 15,
   "metadata": {},
   "outputs": [
    {
     "name": "stdout",
     "output_type": "stream",
     "text": [
      "counter =  1000\n",
      "counter =  2000\n",
      "counter =  3000\n",
      "counter =  4000\n",
      "counter =  5000\n",
      "counter =  6000\n",
      "CPU times: user 24.5 s, sys: 1.66 s, total: 26.2 s\n",
      "Wall time: 27.3 s\n"
     ]
    }
   ],
   "source": [
    "%%time\n",
    "# test discriminator can separate real data from random noise\n",
    "D = Discriminator()\n",
    "D.to(device)\n",
    "\n",
    "for smiles,label, target in data_loader:\n",
    "    # real examples\n",
    "    target = target.view(1).to(device)\n",
    "    label = label.float().to(device)\n",
    "    label = label.view(batch_size, 1, 1).repeat(1, smiles.shape[1], 1)\n",
    "    D.train(smiles.to(device).float(), label, target)\n",
    "    \n",
    "    # noise data\n",
    "    fake_input = []\n",
    "    fake_label = []\n",
    "    for item in generate_random_seed(batch_size):\n",
    "        fake_input.append(item[0])\n",
    "        fake_label.append(item[1])\n",
    "    \n",
    "    target = torch.FloatTensor(fake_label).to(device)\n",
    "    fake_input = torch.FloatTensor(fake_input).to(device)\n",
    "    fake_label = torch.FloatTensor(fake_label).to(device)\n",
    "    fake_label = fake_label.view(batch_size, 1, 1).repeat(1, fake_input.shape[1], 1)\n",
    "    D.train(fake_input, fake_label, target)\n",
    "    \n",
    "    pass"
   ]
  },
  {
   "cell_type": "code",
   "execution_count": 16,
   "metadata": {},
   "outputs": [
    {
     "data": {
      "image/png": "[encoded data removed]",
      "text/plain": [
       "<Figure size 1152x576 with 1 Axes>"
      ]
     },
     "metadata": {
      "needs_background": "light"
     },
     "output_type": "display_data"
    }
   ],
   "source": [
    "# check Discriminator progress and converge\n",
    "D.plot_progress()"
   ]
  },
  {
   "cell_type": "code",
   "execution_count": 17,
   "metadata": {},
   "outputs": [
    {
     "name": "stdout",
     "output_type": "stream",
     "text": [
      "label tensor([[[0.],\n",
      "         [0.],\n",
      "         [0.],\n",
      "         [0.],\n",
      "         [0.],\n",
      "         [0.],\n",
      "         [0.],\n",
      "         [0.],\n",
      "         [0.],\n",
      "         [0.],\n",
      "         [0.],\n",
      "         [0.],\n",
      "         [0.],\n",
      "         [0.],\n",
      "         [0.],\n",
      "         [0.],\n",
      "         [0.],\n",
      "         [0.],\n",
      "         [0.],\n",
      "         [0.],\n",
      "         [0.],\n",
      "         [0.],\n",
      "         [0.],\n",
      "         [0.],\n",
      "         [0.]]], device='cuda:0')\n",
      "result tensor([0.], device='cuda:0', grad_fn=<SigmoidBackward>)\n"
     ]
    }
   ],
   "source": [
    "# unit test\n",
    "i = 0\n",
    "for smiles,label,target in data_loader:\n",
    "    # real\n",
    "    label = label.float().to(device)\n",
    "    label = label.view(batch_size, 1, 1).repeat(1, smiles.shape[1], 1)\n",
    "    result = D.forward(smiles.to(device).float(), label)\n",
    "    print('label', label)\n",
    "    print('result',result)\n",
    "    \n",
    "    \n",
    "    i += 1\n",
    "    if (i >= 1):\n",
    "        break\n",
    "    pass\n",
    "\n"
   ]
  },
  {
   "cell_type": "code",
   "execution_count": 18,
   "metadata": {},
   "outputs": [
    {
     "name": "stdout",
     "output_type": "stream",
     "text": [
      "fake_label tensor([[[0.],\n",
      "         [0.],\n",
      "         [0.],\n",
      "         [0.],\n",
      "         [0.],\n",
      "         [0.],\n",
      "         [0.],\n",
      "         [0.],\n",
      "         [0.],\n",
      "         [0.],\n",
      "         [0.],\n",
      "         [0.],\n",
      "         [0.],\n",
      "         [0.],\n",
      "         [0.],\n",
      "         [0.],\n",
      "         [0.],\n",
      "         [0.],\n",
      "         [0.],\n",
      "         [0.],\n",
      "         [0.],\n",
      "         [0.],\n",
      "         [0.],\n",
      "         [0.],\n",
      "         [0.]]], device='cuda:0')\n",
      "result tensor([0.], device='cuda:0', grad_fn=<SigmoidBackward>)\n"
     ]
    }
   ],
   "source": [
    "# unit test\n",
    "fake_input = []\n",
    "fake_label = []\n",
    "for item in generate_random_seed(batch_size):\n",
    "    fake_input.append(item[0])\n",
    "    fake_label.append(item[1])\n",
    "    \n",
    "target = torch.FloatTensor(fake_label).view(1,len(fake_label),1).to(device)\n",
    "fake_input = torch.FloatTensor(fake_input).to(device)\n",
    "    \n",
    "fake_label = torch.FloatTensor(fake_label).to(device)\n",
    "fake_label = fake_label.view(batch_size, 1, 1).repeat(1, fake_input.shape[1], 1)\n",
    "result = D.forward(fake_input, fake_label)\n",
    "print('fake_label', fake_label)\n",
    "print('result', result) \n"
   ]
  },
  {
   "cell_type": "code",
   "execution_count": 19,
   "metadata": {},
   "outputs": [],
   "source": [
    "# generator class\n",
    "\n",
    "class Generator(nn.Module):\n",
    "    \n",
    "    def __init__(self, batch_size):\n",
    "        super().__init__()\n",
    "        \n",
    "        self.batch_size = batch_size \n",
    "        self.model = nn.Sequential(\n",
    "            nn.Linear(G_input_size * 2, 200),\n",
    "            nn.LeakyReLU(0.02),\n",
    "            #nn.LayerNorm(200),\n",
    "            nn.Linear(200, number_of_data),\n",
    "            nn.Sigmoid()\n",
    "\n",
    "        )\n",
    "        \n",
    "        self.optimiser = torch.optim.Adam(self.parameters(), lr=learning_rate_G)\n",
    "        \n",
    "        # monitor\n",
    "        self.counter = 0;\n",
    "        self.progress = []\n",
    "        self.stop = False\n",
    "        \n",
    "        pass\n",
    "    \n",
    "    \n",
    "    def forward(self, seed_tensor, label_tensor):        \n",
    "        # combine seed and label\n",
    "        #print('Generator seed_tensor.shape', seed_tensor.shape, 'label_tensor', label_tensor.shape)\n",
    "        inputs = torch.cat((seed_tensor, label_tensor))\n",
    "        #print('after torch.cat', inputs.shape)\n",
    "        outputs = self.model(inputs)\n",
    "        #print('outputs', outputs)\n",
    "        return torch.argmax(F.softmax(outputs, dim=0))\n",
    "\n",
    "\n",
    "    def train(self, D, inputs, label_tensor, targets):\n",
    "        g_output = self.forward(inputs, label_tensor.repeat(G_input_size))\n",
    "\n",
    "        # get SMILES by g_output\n",
    "        g_smiles, _, _ = data_dataset[g_output]\n",
    "        \n",
    "        # convert SMILES to tensor\n",
    "        g_input = torch.FloatTensor(g_smiles).to(device)\n",
    "        g_input = g_input.reshape(1, g_input.shape[0], g_input.shape[1])\n",
    "        \n",
    "        # convert label_tensor dimension\n",
    "        g_label = label_tensor.repeat(1, g_input.shape[1], 1)\n",
    "        \n",
    "        # pass to discriminator\n",
    "        d_output = D.forward(g_input, g_label)\n",
    "        \n",
    "        loss = D.loss_function(d_output, targets)\n",
    "\n",
    "        # monitor\n",
    "        self.counter += 1;\n",
    "        if (self.counter % 10 == 0):\n",
    "            self.progress.append(loss.item())\n",
    "            pass\n",
    "        \n",
    "        \n",
    "        # zero gradients, perform a backward pass, update weights\n",
    "        self.optimiser.zero_grad()\n",
    "        loss.backward()\n",
    "        self.optimiser.step()\n",
    "\n",
    "        pass\n",
    "    \n",
    "    # a function to predict by label, return one SMILES\n",
    "    def get_smiles(self, label):\n",
    "        label_tensor = torch.zeros((G_input_size))\n",
    "        for i in range(G_input_size):\n",
    "            label_tensor[i] = label\n",
    "    \n",
    "        fake_input = torch.FloatTensor(generate_random_seed_G(G_input_size)).to(device)\n",
    "        fake_label = torch.FloatTensor(label_tensor).to(device)\n",
    "        idx = G.forward(fake_input, fake_label).detach().cpu().numpy()\n",
    "        return x_data['smiles'].iloc[idx]\n",
    "\n",
    "    \n",
    "    def plot_progress(self):\n",
    "        df = pandas.DataFrame(self.progress, columns=['loss'])\n",
    "        df.plot(ylim=(0), figsize=(16,8), alpha=0.1, marker='.', grid=True, yticks=(0, 0.25, 0.5, 1.0, 5.0))\n",
    "        pass\n",
    "    \n",
    "    pass"
   ]
  },
  {
   "cell_type": "code",
   "execution_count": 20,
   "metadata": {},
   "outputs": [
    {
     "name": "stdout",
     "output_type": "stream",
     "text": [
      "idx tensor(941, device='cuda:0')\n"
     ]
    },
    {
     "data": {
      "text/plain": [
       "(array([[0, 0, 0, 0, 0, 0, 0, 0, 0, 0, 0, 0, 0, 0, 0, 0, 0, 0, 0, 0, 0, 0,\n",
       "         0],\n",
       "        [0, 0, 0, 0, 0, 0, 0, 0, 0, 0, 0, 0, 0, 0, 0, 0, 0, 0, 0, 0, 0, 0,\n",
       "         0],\n",
       "        [0, 0, 0, 0, 0, 0, 0, 0, 0, 0, 0, 0, 0, 0, 0, 0, 0, 0, 0, 0, 0, 0,\n",
       "         0],\n",
       "        [0, 0, 0, 0, 0, 0, 0, 0, 0, 0, 0, 0, 0, 0, 0, 0, 0, 0, 0, 0, 0, 0,\n",
       "         0],\n",
       "        [0, 0, 0, 0, 0, 0, 0, 0, 0, 0, 0, 0, 0, 0, 0, 0, 0, 0, 0, 0, 0, 0,\n",
       "         0],\n",
       "        [0, 0, 0, 0, 0, 0, 0, 0, 0, 0, 0, 0, 0, 0, 0, 0, 0, 0, 0, 0, 0, 0,\n",
       "         0],\n",
       "        [0, 0, 0, 0, 0, 0, 0, 0, 0, 0, 0, 0, 0, 0, 0, 0, 0, 0, 0, 0, 0, 0,\n",
       "         0],\n",
       "        [0, 0, 0, 0, 0, 0, 0, 0, 0, 0, 0, 0, 0, 0, 0, 0, 0, 0, 0, 0, 0, 0,\n",
       "         0],\n",
       "        [0, 0, 0, 0, 0, 0, 0, 0, 0, 0, 0, 0, 0, 0, 0, 0, 0, 0, 0, 0, 0, 0,\n",
       "         0],\n",
       "        [0, 0, 0, 0, 0, 0, 0, 0, 0, 0, 0, 0, 0, 0, 0, 0, 0, 0, 0, 0, 0, 0,\n",
       "         0],\n",
       "        [0, 0, 0, 0, 0, 0, 0, 0, 0, 0, 0, 0, 0, 0, 0, 0, 0, 0, 0, 0, 1, 0,\n",
       "         0],\n",
       "        [0, 0, 0, 0, 0, 0, 0, 0, 0, 0, 0, 0, 0, 0, 1, 0, 0, 0, 0, 0, 0, 0,\n",
       "         0],\n",
       "        [0, 0, 0, 0, 0, 0, 0, 0, 0, 0, 1, 0, 0, 0, 0, 0, 0, 0, 0, 0, 0, 0,\n",
       "         0],\n",
       "        [0, 0, 0, 0, 0, 0, 0, 0, 0, 0, 0, 0, 0, 0, 1, 0, 0, 0, 0, 0, 0, 0,\n",
       "         0],\n",
       "        [0, 0, 0, 0, 0, 0, 0, 0, 0, 0, 1, 0, 0, 0, 0, 0, 0, 0, 0, 0, 0, 0,\n",
       "         0],\n",
       "        [0, 0, 0, 0, 0, 1, 0, 0, 0, 0, 0, 0, 0, 0, 0, 0, 0, 0, 0, 0, 0, 0,\n",
       "         0],\n",
       "        [1, 0, 0, 0, 0, 0, 0, 0, 0, 0, 0, 0, 0, 0, 0, 0, 0, 0, 0, 0, 0, 0,\n",
       "         0],\n",
       "        [0, 0, 0, 0, 0, 0, 0, 0, 0, 0, 0, 0, 1, 0, 0, 0, 0, 0, 0, 0, 0, 0,\n",
       "         0],\n",
       "        [0, 0, 0, 0, 0, 0, 0, 0, 0, 0, 0, 0, 0, 0, 1, 0, 0, 0, 0, 0, 0, 0,\n",
       "         0],\n",
       "        [0, 0, 0, 0, 0, 1, 0, 0, 0, 0, 0, 0, 0, 0, 0, 0, 0, 0, 0, 0, 0, 0,\n",
       "         0],\n",
       "        [1, 0, 0, 0, 0, 0, 0, 0, 0, 0, 0, 0, 0, 0, 0, 0, 0, 0, 0, 0, 0, 0,\n",
       "         0],\n",
       "        [0, 0, 0, 0, 0, 0, 0, 0, 0, 0, 0, 0, 1, 0, 0, 0, 0, 0, 0, 0, 0, 0,\n",
       "         0],\n",
       "        [0, 0, 0, 0, 0, 0, 0, 0, 0, 0, 0, 0, 0, 0, 0, 0, 1, 0, 0, 0, 0, 0,\n",
       "         0],\n",
       "        [0, 0, 0, 0, 0, 0, 0, 0, 0, 0, 0, 0, 0, 0, 1, 0, 0, 0, 0, 0, 0, 0,\n",
       "         0],\n",
       "        [0, 0, 0, 0, 0, 0, 0, 0, 0, 0, 0, 0, 0, 0, 0, 0, 0, 0, 0, 0, 0, 1,\n",
       "         0]], dtype=int8),\n",
       " 1.0,\n",
       " tensor([1.]))"
      ]
     },
     "execution_count": 20,
     "metadata": {},
     "output_type": "execute_result"
    }
   ],
   "source": [
    "# check the generator output is of the right type and shape\n",
    "G = Generator(1)\n",
    "G.to(device)\n",
    "\n",
    "fake_input = torch.FloatTensor(generate_random_seed_G(G_input_size)).to(device)\n",
    "fake_label = torch.FloatTensor(generate_random_value(G_input_size)).to(device)\n",
    "idx = G.forward(fake_input, fake_label)\n",
    "print('idx', idx)\n",
    "data_dataset[idx]\n"
   ]
  },
  {
   "cell_type": "code",
   "execution_count": 21,
   "metadata": {},
   "outputs": [
    {
     "data": {
      "text/plain": [
       "'C1C(CO1)CCO'"
      ]
     },
     "execution_count": 21,
     "metadata": {},
     "output_type": "execute_result"
    }
   ],
   "source": [
    "G.get_smiles(1.0)"
   ]
  },
  {
   "cell_type": "code",
   "execution_count": 22,
   "metadata": {},
   "outputs": [
    {
     "name": "stdout",
     "output_type": "stream",
     "text": [
      "epoch =  1\n",
      "counter =  1000\n",
      "counter =  2000\n",
      "counter =  3000\n",
      "counter =  4000\n",
      "counter =  5000\n",
      "counter =  6000\n",
      "epoch =  2\n",
      "counter =  7000\n",
      "counter =  8000\n",
      "counter =  9000\n",
      "counter =  10000\n",
      "counter =  11000\n",
      "counter =  12000\n",
      "epoch =  3\n",
      "counter =  13000\n",
      "counter =  14000\n",
      "counter =  15000\n",
      "counter =  16000\n",
      "counter =  17000\n",
      "counter =  18000\n",
      "epoch =  4\n",
      "counter =  19000\n",
      "counter =  20000\n",
      "counter =  21000\n",
      "counter =  22000\n",
      "counter =  23000\n",
      "counter =  24000\n",
      "epoch =  5\n",
      "counter =  25000\n",
      "counter =  26000\n",
      "counter =  27000\n",
      "counter =  28000\n",
      "counter =  29000\n",
      "counter =  30000\n",
      "epoch =  6\n",
      "counter =  31000\n",
      "counter =  32000\n",
      "counter =  33000\n",
      "counter =  34000\n",
      "counter =  35000\n",
      "counter =  36000\n",
      "epoch =  7\n",
      "counter =  37000\n",
      "counter =  38000\n",
      "counter =  39000\n",
      "counter =  40000\n",
      "counter =  41000\n",
      "counter =  42000\n",
      "epoch =  8\n",
      "counter =  43000\n",
      "counter =  44000\n",
      "counter =  45000\n",
      "counter =  46000\n",
      "counter =  47000\n",
      "counter =  48000\n",
      "epoch =  9\n",
      "counter =  49000\n",
      "counter =  50000\n",
      "counter =  51000\n",
      "counter =  52000\n",
      "counter =  53000\n",
      "counter =  54000\n",
      "epoch =  10\n",
      "counter =  55000\n",
      "counter =  56000\n",
      "counter =  57000\n",
      "counter =  58000\n",
      "counter =  59000\n",
      "counter =  60000\n",
      "epoch =  11\n",
      "counter =  61000\n",
      "counter =  62000\n",
      "counter =  63000\n",
      "counter =  64000\n",
      "counter =  65000\n",
      "counter =  66000\n",
      "epoch =  12\n",
      "counter =  67000\n",
      "counter =  68000\n",
      "counter =  69000\n",
      "counter =  70000\n",
      "counter =  71000\n",
      "counter =  72000\n",
      "epoch =  13\n",
      "counter =  73000\n",
      "counter =  74000\n",
      "counter =  75000\n",
      "counter =  76000\n",
      "counter =  77000\n",
      "counter =  78000\n",
      "epoch =  14\n",
      "counter =  79000\n",
      "counter =  80000\n",
      "counter =  81000\n",
      "counter =  82000\n",
      "counter =  83000\n",
      "counter =  84000\n",
      "epoch =  15\n",
      "counter =  85000\n",
      "counter =  86000\n",
      "counter =  87000\n",
      "counter =  88000\n",
      "counter =  89000\n",
      "counter =  90000\n",
      "epoch =  16\n",
      "counter =  91000\n",
      "counter =  92000\n",
      "counter =  93000\n",
      "counter =  94000\n",
      "counter =  95000\n",
      "counter =  96000\n",
      "CPU times: user 10min 47s, sys: 15.7 s, total: 11min 2s\n",
      "Wall time: 11min 18s\n"
     ]
    }
   ],
   "source": [
    "%%time\n",
    "\n",
    "# train Discriminator and Generator\n",
    "D = Discriminator()\n",
    "D.to(device)\n",
    "G = Generator(batch_size)\n",
    "G.to(device)\n",
    "\n",
    "\n",
    "for epoch in range(epochs):\n",
    "    print (\"epoch = \", epoch + 1)\n",
    "\n",
    "    # train Discriminator and Generator\n",
    "    for smiles,label,target in data_loader:\n",
    "        # train discriminator on true\n",
    "        target = torch.FloatTensor(torch.ones(smiles.shape[0])).to(device)\n",
    "        label = label.float().to(device)\n",
    "        label = label.view(batch_size, 1, 1).repeat(1, smiles.shape[1], 1)\n",
    "        D.train(smiles.to(device).float(), label, target)\n",
    "\n",
    "        # train discriminator on false\n",
    "        fake_input = torch.FloatTensor(generate_random_seed_G(G_input_size)).to(device)\n",
    "        fake_label = torch.FloatTensor(generate_random_label(1)).to(device)\n",
    "        idx = G.forward(fake_input, fake_label.repeat(G_input_size)).detach().cpu().numpy()\n",
    "        g_smiles, _, _ = data_dataset[idx]\n",
    "\n",
    "        g_input = torch.FloatTensor(g_smiles).to(device)\n",
    "        g_input = g_input.reshape(1, g_input.shape[0], g_input.shape[1])\n",
    "        g_label = fake_label.repeat(1, g_input.shape[1], 1)\n",
    "        \n",
    "        target = torch.FloatTensor(torch.zeros(len(fake_label))).to(device)\n",
    "        D.train(g_input, g_label, target)\n",
    "        \n",
    "        # train generator\n",
    "        fake_input = torch.FloatTensor(generate_random_seed_G(G_input_size)).to(device)\n",
    "        fake_label = torch.FloatTensor(generate_random_label(1)).to(device)\n",
    "        target = torch.FloatTensor([0.0]).to(device)\n",
    "        G.train(D, fake_input, fake_label, target)\n",
    "        \n",
    "    pass\n",
    "pass\n"
   ]
  },
  {
   "cell_type": "code",
   "execution_count": 23,
   "metadata": {},
   "outputs": [
    {
     "data": {
      "image/png": "[encoded data removed]",
      "text/plain": [
       "<Figure size 1152x576 with 1 Axes>"
      ]
     },
     "metadata": {
      "needs_background": "light"
     },
     "output_type": "display_data"
    }
   ],
   "source": [
    "# check Discriminator progress and converge\n",
    "D.plot_progress()"
   ]
  },
  {
   "cell_type": "code",
   "execution_count": 24,
   "metadata": {},
   "outputs": [
    {
     "data": {
      "image/png": "[encoded data removed]",
      "text/plain": [
       "<Figure size 1152x576 with 1 Axes>"
      ]
     },
     "metadata": {
      "needs_background": "light"
     },
     "output_type": "display_data"
    }
   ],
   "source": [
    "# test train result by getting a SMILES\n",
    "G.plot_progress()"
   ]
  },
  {
   "cell_type": "code",
   "execution_count": 25,
   "metadata": {},
   "outputs": [
    {
     "name": "stdout",
     "output_type": "stream",
     "text": [
      "tensor([1.], device='cuda:0', grad_fn=<SigmoidBackward>)\n",
      "tensor([1.], device='cuda:0', grad_fn=<SigmoidBackward>)\n",
      "tensor([1.], device='cuda:0', grad_fn=<SigmoidBackward>)\n",
      "tensor([1.], device='cuda:0', grad_fn=<SigmoidBackward>)\n",
      "tensor([1.], device='cuda:0', grad_fn=<SigmoidBackward>)\n",
      "tensor([1.], device='cuda:0', grad_fn=<SigmoidBackward>)\n",
      "tensor([1.], device='cuda:0', grad_fn=<SigmoidBackward>)\n",
      "tensor([1.], device='cuda:0', grad_fn=<SigmoidBackward>)\n",
      "tensor([1.], device='cuda:0', grad_fn=<SigmoidBackward>)\n",
      "tensor([1.], device='cuda:0', grad_fn=<SigmoidBackward>)\n"
     ]
    }
   ],
   "source": [
    "# more test: Discriminator test by real examples\n",
    "i = 0\n",
    "for smiles,label,target in data_loader:\n",
    "    # real\n",
    "    target = torch.FloatTensor([1.0]).view(1,1,1).repeat(1, smiles.shape[0] ,1).to(device)\n",
    "    label = label.float().to(device)\n",
    "    label = label.view(batch_size, 1, 1).repeat(1, smiles.shape[1], 1)\n",
    "    \n",
    "    print(D.forward(smiles.to(device).float(), label))\n",
    "    \n",
    "    i += 1\n",
    "    if (i >= 10):\n",
    "        break\n",
    "    pass\n",
    "\n"
   ]
  },
  {
   "cell_type": "code",
   "execution_count": 26,
   "metadata": {},
   "outputs": [
    {
     "name": "stdout",
     "output_type": "stream",
     "text": [
      "tensor([1.], device='cuda:0', grad_fn=<SigmoidBackward>)\n",
      "tensor([1.], device='cuda:0', grad_fn=<SigmoidBackward>)\n",
      "tensor([1.], device='cuda:0', grad_fn=<SigmoidBackward>)\n",
      "tensor([1.], device='cuda:0', grad_fn=<SigmoidBackward>)\n",
      "tensor([1.], device='cuda:0', grad_fn=<SigmoidBackward>)\n",
      "tensor([1.], device='cuda:0', grad_fn=<SigmoidBackward>)\n",
      "tensor([1.], device='cuda:0', grad_fn=<SigmoidBackward>)\n",
      "tensor([1.], device='cuda:0', grad_fn=<SigmoidBackward>)\n",
      "tensor([1.], device='cuda:0', grad_fn=<SigmoidBackward>)\n",
      "tensor([1.], device='cuda:0', grad_fn=<SigmoidBackward>)\n"
     ]
    }
   ],
   "source": [
    "# more test: Discriminator test by random data\n",
    "for i in range(10):\n",
    "    fake_input = []\n",
    "    fake_label = []\n",
    "    for item in generate_random_seed(batch_size):\n",
    "        fake_input.append(item[0])\n",
    "        fake_label.append(item[1])\n",
    "    \n",
    "    fake_input = torch.FloatTensor(fake_input).to(device)\n",
    "    fake_label = torch.FloatTensor(fake_label).to(device)\n",
    "    fake_label = fake_label.view(batch_size, 1, 1).repeat(1, fake_input.shape[1], 1)\n",
    "    target = torch.FloatTensor([0.0]).view(1,1,1).repeat(1, fake_input.shape[0] ,1).to(device)\n",
    "    print(D.forward(fake_input, fake_label))\n",
    "    pass\n"
   ]
  },
  {
   "cell_type": "code",
   "execution_count": 27,
   "metadata": {},
   "outputs": [
    {
     "name": "stdout",
     "output_type": "stream",
     "text": [
      "result tensor(389, device='cuda:0') idx 389 fake_input torch.Size([100]) fake_label.shape torch.Size([100]) result.shape torch.Size([])\n",
      "CC1C2OC2C1=NO\n"
     ]
    }
   ],
   "source": [
    "# more test: generate SMILES\n",
    "fake_input = torch.FloatTensor(generate_random_seed_G(G_input_size)).to(device)\n",
    "fake_label = torch.FloatTensor(generate_random_value(G_input_size)).to(device)\n",
    "result = G.forward(fake_input, fake_label).detach()\n",
    "idx = result.cpu().numpy()\n",
    "print('result', result, 'idx', idx, 'fake_input', fake_input.shape, 'fake_label.shape', fake_label.shape,  'result.shape', result.shape)\n",
    "print(x_data['smiles'].iloc[idx])"
   ]
  },
  {
   "cell_type": "code",
   "execution_count": 28,
   "metadata": {},
   "outputs": [
    {
     "name": "stdout",
     "output_type": "stream",
     "text": [
      "save model to file: pre_train_model/GAN19G202105040022.sav\n",
      "save model to file: pre_train_model/GAN19D202105040022.sav\n"
     ]
    }
   ],
   "source": [
    "# save models\n",
    "import pickle\n",
    "from datetime import datetime\n",
    "\n",
    "now = datetime.now() \n",
    "date_time = now.strftime(\"%Y%m%d%H%M\")\n",
    "G_filename = 'pre_train_model/GAN19G' + date_time + '.sav'\n",
    "print('save model to file:', G_filename)\n",
    "pickle.dump(G, open(G_filename, 'wb'))\n",
    "\n",
    "D_filename = 'pre_train_model/GAN19D' + date_time + '.sav'\n",
    "print('save model to file:', D_filename)\n",
    "pickle.dump(D, open(D_filename, 'wb'))\n",
    "\n"
   ]
  },
  {
   "cell_type": "code",
   "execution_count": 29,
   "metadata": {},
   "outputs": [
    {
     "data": {
      "text/plain": [
       "\"\\nimport pickle\\n\\nPkl_Filename = 'GAN19D202104150951.sav'\\nwith open(Pkl_Filename, 'rb') as file:  \\n    D = pickle.load(file)\\n    \\n    \\nPkl_Filename = 'GAN19G202104150951.sav'\\nwith open(Pkl_Filename, 'rb') as file:  \\n    G = pickle.load(file)    \\n\""
      ]
     },
     "execution_count": 29,
     "metadata": {},
     "output_type": "execute_result"
    }
   ],
   "source": [
    "#load models\n",
    "'''\n",
    "import pickle\n",
    "\n",
    "Pkl_Filename = 'GAN19D202104150951.sav'\n",
    "with open(Pkl_Filename, 'rb') as file:  \n",
    "    D = pickle.load(file)\n",
    "    \n",
    "    \n",
    "Pkl_Filename = 'GAN19G202104150951.sav'\n",
    "with open(Pkl_Filename, 'rb') as file:  \n",
    "    G = pickle.load(file)    \n",
    "'''"
   ]
  },
  {
   "cell_type": "code",
   "execution_count": 30,
   "metadata": {},
   "outputs": [],
   "source": [
    "# metrics function\n",
    "from sklearn.metrics import *\n",
    "\n",
    "def classification_metrics(Y_pred, Y_true, Y_auc_true, Y_auc_pred):\n",
    "    acc = accuracy_score(Y_true, Y_pred)\n",
    "    auc_ = roc_auc_score(Y_auc_true, Y_auc_pred)\n",
    "    \n",
    "    precision = precision_score(Y_true, Y_pred, average='weighted')\n",
    "    recall = recall_score(Y_true, Y_pred, average='weighted')\n",
    "    f1score = f1_score(Y_true, Y_pred, average='weighted')\n",
    "    return acc, auc_, precision, recall, f1score\n",
    "\n"
   ]
  },
  {
   "cell_type": "code",
   "execution_count": 31,
   "metadata": {},
   "outputs": [],
   "source": [
    "qm9_dataset = pandas.read_csv('dataset/qm9.csv')"
   ]
  },
  {
   "cell_type": "code",
   "execution_count": 32,
   "metadata": {},
   "outputs": [
    {
     "name": "stdout",
     "output_type": "stream",
     "text": [
      "acc 0.62\n",
      "auc_ 0.5128205128205128\n",
      "precision 1.0\n",
      "recall 0.62\n",
      "f1score 0.7654320987654321\n"
     ]
    },
    {
     "name": "stderr",
     "output_type": "stream",
     "text": [
      "/home/tony/anaconda3/lib/python3.7/site-packages/sklearn/metrics/_classification.py:1272: UndefinedMetricWarning: Recall is ill-defined and being set to 0.0 in labels with no true samples. Use `zero_division` parameter to control this behavior.\n",
      "  _warn_prf(average, modifier, msg_start, len(result))\n"
     ]
    }
   ],
   "source": [
    "# calculate metrics\n",
    "y_true = []\n",
    "prodict = []\n",
    "y_auc_true = []\n",
    "y_auc_prodict = []\n",
    "number_of_verify = 100\n",
    "for i in range(number_of_verify):\n",
    "    test_smiles = G.get_smiles(1.0)\n",
    "    real = qm9_dataset[qm9_dataset['smiles'] == test_smiles ]\n",
    "    #print('Test Result:', real.iat[0,0],real.iat[0,1], real.iat[0,1] > baseline)\n",
    "    y_true.append(float(real.iat[0,1] > baseline))\n",
    "    prodict.append(1.0)\n",
    "    y_auc_true.append(float(real.iat[0,1] > baseline))\n",
    "    y_auc_prodict.append(1.0)\n",
    "\n",
    "# Fix auc issue\n",
    "y_auc_true.append(0.0)\n",
    "y_auc_prodict.append(0.0)\n",
    "    \n",
    "    \n",
    "acc, auc_, precision, recall, f1score = classification_metrics(y_true, prodict, y_auc_true, y_auc_prodict)\n",
    "print('acc', acc)\n",
    "print('auc_', auc_)\n",
    "print('precision', precision)\n",
    "print('recall', recall)\n",
    "print('f1score', f1score)\n"
   ]
  },
  {
   "cell_type": "code",
   "execution_count": 33,
   "metadata": {},
   "outputs": [
    {
     "name": "stdout",
     "output_type": "stream",
     "text": [
      "Discriminator(\n",
      "  (model): Sequential(\n",
      "    (0): View()\n",
      "    (1): Linear(in_features=600, out_features=200, bias=True)\n",
      "    (2): LeakyReLU(negative_slope=0.02)\n",
      "    (3): LayerNorm((200,), eps=1e-05, elementwise_affine=True)\n",
      "    (4): Linear(in_features=200, out_features=1, bias=True)\n",
      "    (5): Sigmoid()\n",
      "  )\n",
      "  (loss_function): MSELoss()\n",
      ")\n",
      "Total parameters of D 120801\n",
      "Generator(\n",
      "  (model): Sequential(\n",
      "    (0): Linear(in_features=200, out_features=200, bias=True)\n",
      "    (1): LeakyReLU(negative_slope=0.02)\n",
      "    (2): Linear(in_features=200, out_features=3000, bias=True)\n",
      "    (3): Sigmoid()\n",
      "  )\n",
      ")\n",
      "Total parameters of G 643200\n"
     ]
    }
   ],
   "source": [
    "# get model parameters\n",
    "def count_parameters(model):\n",
    "    return sum(p.numel() for p in model.parameters() if p.requires_grad)\n",
    "\n",
    "print(D)\n",
    "print(\"Total parameters of D\", count_parameters(D))\n",
    "\n",
    "print(G)\n",
    "print(\"Total parameters of G\", count_parameters(G))"
   ]
  },
  {
   "cell_type": "code",
   "execution_count": null,
   "metadata": {},
   "outputs": [],
   "source": []
  }
 ],
 "metadata": {
  "kernelspec": {
   "display_name": "Python 3",
   "language": "python",
   "name": "python3"
  },
  "language_info": {
   "codemirror_mode": {
    "name": "ipython",
    "version": 3
   },
   "file_extension": ".py",
   "mimetype": "text/x-python",
   "name": "python",
   "nbconvert_exporter": "python",
   "pygments_lexer": "ipython3",
   "version": "3.7.6"
  }
 },
 "nbformat": 4,
 "nbformat_minor": 4
}
