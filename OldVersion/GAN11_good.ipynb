{
 "cells": [
  {
   "cell_type": "code",
   "execution_count": 1,
   "metadata": {},
   "outputs": [],
   "source": [
    "import numpy as np\n",
    "import pandas as pd\n",
    "import matplotlib.pyplot as plt\n",
    "from rdkit import Chem, DataStructs\n",
    "from rdkit.Chem import PandasTools, AllChem\n",
    "from sklearn.preprocessing import StandardScaler\n",
    "from sklearn.model_selection import train_test_split\n",
    "import torch\n",
    "import torch.nn as nn\n",
    "import torch.nn.functional as F\n",
    "from torch.utils.data import Dataset\n",
    "from torch.optim.lr_scheduler import ReduceLROnPlateau\n",
    "import pandas, numpy, random\n",
    "import matplotlib.pyplot as plt"
   ]
  },
  {
   "cell_type": "code",
   "execution_count": 2,
   "metadata": {},
   "outputs": [
    {
     "data": {
      "text/plain": [
       "'\\nif torch.cuda.is_available():\\n    torch.set_default_tensor_type(torch.cuda.FloatTensor)\\n    print(\"using cuda:\", torch.cuda.get_device_name(0))\\n    pass\\n\\ndevice = torch.device(\"cuda\" if torch.cuda.is_available() else \"cpu\")\\ndevice\\n\\nfrom multiprocessing import set_start_method\\ntry:\\n    set_start_method(\\'spawn\\')\\nexcept RuntimeError:\\n    pass\\n'"
      ]
     },
     "execution_count": 2,
     "metadata": {},
     "output_type": "execute_result"
    }
   ],
   "source": [
    "# if CUDA is available, use GPU and set default tensor type to cuda\n",
    "\n",
    "'''\n",
    "if torch.cuda.is_available():\n",
    "    torch.set_default_tensor_type(torch.cuda.FloatTensor)\n",
    "    print(\"using cuda:\", torch.cuda.get_device_name(0))\n",
    "    pass\n",
    "\n",
    "device = torch.device(\"cuda\" if torch.cuda.is_available() else \"cpu\")\n",
    "device\n",
    "\n",
    "from multiprocessing import set_start_method\n",
    "try:\n",
    "    set_start_method('spawn')\n",
    "except RuntimeError:\n",
    "    pass\n",
    "'''    \n"
   ]
  },
  {
   "cell_type": "code",
   "execution_count": 3,
   "metadata": {},
   "outputs": [],
   "source": [
    "class SMILESMolDataset(Dataset):\n",
    "    def __init__(self, molecules, y, vectorizer):\n",
    "        self.molecules = molecules\n",
    "        self.y = y\n",
    "        self.vectorizer = vectorizer\n",
    "    def __len__(self):\n",
    "        return len(self.molecules)\n",
    "    def __getitem__(self, idx):\n",
    "        if torch.is_tensor(idx):\n",
    "            idx = idx.tolist()\n",
    "             \n",
    "        mols = self.molecules[idx]\n",
    "         \n",
    "        #The vectorizer was written to work with batches, \n",
    "        #but PyTorch datasets unfortunately works with single samples\n",
    "        sample = self.vectorizer.transform([mols])[0]\n",
    "        label = self.y[idx]\n",
    "        \n",
    "        return sample, label"
   ]
  },
  {
   "cell_type": "code",
   "execution_count": 4,
   "metadata": {},
   "outputs": [
    {
     "name": "stdout",
     "output_type": "stream",
     "text": [
      "number_of_data 133885 max_alpha 196.62 min_alpha 6.31\n"
     ]
    },
    {
     "data": {
      "text/html": [
       "<div>\n",
       "<style scoped>\n",
       "    .dataframe tbody tr th:only-of-type {\n",
       "        vertical-align: middle;\n",
       "    }\n",
       "\n",
       "    .dataframe tbody tr th {\n",
       "        vertical-align: top;\n",
       "    }\n",
       "\n",
       "    .dataframe thead th {\n",
       "        text-align: right;\n",
       "    }\n",
       "</style>\n",
       "<table border=\"1\" class=\"dataframe\">\n",
       "  <thead>\n",
       "    <tr style=\"text-align: right;\">\n",
       "      <th></th>\n",
       "      <th>smiles</th>\n",
       "      <th>mu</th>\n",
       "      <th>alpha</th>\n",
       "      <th>homo</th>\n",
       "      <th>lumo</th>\n",
       "      <th>gap</th>\n",
       "      <th>r2</th>\n",
       "      <th>zpve</th>\n",
       "      <th>cv</th>\n",
       "      <th>u0</th>\n",
       "      <th>u298</th>\n",
       "      <th>h298</th>\n",
       "      <th>g298</th>\n",
       "    </tr>\n",
       "  </thead>\n",
       "  <tbody>\n",
       "    <tr>\n",
       "      <th>0</th>\n",
       "      <td>C</td>\n",
       "      <td>0.0000</td>\n",
       "      <td>13.21</td>\n",
       "      <td>-0.3877</td>\n",
       "      <td>0.1171</td>\n",
       "      <td>0.5048</td>\n",
       "      <td>35.3641</td>\n",
       "      <td>0.044749</td>\n",
       "      <td>6.469</td>\n",
       "      <td>-40.478930</td>\n",
       "      <td>-40.476062</td>\n",
       "      <td>-40.475117</td>\n",
       "      <td>-40.498597</td>\n",
       "    </tr>\n",
       "    <tr>\n",
       "      <th>1</th>\n",
       "      <td>N</td>\n",
       "      <td>1.6256</td>\n",
       "      <td>9.46</td>\n",
       "      <td>-0.2570</td>\n",
       "      <td>0.0829</td>\n",
       "      <td>0.3399</td>\n",
       "      <td>26.1563</td>\n",
       "      <td>0.034358</td>\n",
       "      <td>6.316</td>\n",
       "      <td>-56.525887</td>\n",
       "      <td>-56.523026</td>\n",
       "      <td>-56.522082</td>\n",
       "      <td>-56.544961</td>\n",
       "    </tr>\n",
       "    <tr>\n",
       "      <th>2</th>\n",
       "      <td>O</td>\n",
       "      <td>1.8511</td>\n",
       "      <td>6.31</td>\n",
       "      <td>-0.2928</td>\n",
       "      <td>0.0687</td>\n",
       "      <td>0.3615</td>\n",
       "      <td>19.0002</td>\n",
       "      <td>0.021375</td>\n",
       "      <td>6.002</td>\n",
       "      <td>-76.404702</td>\n",
       "      <td>-76.401867</td>\n",
       "      <td>-76.400922</td>\n",
       "      <td>-76.422349</td>\n",
       "    </tr>\n",
       "    <tr>\n",
       "      <th>3</th>\n",
       "      <td>C#C</td>\n",
       "      <td>0.0000</td>\n",
       "      <td>16.28</td>\n",
       "      <td>-0.2845</td>\n",
       "      <td>0.0506</td>\n",
       "      <td>0.3351</td>\n",
       "      <td>59.5248</td>\n",
       "      <td>0.026841</td>\n",
       "      <td>8.574</td>\n",
       "      <td>-77.308427</td>\n",
       "      <td>-77.305527</td>\n",
       "      <td>-77.304583</td>\n",
       "      <td>-77.327429</td>\n",
       "    </tr>\n",
       "    <tr>\n",
       "      <th>4</th>\n",
       "      <td>C#N</td>\n",
       "      <td>2.8937</td>\n",
       "      <td>12.99</td>\n",
       "      <td>-0.3604</td>\n",
       "      <td>0.0191</td>\n",
       "      <td>0.3796</td>\n",
       "      <td>48.7476</td>\n",
       "      <td>0.016601</td>\n",
       "      <td>6.278</td>\n",
       "      <td>-93.411888</td>\n",
       "      <td>-93.409370</td>\n",
       "      <td>-93.408425</td>\n",
       "      <td>-93.431246</td>\n",
       "    </tr>\n",
       "  </tbody>\n",
       "</table>\n",
       "</div>"
      ],
      "text/plain": [
       "  smiles      mu  alpha    homo    lumo     gap       r2      zpve     cv  \\\n",
       "0      C  0.0000  13.21 -0.3877  0.1171  0.5048  35.3641  0.044749  6.469   \n",
       "1      N  1.6256   9.46 -0.2570  0.0829  0.3399  26.1563  0.034358  6.316   \n",
       "2      O  1.8511   6.31 -0.2928  0.0687  0.3615  19.0002  0.021375  6.002   \n",
       "3    C#C  0.0000  16.28 -0.2845  0.0506  0.3351  59.5248  0.026841  8.574   \n",
       "4    C#N  2.8937  12.99 -0.3604  0.0191  0.3796  48.7476  0.016601  6.278   \n",
       "\n",
       "          u0       u298       h298       g298  \n",
       "0 -40.478930 -40.476062 -40.475117 -40.498597  \n",
       "1 -56.525887 -56.523026 -56.522082 -56.544961  \n",
       "2 -76.404702 -76.401867 -76.400922 -76.422349  \n",
       "3 -77.308427 -77.305527 -77.304583 -77.327429  \n",
       "4 -93.411888 -93.409370 -93.408425 -93.431246  "
      ]
     },
     "execution_count": 4,
     "metadata": {},
     "output_type": "execute_result"
    }
   ],
   "source": [
    "real_data = pandas.read_csv('dataset/qm9.csv')\n",
    "max_alpha = max(real_data['alpha'])\n",
    "min_alpha = min(real_data['alpha'])\n",
    "number_of_data = len(real_data)\n",
    "\n",
    "print(\"number_of_data\", number_of_data, \"max_alpha\", max_alpha, \"min_alpha\", min_alpha)\n",
    "real_data.head(5)"
   ]
  },
  {
   "cell_type": "code",
   "execution_count": 5,
   "metadata": {},
   "outputs": [
    {
     "data": {
      "text/html": [
       "<div>\n",
       "<style scoped>\n",
       "    .dataframe tbody tr th:only-of-type {\n",
       "        vertical-align: middle;\n",
       "    }\n",
       "\n",
       "    .dataframe tbody tr th {\n",
       "        vertical-align: top;\n",
       "    }\n",
       "\n",
       "    .dataframe thead th {\n",
       "        text-align: right;\n",
       "    }\n",
       "</style>\n",
       "<table border=\"1\" class=\"dataframe\">\n",
       "  <thead>\n",
       "    <tr style=\"text-align: right;\">\n",
       "      <th></th>\n",
       "      <th>smiles</th>\n",
       "    </tr>\n",
       "  </thead>\n",
       "  <tbody>\n",
       "    <tr>\n",
       "      <th>0</th>\n",
       "      <td>S1C=CC=C1</td>\n",
       "    </tr>\n",
       "    <tr>\n",
       "      <th>1</th>\n",
       "      <td>O1C=CC=C1</td>\n",
       "    </tr>\n",
       "    <tr>\n",
       "      <th>2</th>\n",
       "      <td>C1CCCC1</td>\n",
       "    </tr>\n",
       "    <tr>\n",
       "      <th>3</th>\n",
       "      <td>N1C=CC=C1</td>\n",
       "    </tr>\n",
       "    <tr>\n",
       "      <th>4</th>\n",
       "      <td>S1C=CC=N1</td>\n",
       "    </tr>\n",
       "  </tbody>\n",
       "</table>\n",
       "</div>"
      ],
      "text/plain": [
       "      smiles\n",
       "0  S1C=CC=C1\n",
       "1  O1C=CC=C1\n",
       "2    C1CCCC1\n",
       "3  N1C=CC=C1\n",
       "4  S1C=CC=N1"
      ]
     },
     "execution_count": 5,
     "metadata": {},
     "output_type": "execute_result"
    }
   ],
   "source": [
    "data = pandas.read_csv('dataset/GDB13_Subset-ABCDEFGH.smi', header=None, names=[\"smiles\"])\n",
    "data.head(5)\n"
   ]
  },
  {
   "cell_type": "code",
   "execution_count": 6,
   "metadata": {},
   "outputs": [
    {
     "data": {
      "text/html": [
       "<div>\n",
       "<style scoped>\n",
       "    .dataframe tbody tr th:only-of-type {\n",
       "        vertical-align: middle;\n",
       "    }\n",
       "\n",
       "    .dataframe tbody tr th {\n",
       "        vertical-align: top;\n",
       "    }\n",
       "\n",
       "    .dataframe thead th {\n",
       "        text-align: right;\n",
       "    }\n",
       "</style>\n",
       "<table border=\"1\" class=\"dataframe\">\n",
       "  <thead>\n",
       "    <tr style=\"text-align: right;\">\n",
       "      <th></th>\n",
       "      <th>smiles</th>\n",
       "      <th>Molecule</th>\n",
       "    </tr>\n",
       "  </thead>\n",
       "  <tbody>\n",
       "    <tr>\n",
       "      <th>0</th>\n",
       "      <td>S1C=CC=C1</td>\n",
       "      <td><img data-content=\"rdkit/molecule\" src=\"data:image/png;base64,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\" alt=\"Mol\"/></td>\n",
       "    </tr>\n",
       "  </tbody>\n",
       "</table>\n",
       "</div>"
      ],
      "text/plain": [
       "      smiles                                           Molecule\n",
       "0  S1C=CC=C1  <img data-content=\"rdkit/molecule\" src=\"data:i..."
      ]
     },
     "execution_count": 6,
     "metadata": {},
     "output_type": "execute_result"
    }
   ],
   "source": [
    "PandasTools.AddMoleculeColumnToFrame(data,'smiles','Molecule')\n",
    "data = data[0:number_of_data]\n",
    "data[[\"smiles\",\"Molecule\"]].head(1)\n"
   ]
  },
  {
   "cell_type": "code",
   "execution_count": 7,
   "metadata": {},
   "outputs": [
    {
     "data": {
      "text/plain": [
       "'ClC1=CSC=C1'"
      ]
     },
     "execution_count": 7,
     "metadata": {},
     "output_type": "execute_result"
    }
   ],
   "source": [
    "data['smiles'].iloc[10]"
   ]
  },
  {
   "cell_type": "code",
   "execution_count": 8,
   "metadata": {},
   "outputs": [
    {
     "data": {
      "text/plain": [
       "133885"
      ]
     },
     "execution_count": 8,
     "metadata": {},
     "output_type": "execute_result"
    }
   ],
   "source": [
    "PandasTools.AddMoleculeColumnToFrame(real_data,'smiles','Molecule')\n",
    "real_data[[\"smiles\",\"Molecule\"]].head(1)\n",
    "len(real_data)"
   ]
  },
  {
   "cell_type": "code",
   "execution_count": 9,
   "metadata": {},
   "outputs": [],
   "source": [
    "from molvecgen.vectorizers import SmilesVectorizer\n",
    "\n",
    "smivec = SmilesVectorizer(pad=1, leftpad=True, canonical=False, augment=True)\n",
    "smivec.fit(real_data.Molecule.values, )"
   ]
  },
  {
   "cell_type": "code",
   "execution_count": 10,
   "metadata": {},
   "outputs": [],
   "source": [
    "smivec_data = SmilesVectorizer(pad=1, leftpad=True, canonical=False, augment=True)\n",
    "smivec_data.fit(data.Molecule.values, )"
   ]
  },
  {
   "cell_type": "code",
   "execution_count": 11,
   "metadata": {},
   "outputs": [],
   "source": [
    "# functions to generate random data\n",
    "\n",
    "def generate_random_seed_G(size):\n",
    "    random_data = torch.randn(size)\n",
    "    return random_data\n",
    "\n",
    "\n",
    "def generate_random_value(size):\n",
    "    random_data = torch.round(torch.randn(size) * 10000) / 100\n",
    "    #round(random.uniform(min_alpha, max_alpha),2)\n",
    "    return random_data"
   ]
  },
  {
   "cell_type": "code",
   "execution_count": 12,
   "metadata": {},
   "outputs": [
    {
     "name": "stdout",
     "output_type": "stream",
     "text": [
      "len(X_train) 133885 X_train.shape (133885,)\n"
     ]
    }
   ],
   "source": [
    "'''\n",
    "y = real_data.alpha.values.reshape((-1,1))\n",
    "X = real_data.Molecule.values\n",
    "X_train, X_test, y_train, y_test = train_test_split(X, y,  test_size=0.10, random_state=42)\n",
    "X_train, X_validation, y_train, y_validation = train_test_split(X_train, y_train,  test_size=0.05, random_state=42)\n",
    "\n",
    "#Normalizing output using standard scaling\n",
    "scaler = StandardScaler()\n",
    "y_train = scaler.fit_transform(y_train)\n",
    "y_test = scaler.transform(y_test)\n",
    "y_validation = scaler.transform(y_validation)\n",
    "\n",
    "print('len(X_train)',len(X_train), 'X_train.shape', X_train.shape)\n",
    "'''\n",
    "\n",
    "y = real_data.alpha.values.reshape((-1,1))\n",
    "X = real_data.Molecule.values\n",
    "\n",
    "#Normalizing output using standard scaling\n",
    "scaler = StandardScaler()\n",
    "X_train = X\n",
    "y_train = scaler.fit_transform(y)\n",
    "\n",
    "print('len(X_train)',len(X_train), 'X_train.shape', X_train.shape)\n",
    "\n"
   ]
  },
  {
   "cell_type": "code",
   "execution_count": 13,
   "metadata": {},
   "outputs": [
    {
     "name": "stdout",
     "output_type": "stream",
     "text": [
      "data_dataset[10] (array([[0, 0, 0, 0, 0, 0, 0, 0, 0, 0, 0, 0, 0, 0, 0, 0, 0, 0, 0, 0, 0, 0,\n",
      "        0, 0],\n",
      "       [0, 0, 0, 0, 0, 0, 0, 0, 0, 0, 0, 0, 0, 0, 0, 0, 0, 0, 0, 0, 0, 0,\n",
      "        0, 0],\n",
      "       [0, 0, 0, 0, 0, 0, 0, 0, 0, 0, 0, 0, 0, 0, 0, 0, 0, 0, 0, 0, 0, 0,\n",
      "        0, 0],\n",
      "       [0, 0, 0, 0, 0, 0, 0, 0, 0, 0, 0, 0, 0, 0, 0, 0, 0, 0, 0, 0, 0, 0,\n",
      "        0, 0],\n",
      "       [0, 0, 0, 0, 0, 0, 0, 0, 0, 0, 0, 0, 0, 0, 0, 0, 0, 0, 0, 0, 0, 0,\n",
      "        0, 0],\n",
      "       [0, 0, 0, 0, 0, 0, 0, 0, 0, 0, 0, 0, 0, 0, 0, 0, 0, 0, 0, 0, 0, 0,\n",
      "        0, 0],\n",
      "       [0, 0, 0, 0, 0, 0, 0, 0, 0, 0, 0, 0, 0, 0, 0, 0, 0, 0, 0, 0, 0, 0,\n",
      "        0, 0],\n",
      "       [0, 0, 0, 0, 0, 0, 0, 0, 0, 0, 0, 0, 0, 0, 0, 0, 0, 0, 0, 0, 0, 0,\n",
      "        0, 0],\n",
      "       [0, 0, 0, 0, 0, 0, 0, 0, 0, 0, 0, 0, 0, 0, 0, 0, 0, 0, 0, 0, 0, 0,\n",
      "        0, 0],\n",
      "       [0, 0, 0, 0, 0, 0, 0, 0, 0, 0, 0, 0, 0, 0, 0, 0, 0, 0, 0, 0, 0, 0,\n",
      "        0, 0],\n",
      "       [0, 0, 0, 0, 0, 0, 0, 0, 0, 0, 0, 0, 0, 0, 0, 0, 0, 0, 0, 0, 0, 0,\n",
      "        0, 0],\n",
      "       [0, 0, 0, 0, 0, 0, 0, 0, 0, 0, 0, 0, 0, 0, 0, 0, 0, 0, 0, 0, 0, 0,\n",
      "        0, 0],\n",
      "       [0, 0, 0, 0, 0, 0, 0, 0, 0, 0, 0, 0, 0, 0, 0, 0, 0, 0, 0, 0, 0, 0,\n",
      "        0, 0],\n",
      "       [0, 0, 0, 0, 0, 0, 0, 0, 0, 0, 0, 0, 0, 0, 0, 0, 0, 0, 0, 0, 0, 0,\n",
      "        0, 0],\n",
      "       [0, 0, 0, 0, 0, 0, 0, 0, 0, 0, 0, 0, 0, 0, 0, 0, 0, 0, 0, 0, 0, 0,\n",
      "        0, 0],\n",
      "       [0, 0, 0, 0, 0, 0, 0, 0, 0, 0, 0, 0, 0, 0, 0, 0, 0, 0, 0, 0, 0, 0,\n",
      "        0, 0],\n",
      "       [0, 0, 0, 0, 0, 0, 0, 0, 0, 0, 0, 0, 0, 0, 0, 0, 0, 0, 0, 0, 0, 0,\n",
      "        0, 0],\n",
      "       [0, 0, 0, 0, 0, 0, 0, 0, 0, 0, 0, 0, 0, 0, 0, 0, 0, 0, 0, 0, 0, 0,\n",
      "        0, 0],\n",
      "       [0, 0, 0, 0, 0, 0, 0, 0, 0, 0, 0, 0, 0, 0, 0, 0, 0, 0, 0, 0, 0, 0,\n",
      "        0, 0],\n",
      "       [0, 0, 0, 0, 0, 0, 0, 0, 0, 0, 0, 0, 0, 0, 0, 0, 0, 0, 0, 0, 0, 0,\n",
      "        0, 0],\n",
      "       [0, 0, 0, 0, 0, 0, 0, 0, 0, 0, 0, 0, 0, 0, 0, 0, 0, 0, 0, 0, 0, 0,\n",
      "        0, 0],\n",
      "       [0, 0, 0, 0, 0, 0, 0, 0, 0, 0, 0, 0, 0, 0, 0, 0, 0, 0, 0, 0, 0, 0,\n",
      "        0, 0],\n",
      "       [0, 0, 0, 0, 0, 0, 0, 0, 0, 0, 0, 0, 0, 0, 0, 0, 0, 0, 0, 0, 0, 0,\n",
      "        0, 0],\n",
      "       [0, 0, 0, 0, 0, 0, 0, 0, 0, 0, 0, 0, 0, 0, 0, 0, 0, 0, 0, 0, 0, 0,\n",
      "        0, 0],\n",
      "       [0, 0, 0, 0, 0, 0, 0, 0, 0, 0, 0, 0, 0, 0, 0, 0, 0, 0, 0, 0, 0, 1,\n",
      "        0, 0],\n",
      "       [0, 0, 0, 0, 0, 0, 0, 1, 0, 0, 0, 0, 0, 0, 0, 0, 0, 0, 0, 0, 0, 0,\n",
      "        0, 0],\n",
      "       [0, 0, 0, 0, 1, 0, 0, 0, 0, 0, 0, 0, 0, 0, 0, 0, 0, 0, 0, 0, 0, 0,\n",
      "        0, 0],\n",
      "       [0, 0, 0, 0, 0, 0, 0, 0, 0, 0, 0, 0, 1, 0, 0, 0, 0, 0, 0, 0, 0, 0,\n",
      "        0, 0],\n",
      "       [0, 0, 0, 0, 0, 0, 0, 1, 0, 0, 0, 0, 0, 0, 0, 0, 0, 0, 0, 0, 0, 0,\n",
      "        0, 0],\n",
      "       [0, 0, 0, 0, 0, 0, 0, 1, 0, 0, 0, 0, 0, 0, 0, 0, 0, 0, 0, 0, 0, 0,\n",
      "        0, 0],\n",
      "       [0, 0, 0, 0, 0, 0, 0, 1, 0, 0, 0, 0, 0, 0, 0, 0, 0, 0, 0, 0, 0, 0,\n",
      "        0, 0],\n",
      "       [0, 0, 0, 0, 1, 0, 0, 0, 0, 0, 0, 0, 0, 0, 0, 0, 0, 0, 0, 0, 0, 0,\n",
      "        0, 0],\n",
      "       [0, 0, 0, 0, 0, 0, 0, 0, 0, 0, 0, 0, 0, 0, 0, 0, 0, 0, 1, 0, 0, 0,\n",
      "        0, 0],\n",
      "       [1, 0, 0, 0, 0, 0, 0, 0, 0, 0, 0, 0, 0, 0, 0, 0, 0, 0, 0, 0, 0, 0,\n",
      "        0, 0],\n",
      "       [0, 0, 0, 0, 0, 0, 0, 0, 0, 0, 0, 0, 0, 0, 0, 0, 0, 0, 0, 0, 0, 0,\n",
      "        1, 0]], dtype=int8), array([-1.88353446])) len(data_dataset[10][0]) 35\n"
     ]
    }
   ],
   "source": [
    "data_y = generate_random_value(number_of_data).reshape((-1,1))\n",
    "data_X = data.Molecule.values\n",
    "scaler = StandardScaler()\n",
    "data_y = scaler.fit_transform(data_y)\n",
    "data_dataset = SMILESMolDataset(data_X, data_y, smivec_data)\n",
    "print('data_dataset[10]', data_dataset[10], 'len(data_dataset[10][0])', len(data_dataset[10][0]) )\n"
   ]
  },
  {
   "cell_type": "code",
   "execution_count": 14,
   "metadata": {},
   "outputs": [
    {
     "name": "stdout",
     "output_type": "stream",
     "text": [
      "train_dataset[10] (array([[0, 0, 0, 0, 0, 0, 0, 0, 0, 0, 0, 0, 0, 0, 0, 0, 0, 0, 0, 0, 0, 0,\n",
      "        0, 0],\n",
      "       [0, 0, 0, 0, 0, 0, 0, 0, 0, 0, 0, 0, 0, 0, 0, 0, 0, 0, 0, 0, 0, 0,\n",
      "        0, 0],\n",
      "       [0, 0, 0, 0, 0, 0, 0, 0, 0, 0, 0, 0, 0, 0, 0, 0, 0, 0, 0, 0, 0, 0,\n",
      "        0, 0],\n",
      "       [0, 0, 0, 0, 0, 0, 0, 0, 0, 0, 0, 0, 0, 0, 0, 0, 0, 0, 0, 0, 0, 0,\n",
      "        0, 0],\n",
      "       [0, 0, 0, 0, 0, 0, 0, 0, 0, 0, 0, 0, 0, 0, 0, 0, 0, 0, 0, 0, 0, 0,\n",
      "        0, 0],\n",
      "       [0, 0, 0, 0, 0, 0, 0, 0, 0, 0, 0, 0, 0, 0, 0, 0, 0, 0, 0, 0, 0, 0,\n",
      "        0, 0],\n",
      "       [0, 0, 0, 0, 0, 0, 0, 0, 0, 0, 0, 0, 0, 0, 0, 0, 0, 0, 0, 0, 0, 0,\n",
      "        0, 0],\n",
      "       [0, 0, 0, 0, 0, 0, 0, 0, 0, 0, 0, 0, 0, 0, 0, 0, 0, 0, 0, 0, 0, 0,\n",
      "        0, 0],\n",
      "       [0, 0, 0, 0, 0, 0, 0, 0, 0, 0, 0, 0, 0, 0, 0, 0, 0, 0, 0, 0, 0, 0,\n",
      "        0, 0],\n",
      "       [0, 0, 0, 0, 0, 0, 0, 0, 0, 0, 0, 0, 0, 0, 0, 0, 0, 0, 0, 0, 0, 0,\n",
      "        0, 0],\n",
      "       [0, 0, 0, 0, 0, 0, 0, 0, 0, 0, 0, 0, 0, 0, 0, 0, 0, 0, 0, 0, 0, 0,\n",
      "        0, 0],\n",
      "       [0, 0, 0, 0, 0, 0, 0, 0, 0, 0, 0, 0, 0, 0, 0, 0, 0, 0, 0, 0, 0, 0,\n",
      "        0, 0],\n",
      "       [0, 0, 0, 0, 0, 0, 0, 0, 0, 0, 0, 0, 0, 0, 0, 0, 0, 0, 0, 0, 0, 0,\n",
      "        0, 0],\n",
      "       [0, 0, 0, 0, 0, 0, 0, 0, 0, 0, 0, 0, 0, 0, 0, 0, 0, 0, 0, 0, 0, 0,\n",
      "        0, 0],\n",
      "       [0, 0, 0, 0, 0, 0, 0, 0, 0, 0, 0, 0, 0, 0, 0, 0, 0, 0, 0, 0, 0, 0,\n",
      "        0, 0],\n",
      "       [0, 0, 0, 0, 0, 0, 0, 0, 0, 0, 0, 0, 0, 0, 0, 0, 0, 0, 0, 0, 0, 0,\n",
      "        0, 0],\n",
      "       [0, 0, 0, 0, 0, 0, 0, 0, 0, 0, 0, 0, 0, 0, 0, 0, 0, 0, 0, 0, 0, 0,\n",
      "        0, 0],\n",
      "       [0, 0, 0, 0, 0, 0, 0, 0, 0, 0, 0, 0, 0, 0, 0, 0, 0, 0, 0, 0, 0, 0,\n",
      "        0, 0],\n",
      "       [0, 0, 0, 0, 0, 0, 0, 0, 0, 0, 0, 0, 0, 0, 0, 0, 0, 0, 0, 0, 0, 0,\n",
      "        0, 0],\n",
      "       [0, 0, 0, 0, 0, 0, 0, 0, 0, 0, 0, 0, 0, 0, 0, 0, 0, 0, 0, 0, 0, 0,\n",
      "        0, 0],\n",
      "       [0, 0, 0, 0, 0, 0, 0, 0, 0, 0, 0, 0, 0, 0, 0, 0, 0, 0, 0, 0, 0, 0,\n",
      "        0, 0],\n",
      "       [0, 0, 0, 0, 0, 0, 0, 0, 0, 0, 0, 0, 0, 0, 0, 0, 0, 0, 0, 0, 0, 0,\n",
      "        0, 0],\n",
      "       [0, 0, 0, 0, 0, 0, 0, 0, 0, 0, 0, 0, 0, 0, 0, 0, 0, 0, 0, 0, 0, 0,\n",
      "        0, 0],\n",
      "       [0, 0, 0, 0, 0, 0, 0, 0, 0, 0, 0, 0, 0, 0, 0, 0, 0, 0, 0, 0, 0, 0,\n",
      "        0, 0],\n",
      "       [0, 0, 0, 0, 0, 0, 0, 0, 0, 0, 0, 0, 0, 0, 0, 0, 0, 0, 0, 0, 0, 0,\n",
      "        0, 0],\n",
      "       [0, 0, 0, 0, 0, 0, 0, 0, 0, 0, 0, 0, 0, 0, 0, 0, 0, 0, 0, 0, 0, 0,\n",
      "        0, 0],\n",
      "       [0, 0, 0, 0, 0, 0, 0, 0, 0, 0, 0, 0, 0, 0, 0, 0, 0, 0, 0, 0, 0, 0,\n",
      "        0, 0],\n",
      "       [0, 0, 0, 0, 0, 0, 0, 0, 0, 0, 0, 0, 0, 0, 0, 0, 0, 0, 0, 0, 0, 0,\n",
      "        0, 0],\n",
      "       [0, 0, 0, 0, 0, 0, 0, 0, 0, 0, 0, 0, 0, 0, 0, 0, 0, 0, 0, 0, 0, 0,\n",
      "        0, 0],\n",
      "       [0, 0, 0, 0, 0, 0, 0, 0, 0, 0, 0, 0, 0, 0, 0, 0, 0, 0, 0, 0, 0, 1,\n",
      "        0, 0],\n",
      "       [0, 0, 1, 0, 0, 0, 0, 0, 0, 0, 0, 0, 0, 0, 0, 0, 0, 0, 0, 0, 0, 0,\n",
      "        0, 0],\n",
      "       [0, 0, 0, 0, 0, 0, 1, 0, 0, 0, 0, 0, 0, 0, 0, 0, 0, 0, 0, 0, 0, 0,\n",
      "        0, 0],\n",
      "       [0, 0, 0, 0, 0, 0, 0, 0, 0, 0, 0, 0, 0, 0, 0, 0, 0, 1, 0, 0, 0, 0,\n",
      "        0, 0],\n",
      "       [0, 0, 0, 0, 0, 0, 0, 0, 0, 0, 0, 0, 0, 0, 0, 0, 0, 1, 0, 0, 0, 0,\n",
      "        0, 0],\n",
      "       [0, 0, 0, 0, 0, 0, 0, 0, 0, 0, 0, 0, 0, 0, 0, 0, 0, 0, 0, 0, 0, 0,\n",
      "        1, 0]], dtype=int8), array([-6.11660364])) len(train_dataset[10][0]) 35\n"
     ]
    }
   ],
   "source": [
    "train_dataset = SMILESMolDataset(X_train, y_train, smivec)\n",
    "train_dataset[10]\n",
    "print('train_dataset[10]', train_dataset[10], 'len(train_dataset[10][0])', len(train_dataset[10][0]) )"
   ]
  },
  {
   "cell_type": "code",
   "execution_count": 15,
   "metadata": {},
   "outputs": [
    {
     "data": {
      "text/plain": [
       "(array([[0, 0, 0, 0, 0, 0, 0, 0, 0, 0, 0, 0, 0, 0, 0, 0, 0, 0, 0, 0, 0, 0,\n",
       "         0, 0],\n",
       "        [0, 0, 0, 0, 0, 0, 0, 0, 0, 0, 0, 0, 0, 0, 0, 0, 0, 0, 0, 0, 0, 0,\n",
       "         0, 0],\n",
       "        [0, 0, 0, 0, 0, 0, 0, 0, 0, 0, 0, 0, 0, 0, 0, 0, 0, 0, 0, 0, 0, 0,\n",
       "         0, 0],\n",
       "        [0, 0, 0, 0, 0, 0, 0, 0, 0, 0, 0, 0, 0, 0, 0, 0, 0, 0, 0, 0, 0, 0,\n",
       "         0, 0],\n",
       "        [0, 0, 0, 0, 0, 0, 0, 0, 0, 0, 0, 0, 0, 0, 0, 0, 0, 0, 0, 0, 0, 0,\n",
       "         0, 0],\n",
       "        [0, 0, 0, 0, 0, 0, 0, 0, 0, 0, 0, 0, 0, 0, 0, 0, 0, 0, 0, 0, 0, 0,\n",
       "         0, 0],\n",
       "        [0, 0, 0, 0, 0, 0, 0, 0, 0, 0, 0, 0, 0, 0, 0, 0, 0, 0, 0, 0, 0, 1,\n",
       "         0, 0],\n",
       "        [0, 0, 0, 0, 0, 0, 0, 1, 0, 0, 0, 0, 0, 0, 0, 0, 0, 0, 0, 0, 0, 0,\n",
       "         0, 0],\n",
       "        [0, 0, 0, 0, 1, 0, 0, 0, 0, 0, 0, 0, 0, 0, 0, 0, 0, 0, 0, 0, 0, 0,\n",
       "         0, 0],\n",
       "        [0, 0, 0, 0, 0, 0, 0, 0, 0, 0, 0, 0, 0, 1, 0, 0, 0, 0, 0, 0, 0, 0,\n",
       "         0, 0],\n",
       "        [0, 0, 0, 0, 0, 0, 0, 0, 0, 0, 0, 0, 0, 0, 0, 0, 0, 0, 1, 0, 0, 0,\n",
       "         0, 0],\n",
       "        [0, 0, 0, 0, 0, 0, 0, 0, 1, 0, 0, 0, 0, 0, 0, 0, 0, 0, 0, 0, 0, 0,\n",
       "         0, 0],\n",
       "        [0, 0, 0, 0, 0, 0, 0, 0, 0, 0, 0, 0, 0, 0, 0, 0, 0, 0, 1, 0, 0, 0,\n",
       "         0, 0],\n",
       "        [0, 0, 0, 0, 0, 0, 0, 0, 0, 0, 0, 0, 0, 0, 0, 0, 0, 0, 1, 0, 0, 0,\n",
       "         0, 0],\n",
       "        [0, 0, 0, 0, 0, 0, 0, 0, 0, 0, 0, 0, 0, 0, 0, 0, 0, 0, 1, 0, 0, 0,\n",
       "         0, 0],\n",
       "        [0, 0, 0, 0, 0, 0, 0, 0, 0, 0, 0, 0, 0, 0, 0, 0, 0, 0, 1, 0, 0, 0,\n",
       "         0, 0],\n",
       "        [0, 0, 1, 0, 0, 0, 0, 0, 0, 0, 0, 0, 0, 0, 0, 0, 0, 0, 0, 0, 0, 0,\n",
       "         0, 0],\n",
       "        [0, 0, 0, 0, 0, 0, 0, 0, 1, 0, 0, 0, 0, 0, 0, 0, 0, 0, 0, 0, 0, 0,\n",
       "         0, 0],\n",
       "        [0, 0, 0, 0, 0, 0, 0, 0, 0, 1, 0, 0, 0, 0, 0, 0, 0, 0, 0, 0, 0, 0,\n",
       "         0, 0],\n",
       "        [0, 0, 0, 0, 0, 0, 0, 1, 0, 0, 0, 0, 0, 0, 0, 0, 0, 0, 0, 0, 0, 0,\n",
       "         0, 0],\n",
       "        [0, 0, 0, 0, 0, 0, 0, 1, 0, 0, 0, 0, 0, 0, 0, 0, 0, 0, 0, 0, 0, 0,\n",
       "         0, 0],\n",
       "        [0, 0, 0, 0, 0, 0, 0, 0, 0, 0, 0, 0, 0, 1, 0, 0, 0, 0, 0, 0, 0, 0,\n",
       "         0, 0],\n",
       "        [0, 0, 0, 0, 0, 0, 0, 0, 0, 0, 0, 0, 0, 0, 0, 0, 0, 0, 1, 0, 0, 0,\n",
       "         0, 0],\n",
       "        [1, 0, 0, 0, 0, 0, 0, 0, 0, 0, 0, 0, 0, 0, 0, 0, 0, 0, 0, 0, 0, 0,\n",
       "         0, 0],\n",
       "        [0, 0, 0, 0, 0, 0, 0, 0, 0, 1, 0, 0, 0, 0, 0, 0, 0, 0, 0, 0, 0, 0,\n",
       "         0, 0],\n",
       "        [0, 0, 0, 0, 0, 0, 0, 1, 0, 0, 0, 0, 0, 0, 0, 0, 0, 0, 0, 0, 0, 0,\n",
       "         0, 0],\n",
       "        [0, 0, 0, 0, 0, 0, 0, 0, 0, 0, 0, 0, 0, 1, 0, 0, 0, 0, 0, 0, 0, 0,\n",
       "         0, 0],\n",
       "        [0, 0, 1, 0, 0, 0, 0, 0, 0, 0, 0, 0, 0, 0, 0, 0, 0, 0, 0, 0, 0, 0,\n",
       "         0, 0],\n",
       "        [0, 0, 0, 0, 0, 0, 0, 0, 0, 1, 0, 0, 0, 0, 0, 0, 0, 0, 0, 0, 0, 0,\n",
       "         0, 0],\n",
       "        [0, 0, 0, 1, 0, 0, 0, 0, 0, 0, 0, 0, 0, 0, 0, 0, 0, 0, 0, 0, 0, 0,\n",
       "         0, 0],\n",
       "        [0, 0, 0, 0, 0, 0, 0, 0, 0, 0, 0, 0, 0, 0, 0, 0, 1, 0, 0, 0, 0, 0,\n",
       "         0, 0],\n",
       "        [0, 0, 0, 0, 0, 0, 0, 0, 0, 0, 0, 0, 0, 0, 0, 1, 0, 0, 0, 0, 0, 0,\n",
       "         0, 0],\n",
       "        [0, 0, 0, 0, 0, 0, 0, 0, 0, 0, 0, 0, 0, 0, 0, 0, 0, 0, 0, 1, 0, 0,\n",
       "         0, 0],\n",
       "        [0, 0, 0, 0, 1, 0, 0, 0, 0, 0, 0, 0, 0, 0, 0, 0, 0, 0, 0, 0, 0, 0,\n",
       "         0, 0],\n",
       "        [0, 0, 0, 0, 0, 0, 0, 0, 0, 0, 0, 0, 0, 0, 0, 0, 0, 0, 0, 0, 0, 0,\n",
       "         1, 0]], dtype=int8),\n",
       " array([0.83291491]))"
      ]
     },
     "execution_count": 15,
     "metadata": {},
     "output_type": "execute_result"
    }
   ],
   "source": [
    "# return a random SMILES from the GDB13_Subset\n",
    "def generate_random_seed():\n",
    "    random_data = data_dataset[random.randint(0, number_of_data)]\n",
    "    #random_data = data_dataset[10]\n",
    "    return random_data\n",
    "\n",
    "generate_random_seed()"
   ]
  },
  {
   "cell_type": "code",
   "execution_count": 16,
   "metadata": {},
   "outputs": [],
   "source": [
    "epochs = 1\n",
    "dims = smivec.dims\n",
    "lstm_size = 128  # The size of the LSTM layer\n",
    "hidden_size = 128  # The size of the hidden non-linear layer\n",
    "dropout_rate = 0.50 # The dropout rate\n",
    "out_size = 1        # This is just a single task, so this will be one\n",
    "#batch_size = 128   # The mini_batch size during training\n",
    "batch_size = 1   # The mini_batch size during training\n",
    "learning_rate = 0.003  # The initial learning rate for the optimizer"
   ]
  },
  {
   "cell_type": "code",
   "execution_count": 25,
   "metadata": {},
   "outputs": [],
   "source": [
    "# discriminator class\n",
    "\n",
    "class Discriminator(nn.Module):\n",
    "    \n",
    "    def __init__(self):\n",
    "        # initialise parent pytorch class\n",
    "        super().__init__()\n",
    "        \n",
    "        length = dims[0] \n",
    "        number_tokens = dims[1] + 1  # add the label layer\n",
    "        #print('LSTM input_size', number_tokens)\n",
    "         \n",
    "        \n",
    "        self.lstm = nn.LSTM(input_size=number_tokens, hidden_size=lstm_size, num_layers=1, batch_first=True, bidirectional=False)\n",
    "        self.fc1 = nn.Linear(lstm_size, hidden_size) # Output layer\n",
    "        self.activation = nn.ReLU() # Non-Linear ReLU Layer       \n",
    "        self.fc_out = nn.Linear(hidden_size, out_size) # Output layer\n",
    "        self.dropout = nn.Dropout(dropout_rate)       \n",
    "        \n",
    "        # create loss function\n",
    "        self.loss_function = nn.MSELoss()\n",
    "\n",
    "        # create optimiser, simple stochastic gradient descent\n",
    "        self.optimiser = torch.optim.Adam(self.parameters(), lr=learning_rate)\n",
    "        self.lr_scheduler = ReduceLROnPlateau(self.optimiser, mode='min', factor=0.5, patience=50, \n",
    "                  verbose=True, threshold=0.0001, threshold_mode='rel', cooldown=0, min_lr=1e-6, eps=1e-08)\n",
    "\n",
    "        # counter and accumulator for progress\n",
    "        self.counter = 0;\n",
    "        self.progress = []\n",
    "\n",
    "        pass\n",
    "    \n",
    "    \n",
    "    def forward(self, input, label_tensor):\n",
    "        # combine seed and label\n",
    "        \n",
    "        \n",
    "        #print(\"input.shape\", input.shape, \"label_tensor.shape\", label_tensor.shape)\n",
    "        x = torch.cat((input, label_tensor), -1)\n",
    "        #print('after torch.cat', x.shape)\n",
    "        \n",
    "        \n",
    "        out, (h_n, c_n) = self.lstm(x) #LSTM network reads in one-hot-encoded SMILES, h_n is last output, out is for all timesteps\n",
    "        out = self.dropout(h_n) #Dropout\n",
    "        out = self.fc1(out) # Pass into the hidden layer\n",
    "        out = self.activation(out) # Use ReLU on hidden activation\n",
    "        out = self.dropout(out) # dropout\n",
    "        out = self.fc_out(out) # Use a linear layer for the output\n",
    "        return out\n",
    "    \n",
    "    \n",
    "    def train(self, inputs, label_tensor, targets):\n",
    "        # calculate the output of the network\n",
    "        outputs = self.forward(inputs, label_tensor)\n",
    "        \n",
    "        \n",
    "        #print('outputs', outputs)\n",
    "        #print('targets', targets)\n",
    "        # calculate loss\n",
    "        outputs = outputs.view(-1)\n",
    "        targets = targets.view(-1)\n",
    "        loss = self.loss_function(outputs, targets)\n",
    "\n",
    "        # increase counter and accumulate error every 10\n",
    "        self.counter += 1;\n",
    "        if (self.counter % 10 == 0):\n",
    "            self.progress.append(loss.item())\n",
    "            pass\n",
    "        if (self.counter % 10000 == 0):\n",
    "            print(\"counter = \", self.counter)\n",
    "            pass\n",
    "\n",
    "        # zero gradients, perform a backward pass, update weights\n",
    "        self.optimiser.zero_grad()\n",
    "        loss.backward()\n",
    "        self.optimiser.step()\n",
    "\n",
    "        pass\n",
    "    \n",
    "    \n",
    "    def plot_progress(self):\n",
    "        df = pandas.DataFrame(self.progress, columns=['loss'])\n",
    "        df.plot(ylim=(0), figsize=(16,8), alpha=0.1, marker='.', grid=True, yticks=(0, 0.25, 0.5, 1.0, 5.0))\n",
    "        pass\n",
    "    \n",
    "    pass"
   ]
  },
  {
   "cell_type": "code",
   "execution_count": 26,
   "metadata": {},
   "outputs": [],
   "source": [
    "from torch.utils.data import DataLoader\n",
    "data_loader = torch.utils.data.DataLoader(train_dataset,batch_size=batch_size,shuffle=True, num_workers=4)\n",
    "\n"
   ]
  },
  {
   "cell_type": "code",
   "execution_count": 27,
   "metadata": {},
   "outputs": [
    {
     "data": {
      "text/plain": [
       "device(type='cuda')"
      ]
     },
     "execution_count": 27,
     "metadata": {},
     "output_type": "execute_result"
    }
   ],
   "source": [
    "device = torch.device(\"cuda\" if torch.cuda.is_available() else \"cpu\")\n",
    "device"
   ]
  },
  {
   "cell_type": "code",
   "execution_count": 29,
   "metadata": {},
   "outputs": [
    {
     "name": "stdout",
     "output_type": "stream",
     "text": [
      "counter =  10000\n"
     ]
    },
    {
     "ename": "KeyboardInterrupt",
     "evalue": "",
     "output_type": "error",
     "traceback": [
      "\u001b[0;31m---------------------------------------------------------------------------\u001b[0m",
      "\u001b[0;31mKeyboardInterrupt\u001b[0m                         Traceback (most recent call last)",
      "\u001b[0;32m<timed exec>\u001b[0m in \u001b[0;36m<module>\u001b[0;34m\u001b[0m\n",
      "\u001b[0;32m~/anaconda3/lib/python3.7/site-packages/torch/utils/data/dataloader.py\u001b[0m in \u001b[0;36m__next__\u001b[0;34m(self)\u001b[0m\n\u001b[1;32m    433\u001b[0m         \u001b[0;32mif\u001b[0m \u001b[0mself\u001b[0m\u001b[0;34m.\u001b[0m\u001b[0m_sampler_iter\u001b[0m \u001b[0;32mis\u001b[0m \u001b[0;32mNone\u001b[0m\u001b[0;34m:\u001b[0m\u001b[0;34m\u001b[0m\u001b[0;34m\u001b[0m\u001b[0m\n\u001b[1;32m    434\u001b[0m             \u001b[0mself\u001b[0m\u001b[0;34m.\u001b[0m\u001b[0m_reset\u001b[0m\u001b[0;34m(\u001b[0m\u001b[0;34m)\u001b[0m\u001b[0;34m\u001b[0m\u001b[0;34m\u001b[0m\u001b[0m\n\u001b[0;32m--> 435\u001b[0;31m         \u001b[0mdata\u001b[0m \u001b[0;34m=\u001b[0m \u001b[0mself\u001b[0m\u001b[0;34m.\u001b[0m\u001b[0m_next_data\u001b[0m\u001b[0;34m(\u001b[0m\u001b[0;34m)\u001b[0m\u001b[0;34m\u001b[0m\u001b[0;34m\u001b[0m\u001b[0m\n\u001b[0m\u001b[1;32m    436\u001b[0m         \u001b[0mself\u001b[0m\u001b[0;34m.\u001b[0m\u001b[0m_num_yielded\u001b[0m \u001b[0;34m+=\u001b[0m \u001b[0;36m1\u001b[0m\u001b[0;34m\u001b[0m\u001b[0;34m\u001b[0m\u001b[0m\n\u001b[1;32m    437\u001b[0m         \u001b[0;32mif\u001b[0m \u001b[0mself\u001b[0m\u001b[0;34m.\u001b[0m\u001b[0m_dataset_kind\u001b[0m \u001b[0;34m==\u001b[0m \u001b[0m_DatasetKind\u001b[0m\u001b[0;34m.\u001b[0m\u001b[0mIterable\u001b[0m \u001b[0;32mand\u001b[0m\u001b[0;31m \u001b[0m\u001b[0;31m\\\u001b[0m\u001b[0;34m\u001b[0m\u001b[0;34m\u001b[0m\u001b[0m\n",
      "\u001b[0;32m~/anaconda3/lib/python3.7/site-packages/torch/utils/data/dataloader.py\u001b[0m in \u001b[0;36m_next_data\u001b[0;34m(self)\u001b[0m\n\u001b[1;32m   1066\u001b[0m \u001b[0;34m\u001b[0m\u001b[0m\n\u001b[1;32m   1067\u001b[0m             \u001b[0;32massert\u001b[0m \u001b[0;32mnot\u001b[0m \u001b[0mself\u001b[0m\u001b[0;34m.\u001b[0m\u001b[0m_shutdown\u001b[0m \u001b[0;32mand\u001b[0m \u001b[0mself\u001b[0m\u001b[0;34m.\u001b[0m\u001b[0m_tasks_outstanding\u001b[0m \u001b[0;34m>\u001b[0m \u001b[0;36m0\u001b[0m\u001b[0;34m\u001b[0m\u001b[0;34m\u001b[0m\u001b[0m\n\u001b[0;32m-> 1068\u001b[0;31m             \u001b[0midx\u001b[0m\u001b[0;34m,\u001b[0m \u001b[0mdata\u001b[0m \u001b[0;34m=\u001b[0m \u001b[0mself\u001b[0m\u001b[0;34m.\u001b[0m\u001b[0m_get_data\u001b[0m\u001b[0;34m(\u001b[0m\u001b[0;34m)\u001b[0m\u001b[0;34m\u001b[0m\u001b[0;34m\u001b[0m\u001b[0m\n\u001b[0m\u001b[1;32m   1069\u001b[0m             \u001b[0mself\u001b[0m\u001b[0;34m.\u001b[0m\u001b[0m_tasks_outstanding\u001b[0m \u001b[0;34m-=\u001b[0m \u001b[0;36m1\u001b[0m\u001b[0;34m\u001b[0m\u001b[0;34m\u001b[0m\u001b[0m\n\u001b[1;32m   1070\u001b[0m             \u001b[0;32mif\u001b[0m \u001b[0mself\u001b[0m\u001b[0;34m.\u001b[0m\u001b[0m_dataset_kind\u001b[0m \u001b[0;34m==\u001b[0m \u001b[0m_DatasetKind\u001b[0m\u001b[0;34m.\u001b[0m\u001b[0mIterable\u001b[0m\u001b[0;34m:\u001b[0m\u001b[0;34m\u001b[0m\u001b[0;34m\u001b[0m\u001b[0m\n",
      "\u001b[0;32m~/anaconda3/lib/python3.7/site-packages/torch/utils/data/dataloader.py\u001b[0m in \u001b[0;36m_get_data\u001b[0;34m(self)\u001b[0m\n\u001b[1;32m   1032\u001b[0m         \u001b[0;32melse\u001b[0m\u001b[0;34m:\u001b[0m\u001b[0;34m\u001b[0m\u001b[0;34m\u001b[0m\u001b[0m\n\u001b[1;32m   1033\u001b[0m             \u001b[0;32mwhile\u001b[0m \u001b[0;32mTrue\u001b[0m\u001b[0;34m:\u001b[0m\u001b[0;34m\u001b[0m\u001b[0;34m\u001b[0m\u001b[0m\n\u001b[0;32m-> 1034\u001b[0;31m                 \u001b[0msuccess\u001b[0m\u001b[0;34m,\u001b[0m \u001b[0mdata\u001b[0m \u001b[0;34m=\u001b[0m \u001b[0mself\u001b[0m\u001b[0;34m.\u001b[0m\u001b[0m_try_get_data\u001b[0m\u001b[0;34m(\u001b[0m\u001b[0;34m)\u001b[0m\u001b[0;34m\u001b[0m\u001b[0;34m\u001b[0m\u001b[0m\n\u001b[0m\u001b[1;32m   1035\u001b[0m                 \u001b[0;32mif\u001b[0m \u001b[0msuccess\u001b[0m\u001b[0;34m:\u001b[0m\u001b[0;34m\u001b[0m\u001b[0;34m\u001b[0m\u001b[0m\n\u001b[1;32m   1036\u001b[0m                     \u001b[0;32mreturn\u001b[0m \u001b[0mdata\u001b[0m\u001b[0;34m\u001b[0m\u001b[0;34m\u001b[0m\u001b[0m\n",
      "\u001b[0;32m~/anaconda3/lib/python3.7/site-packages/torch/utils/data/dataloader.py\u001b[0m in \u001b[0;36m_try_get_data\u001b[0;34m(self, timeout)\u001b[0m\n\u001b[1;32m    870\u001b[0m         \u001b[0;31m#   (bool: whether successfully get data, any: data if successful else None)\u001b[0m\u001b[0;34m\u001b[0m\u001b[0;34m\u001b[0m\u001b[0;34m\u001b[0m\u001b[0m\n\u001b[1;32m    871\u001b[0m         \u001b[0;32mtry\u001b[0m\u001b[0;34m:\u001b[0m\u001b[0;34m\u001b[0m\u001b[0;34m\u001b[0m\u001b[0m\n\u001b[0;32m--> 872\u001b[0;31m             \u001b[0mdata\u001b[0m \u001b[0;34m=\u001b[0m \u001b[0mself\u001b[0m\u001b[0;34m.\u001b[0m\u001b[0m_data_queue\u001b[0m\u001b[0;34m.\u001b[0m\u001b[0mget\u001b[0m\u001b[0;34m(\u001b[0m\u001b[0mtimeout\u001b[0m\u001b[0;34m=\u001b[0m\u001b[0mtimeout\u001b[0m\u001b[0;34m)\u001b[0m\u001b[0;34m\u001b[0m\u001b[0;34m\u001b[0m\u001b[0m\n\u001b[0m\u001b[1;32m    873\u001b[0m             \u001b[0;32mreturn\u001b[0m \u001b[0;34m(\u001b[0m\u001b[0;32mTrue\u001b[0m\u001b[0;34m,\u001b[0m \u001b[0mdata\u001b[0m\u001b[0;34m)\u001b[0m\u001b[0;34m\u001b[0m\u001b[0;34m\u001b[0m\u001b[0m\n\u001b[1;32m    874\u001b[0m         \u001b[0;32mexcept\u001b[0m \u001b[0mException\u001b[0m \u001b[0;32mas\u001b[0m \u001b[0me\u001b[0m\u001b[0;34m:\u001b[0m\u001b[0;34m\u001b[0m\u001b[0;34m\u001b[0m\u001b[0m\n",
      "\u001b[0;32m~/anaconda3/lib/python3.7/multiprocessing/queues.py\u001b[0m in \u001b[0;36mget\u001b[0;34m(self, block, timeout)\u001b[0m\n\u001b[1;32m    111\u001b[0m                 \u001b[0mself\u001b[0m\u001b[0;34m.\u001b[0m\u001b[0m_rlock\u001b[0m\u001b[0;34m.\u001b[0m\u001b[0mrelease\u001b[0m\u001b[0;34m(\u001b[0m\u001b[0;34m)\u001b[0m\u001b[0;34m\u001b[0m\u001b[0;34m\u001b[0m\u001b[0m\n\u001b[1;32m    112\u001b[0m         \u001b[0;31m# unserialize the data after having released the lock\u001b[0m\u001b[0;34m\u001b[0m\u001b[0;34m\u001b[0m\u001b[0;34m\u001b[0m\u001b[0m\n\u001b[0;32m--> 113\u001b[0;31m         \u001b[0;32mreturn\u001b[0m \u001b[0m_ForkingPickler\u001b[0m\u001b[0;34m.\u001b[0m\u001b[0mloads\u001b[0m\u001b[0;34m(\u001b[0m\u001b[0mres\u001b[0m\u001b[0;34m)\u001b[0m\u001b[0;34m\u001b[0m\u001b[0;34m\u001b[0m\u001b[0m\n\u001b[0m\u001b[1;32m    114\u001b[0m \u001b[0;34m\u001b[0m\u001b[0m\n\u001b[1;32m    115\u001b[0m     \u001b[0;32mdef\u001b[0m \u001b[0mqsize\u001b[0m\u001b[0;34m(\u001b[0m\u001b[0mself\u001b[0m\u001b[0;34m)\u001b[0m\u001b[0;34m:\u001b[0m\u001b[0;34m\u001b[0m\u001b[0;34m\u001b[0m\u001b[0m\n",
      "\u001b[0;32m~/anaconda3/lib/python3.7/site-packages/torch/multiprocessing/reductions.py\u001b[0m in \u001b[0;36mrebuild_storage_fd\u001b[0;34m(cls, df, size)\u001b[0m\n\u001b[1;32m    279\u001b[0m \u001b[0;34m\u001b[0m\u001b[0m\n\u001b[1;32m    280\u001b[0m \u001b[0;34m\u001b[0m\u001b[0m\n\u001b[0;32m--> 281\u001b[0;31m \u001b[0;32mdef\u001b[0m \u001b[0mrebuild_storage_fd\u001b[0m\u001b[0;34m(\u001b[0m\u001b[0mcls\u001b[0m\u001b[0;34m,\u001b[0m \u001b[0mdf\u001b[0m\u001b[0;34m,\u001b[0m \u001b[0msize\u001b[0m\u001b[0;34m)\u001b[0m\u001b[0;34m:\u001b[0m\u001b[0;34m\u001b[0m\u001b[0;34m\u001b[0m\u001b[0m\n\u001b[0m\u001b[1;32m    282\u001b[0m     \u001b[0mfd\u001b[0m \u001b[0;34m=\u001b[0m \u001b[0mdf\u001b[0m\u001b[0;34m.\u001b[0m\u001b[0mdetach\u001b[0m\u001b[0;34m(\u001b[0m\u001b[0;34m)\u001b[0m\u001b[0;34m\u001b[0m\u001b[0;34m\u001b[0m\u001b[0m\n\u001b[1;32m    283\u001b[0m     \u001b[0;32mtry\u001b[0m\u001b[0;34m:\u001b[0m\u001b[0;34m\u001b[0m\u001b[0;34m\u001b[0m\u001b[0m\n",
      "\u001b[0;31mKeyboardInterrupt\u001b[0m: "
     ]
    }
   ],
   "source": [
    "%%time\n",
    "# test discriminator can separate real data from random noise\n",
    "\n",
    "\n",
    "D = Discriminator()\n",
    "D.to(device)\n",
    "\n",
    "for smiles,label in data_loader:\n",
    "    # real\n",
    "    t = torch.FloatTensor([1.0]).view(1,1,1).to(device)\n",
    "    label = label.float().to(device)\n",
    "    label = label.repeat(smiles.shape[0], smiles.shape[1], 1)\n",
    "    D.train(smiles.to(device).float(), label, t)\n",
    "\n",
    "    # fake\n",
    "    fake = generate_random_seed()\n",
    "    fake_input = torch.FloatTensor(fake[0]).to(device)\n",
    "    fake_input = fake_input.reshape(1, fake_input.shape[0], fake_input.shape[1])\n",
    "    fake_label = torch.FloatTensor(fake[1]).to(device)\n",
    "    fake_label = fake_label.repeat(smiles.shape[0], smiles.shape[1], 1)\n",
    "    D.train(fake_input, fake_label, torch.FloatTensor([0.0]).to(device)  )\n",
    "    pass"
   ]
  },
  {
   "cell_type": "code",
   "execution_count": 24,
   "metadata": {},
   "outputs": [
    {
     "data": {
      "image/png": "[encoded data removed]",
      "text/plain": [
       "<Figure size 1152x576 with 1 Axes>"
      ]
     },
     "metadata": {
      "needs_background": "light"
     },
     "output_type": "display_data"
    }
   ],
   "source": [
    "D.plot_progress()"
   ]
  },
  {
   "cell_type": "code",
   "execution_count": 25,
   "metadata": {},
   "outputs": [
    {
     "name": "stdout",
     "output_type": "stream",
     "text": [
      "tensor([[[0.9721]]], device='cuda:0', grad_fn=<AddBackward0>)\n",
      "tensor([[[1.0488]]], device='cuda:0', grad_fn=<AddBackward0>)\n",
      "tensor([[[0.3684]]], device='cuda:0', grad_fn=<AddBackward0>)\n",
      "tensor([[[1.1044]]], device='cuda:0', grad_fn=<AddBackward0>)\n",
      "tensor([[[0.0913]]], device='cuda:0', grad_fn=<AddBackward0>)\n",
      "tensor([[[0.0408]]], device='cuda:0', grad_fn=<AddBackward0>)\n",
      "tensor([[[0.0139]]], device='cuda:0', grad_fn=<AddBackward0>)\n",
      "tensor([[[0.0537]]], device='cuda:0', grad_fn=<AddBackward0>)\n"
     ]
    }
   ],
   "source": [
    "'''\n",
    "for i in range(4):\n",
    "    #random.randint(0,20000)\n",
    "    data_tensor,_,_ = qm9dataset[random.randint(0,130000)]\n",
    "    print( D.forward( data_tensor ).item() )\n",
    "    pass\n",
    "\n",
    "for i in range(4):\n",
    "    print( D.forward(generate_random_smiles(max_length_smiles)).item() )\n",
    "    pass\n",
    "\n",
    "\n",
    "\n",
    "D = Discriminator()\n",
    "D.to(device)\n",
    "'''\n",
    "\n",
    "\n",
    "i = 0\n",
    "for smiles,label in data_loader:\n",
    "    # real\n",
    "    t = torch.FloatTensor([1.0]).view(1,1,1).to(device)\n",
    "    label = label.float().to(device)\n",
    "    label = label.repeat(smiles.shape[0], smiles.shape[1], 1)\n",
    "    print(D.forward(smiles.to(device).float(), label))\n",
    "    \n",
    "    i += 1\n",
    "    if (i >= 4):\n",
    "        break\n",
    "    pass\n",
    "\n",
    "for i in range(4):\n",
    "    fake = generate_random_seed()\n",
    "    fake_input = torch.FloatTensor(fake[0]).to(device)\n",
    "    fake_input = fake_input.reshape(1, fake_input.shape[0], fake_input.shape[1])\n",
    "    fake_label = torch.FloatTensor(fake[1]).to(device)\n",
    "    fake_label = fake_label.repeat(smiles.shape[0], smiles.shape[1], 1)\n",
    "    print( D.forward(fake_input, fake_label))\n",
    "    pass\n"
   ]
  },
  {
   "cell_type": "code",
   "execution_count": 72,
   "metadata": {},
   "outputs": [],
   "source": [
    "# generator class\n",
    "\n",
    "class Generator(nn.Module):\n",
    "    \n",
    "    def __init__(self):\n",
    "        # initialise parent pytorch class\n",
    "        super().__init__()\n",
    "        \n",
    "        self.model = nn.Sequential(\n",
    "            nn.Linear(2,1000),\n",
    "            nn.Sigmoid(),\n",
    "            nn.Linear(1000,number_of_data)\n",
    "            #nn.Softmax(dim = 1)\n",
    "        )\n",
    "        \n",
    "        \n",
    "        # create optimiser, simple stochastic gradient descent\n",
    "        self.optimiser = torch.optim.Adam(self.parameters(), lr=0.0001)\n",
    "        \n",
    "        # counter and accumulator for progress\n",
    "        self.counter = 0;\n",
    "        self.progress = []\n",
    "        \n",
    "        pass\n",
    "    \n",
    "    \n",
    "    def forward(self, seed_tensor, label_tensor):        \n",
    "        # combine seed and label\n",
    "        #print('input.shape', seed_tensor.shape, 'label_tensor', label_tensor.shape, \"label_tensor\", label_tensor)\n",
    "        inputs = torch.cat((seed_tensor, label_tensor))\n",
    "        #print('after torch.cat', inputs.shape)\n",
    "        return F.softmax(self.model(inputs), dim=0)\n",
    "\n",
    "\n",
    "    def train(self, D, inputs, label_tensor, targets):\n",
    "        # calculate the output of the network\n",
    "        g_output = self.forward(inputs, label_tensor)\n",
    "        \n",
    "        # pass onto Discriminator\n",
    "        d_output = D.forward(g_output, label_tensor)\n",
    "        \n",
    "        # calculate error\n",
    "        loss = D.loss_function(d_output, targets)\n",
    "\n",
    "        # increase counter and accumulate error every 10\n",
    "        self.counter += 1;\n",
    "        if (self.counter % 10 == 0):\n",
    "            self.progress.append(loss.item())\n",
    "            pass\n",
    "\n",
    "        # zero gradients, perform a backward pass, update weights\n",
    "        self.optimiser.zero_grad()\n",
    "        loss.backward()\n",
    "        self.optimiser.step()\n",
    "\n",
    "        pass\n",
    "    \n",
    "    def get_index(self, tensor_softmax):\n",
    "        return torch.argmax(tensor_softmax)\n",
    "\n",
    "    def get_smiles(self, label):\n",
    "        fake_input = torch.FloatTensor(generate_random_seed_G(1)).to(device)\n",
    "        fake_label = torch.FloatTensor([label]).to(device)\n",
    "        \n",
    "        idx = self.get_index(G.forward(fake_input, fake_label)).detach().cpu().numpy()\n",
    "        print(data['smiles'].iloc[idx])\n",
    "        pass\n",
    "\n",
    "    \n",
    "    def plot_progress(self):\n",
    "        df = pandas.DataFrame(self.progress, columns=['loss'])\n",
    "        df.plot(ylim=(0), figsize=(16,8), alpha=0.1, marker='.', grid=True, yticks=(0, 0.25, 0.5, 1.0, 5.0))\n",
    "        pass\n",
    "    \n",
    "    pass"
   ]
  },
  {
   "cell_type": "code",
   "execution_count": 73,
   "metadata": {},
   "outputs": [
    {
     "data": {
      "text/plain": [
       "(array([[0, 0, 0, 0, 0, 0, 0, 0, 0, 0, 0, 0, 0, 0, 0, 0, 0, 0, 0, 0, 0, 0,\n",
       "         0, 0],\n",
       "        [0, 0, 0, 0, 0, 0, 0, 0, 0, 0, 0, 0, 0, 0, 0, 0, 0, 0, 0, 0, 0, 0,\n",
       "         0, 0],\n",
       "        [0, 0, 0, 0, 0, 0, 0, 0, 0, 0, 0, 0, 0, 0, 0, 0, 0, 0, 0, 0, 0, 0,\n",
       "         0, 0],\n",
       "        [0, 0, 0, 0, 0, 0, 0, 0, 0, 0, 0, 0, 0, 0, 0, 0, 0, 0, 0, 0, 0, 0,\n",
       "         0, 0],\n",
       "        [0, 0, 0, 0, 0, 0, 0, 0, 0, 0, 0, 0, 0, 0, 0, 0, 0, 0, 0, 0, 0, 0,\n",
       "         0, 0],\n",
       "        [0, 0, 0, 0, 0, 0, 0, 0, 0, 0, 0, 0, 0, 0, 0, 0, 0, 0, 0, 0, 0, 0,\n",
       "         0, 0],\n",
       "        [0, 0, 0, 0, 0, 0, 0, 0, 0, 0, 0, 0, 0, 0, 0, 0, 0, 0, 0, 0, 0, 0,\n",
       "         0, 0],\n",
       "        [0, 0, 0, 0, 0, 0, 0, 0, 0, 0, 0, 0, 0, 0, 0, 0, 0, 0, 0, 0, 0, 0,\n",
       "         0, 0],\n",
       "        [0, 0, 0, 0, 0, 0, 0, 0, 0, 0, 0, 0, 0, 0, 0, 0, 0, 0, 0, 0, 0, 0,\n",
       "         0, 0],\n",
       "        [0, 0, 0, 0, 0, 0, 0, 0, 0, 0, 0, 0, 0, 0, 0, 0, 0, 0, 0, 0, 0, 0,\n",
       "         0, 0],\n",
       "        [0, 0, 0, 0, 0, 0, 0, 0, 0, 0, 0, 0, 0, 0, 0, 0, 0, 0, 0, 0, 0, 0,\n",
       "         0, 0],\n",
       "        [0, 0, 0, 0, 0, 0, 0, 0, 0, 0, 0, 0, 0, 0, 0, 0, 0, 0, 0, 0, 0, 0,\n",
       "         0, 0],\n",
       "        [0, 0, 0, 0, 0, 0, 0, 0, 0, 0, 0, 0, 0, 0, 0, 0, 0, 0, 0, 0, 0, 1,\n",
       "         0, 0],\n",
       "        [0, 0, 0, 0, 0, 0, 0, 0, 0, 0, 0, 0, 0, 0, 0, 0, 1, 0, 0, 0, 0, 0,\n",
       "         0, 0],\n",
       "        [0, 0, 1, 0, 0, 0, 0, 0, 0, 0, 0, 0, 0, 0, 0, 0, 0, 0, 0, 0, 0, 0,\n",
       "         0, 0],\n",
       "        [0, 0, 0, 0, 0, 0, 0, 0, 0, 0, 0, 0, 0, 0, 0, 0, 1, 0, 0, 0, 0, 0,\n",
       "         0, 0],\n",
       "        [0, 1, 0, 0, 0, 0, 0, 0, 0, 0, 0, 0, 0, 0, 0, 0, 0, 0, 0, 0, 0, 0,\n",
       "         0, 0],\n",
       "        [0, 0, 0, 0, 0, 0, 0, 0, 0, 0, 0, 0, 0, 0, 0, 0, 1, 0, 0, 0, 0, 0,\n",
       "         0, 0],\n",
       "        [0, 0, 0, 0, 0, 1, 0, 0, 0, 0, 0, 0, 0, 0, 0, 0, 0, 0, 0, 0, 0, 0,\n",
       "         0, 0],\n",
       "        [0, 0, 0, 1, 0, 0, 0, 0, 0, 0, 0, 0, 0, 0, 0, 0, 0, 0, 0, 0, 0, 0,\n",
       "         0, 0],\n",
       "        [0, 0, 0, 0, 0, 0, 0, 0, 0, 0, 0, 0, 0, 0, 0, 0, 1, 0, 0, 0, 0, 0,\n",
       "         0, 0],\n",
       "        [0, 0, 0, 0, 0, 0, 1, 0, 0, 0, 0, 0, 0, 0, 0, 0, 0, 0, 0, 0, 0, 0,\n",
       "         0, 0],\n",
       "        [0, 0, 0, 0, 0, 0, 0, 0, 0, 0, 0, 0, 0, 0, 0, 0, 1, 0, 0, 0, 0, 0,\n",
       "         0, 0],\n",
       "        [0, 0, 0, 0, 1, 0, 0, 0, 0, 0, 0, 0, 0, 0, 0, 0, 0, 0, 0, 0, 0, 0,\n",
       "         0, 0],\n",
       "        [0, 1, 0, 0, 0, 0, 0, 0, 0, 0, 0, 0, 0, 0, 0, 0, 0, 0, 0, 0, 0, 0,\n",
       "         0, 0],\n",
       "        [0, 0, 0, 0, 0, 0, 0, 0, 1, 0, 0, 0, 0, 0, 0, 0, 0, 0, 0, 0, 0, 0,\n",
       "         0, 0],\n",
       "        [0, 0, 0, 0, 0, 0, 0, 0, 0, 0, 0, 0, 0, 0, 0, 0, 0, 0, 1, 0, 0, 0,\n",
       "         0, 0],\n",
       "        [0, 0, 0, 0, 0, 0, 0, 0, 0, 0, 0, 0, 0, 0, 0, 0, 1, 0, 0, 0, 0, 0,\n",
       "         0, 0],\n",
       "        [0, 1, 0, 0, 0, 0, 0, 0, 0, 0, 0, 0, 0, 0, 0, 0, 0, 0, 0, 0, 0, 0,\n",
       "         0, 0],\n",
       "        [0, 0, 0, 0, 0, 0, 1, 0, 0, 0, 0, 0, 0, 0, 0, 0, 0, 0, 0, 0, 0, 0,\n",
       "         0, 0],\n",
       "        [0, 0, 0, 0, 0, 0, 0, 0, 0, 0, 0, 0, 0, 0, 0, 0, 0, 0, 0, 1, 0, 0,\n",
       "         0, 0],\n",
       "        [0, 0, 0, 0, 0, 0, 0, 0, 0, 0, 0, 0, 0, 0, 0, 0, 1, 0, 0, 0, 0, 0,\n",
       "         0, 0],\n",
       "        [0, 1, 0, 0, 0, 0, 0, 0, 0, 0, 0, 0, 0, 0, 0, 0, 0, 0, 0, 0, 0, 0,\n",
       "         0, 0],\n",
       "        [0, 0, 1, 0, 0, 0, 0, 0, 0, 0, 0, 0, 0, 0, 0, 0, 0, 0, 0, 0, 0, 0,\n",
       "         0, 0],\n",
       "        [0, 0, 0, 0, 0, 0, 0, 0, 0, 0, 0, 0, 0, 0, 0, 0, 0, 0, 0, 0, 0, 0,\n",
       "         1, 0]], dtype=int8),\n",
       " array([0.78008539]))"
      ]
     },
     "execution_count": 73,
     "metadata": {},
     "output_type": "execute_result"
    }
   ],
   "source": [
    "# check the generator output is of the right type and shape\n",
    "\n",
    "G = Generator()\n",
    "G.to(device)\n",
    "\n",
    "#fake = generate_random_seed()\n",
    "fake_input = torch.FloatTensor(generate_random_seed_G(1)).to(device)\n",
    "fake_label = torch.FloatTensor(generate_random_value(1).reshape(1)).to(device)\n",
    "idx = torch.argmax(G.forward(fake_input, fake_label))\n",
    "data_dataset[idx]\n",
    "\n"
   ]
  },
  {
   "cell_type": "code",
   "execution_count": 76,
   "metadata": {},
   "outputs": [
    {
     "name": "stdout",
     "output_type": "stream",
     "text": [
      "N1C=NC(=C1)C1=NC=CN=C1\n"
     ]
    }
   ],
   "source": [
    "G.get_smiles(-12.2323)"
   ]
  },
  {
   "cell_type": "code",
   "execution_count": null,
   "metadata": {},
   "outputs": [
    {
     "name": "stdout",
     "output_type": "stream",
     "text": [
      "epoch =  1\n"
     ]
    },
    {
     "name": "stderr",
     "output_type": "stream",
     "text": [
      "/home/tony/anaconda3/lib/python3.7/site-packages/torch/nn/modules/loss.py:446: UserWarning: Using a target size (torch.Size([1])) that is different to the input size (torch.Size([1, 1, 1])). This will likely lead to incorrect results due to broadcasting. Please ensure they have the same size.\n",
      "  return F.mse_loss(input, target, reduction=self.reduction)\n"
     ]
    }
   ],
   "source": [
    "%%time \n",
    "\n",
    "D = Discriminator()\n",
    "D.to(device)\n",
    "G = Generator()\n",
    "G.to(device)\n",
    "\n",
    "# train Discriminator and Generator\n",
    "\n",
    "for epoch in range(epochs):\n",
    "    print (\"epoch = \", epoch + 1)\n",
    "\n",
    "    # train Discriminator and Generator\n",
    "    for smiles,label in data_loader:\n",
    "        # train discriminator on true\n",
    "        t = torch.FloatTensor([1.0]).view(1,1,1).to(device)\n",
    "        label = label.float().to(device)\n",
    "        label = label.repeat(smiles.shape[0], smiles.shape[1], 1)\n",
    "        D.train(smiles.to(device).float(), label, t)\n",
    "        \n",
    "        \n",
    "        # train discriminator on false\n",
    "        # use detach() so gradients in G are not calculated\n",
    "        fake_input = torch.FloatTensor(generate_random_seed_G(1)).to(device)\n",
    "        fake_label = torch.FloatTensor(generate_random_value(1).reshape(1)).to(device)\n",
    "        data_inx = torch.argmax(G.forward(fake_input, fake_label).detach())\n",
    "        #print(\"data_inx\", data_inx)\n",
    "        \n",
    "        fake = data_dataset[data_inx]\n",
    "        #print('fake', fake)\n",
    "        \n",
    "        fake_input = torch.FloatTensor(fake[0]).to(device)\n",
    "        fake_input = fake_input.reshape(1, fake_input.shape[0], fake_input.shape[1])\n",
    "        fake_label = torch.FloatTensor(fake[1]).to(device)\n",
    "        fake_label = fake_label.repeat(smiles.shape[0], smiles.shape[1], 1)\n",
    "        D.train(fake_input, fake_label, torch.FloatTensor([0.0]).to(device)  )\n",
    "        \n",
    "    \n",
    "    \n",
    "        # train generator\n",
    "        #fake_input = torch.FloatTensor(generate_random_seed_G(1)).to(device)\n",
    "        #fake_label = torch.FloatTensor(generate_random_value(1).reshape(1)).to(device)\n",
    "        #G.train(D, fake_input, fake_label, torch.FloatTensor([1.0]))\n",
    "\n",
    "    pass\n",
    "    \n",
    "pass\n"
   ]
  },
  {
   "cell_type": "code",
   "execution_count": 27,
   "metadata": {},
   "outputs": [
    {
     "data": {
      "image/png": "[encoded data removed]",
      "text/plain": [
       "<Figure size 1152x576 with 1 Axes>"
      ]
     },
     "metadata": {
      "needs_background": "light"
     },
     "output_type": "display_data"
    }
   ],
   "source": [
    "D.plot_progress()"
   ]
  },
  {
   "cell_type": "code",
   "execution_count": 29,
   "metadata": {},
   "outputs": [
    {
     "name": "stdout",
     "output_type": "stream",
     "text": [
      "tensor([[[0.8938]]], device='cuda:0', grad_fn=<AddBackward0>)\n",
      "tensor([[[0.9498]]], device='cuda:0', grad_fn=<AddBackward0>)\n",
      "tensor([[[1.0080]]], device='cuda:0', grad_fn=<AddBackward0>)\n",
      "tensor([[[1.0399]]], device='cuda:0', grad_fn=<AddBackward0>)\n",
      "tensor([[[0.1738]]], device='cuda:0', grad_fn=<AddBackward0>)\n",
      "tensor([[[0.9187]]], device='cuda:0', grad_fn=<AddBackward0>)\n",
      "tensor([[[0.0274]]], device='cuda:0', grad_fn=<AddBackward0>)\n",
      "tensor([[[0.0228]]], device='cuda:0', grad_fn=<AddBackward0>)\n"
     ]
    }
   ],
   "source": [
    "i = 0\n",
    "for smiles,label in data_loader:\n",
    "    # real\n",
    "    t = torch.FloatTensor([1.0]).view(1,1,1).to(device)\n",
    "    label = label.float().to(device)\n",
    "    label = label.repeat(smiles.shape[0], smiles.shape[1], 1)\n",
    "    print(D.forward(smiles.to(device).float(), label))\n",
    "    \n",
    "    i += 1\n",
    "    if (i >= 4):\n",
    "        break\n",
    "    pass\n",
    "\n",
    "for i in range(4):\n",
    "    fake = generate_random_seed()\n",
    "    fake_input = torch.FloatTensor(fake[0]).to(device)\n",
    "    fake_input = fake_input.reshape(1, fake_input.shape[0], fake_input.shape[1])\n",
    "    fake_label = torch.FloatTensor(fake[1]).to(device)\n",
    "    fake_label = fake_label.repeat(smiles.shape[0], smiles.shape[1], 1)\n",
    "    print( D.forward(fake_input, fake_label))\n",
    "    pass"
   ]
  },
  {
   "cell_type": "code",
   "execution_count": null,
   "metadata": {},
   "outputs": [],
   "source": []
  }
 ],
 "metadata": {
  "kernelspec": {
   "display_name": "Python 3",
   "language": "python",
   "name": "python3"
  },
  "language_info": {
   "codemirror_mode": {
    "name": "ipython",
    "version": 3
   },
   "file_extension": ".py",
   "mimetype": "text/x-python",
   "name": "python",
   "nbconvert_exporter": "python",
   "pygments_lexer": "ipython3",
   "version": "3.7.6"
  }
 },
 "nbformat": 4,
 "nbformat_minor": 4
}
