{
 "cells": [
  {
   "cell_type": "code",
   "execution_count": 1,
   "metadata": {},
   "outputs": [],
   "source": [
    "import numpy as np\n",
    "import pandas as pd\n",
    "import matplotlib.pyplot as plt\n",
    "from rdkit import Chem, DataStructs\n",
    "from rdkit.Chem import PandasTools, AllChem\n",
    "from sklearn.preprocessing import StandardScaler\n",
    "from sklearn.model_selection import train_test_split\n",
    "import torch\n",
    "import torch.nn as nn\n",
    "import torch.nn.functional as F\n",
    "from torch.utils.data import Dataset\n",
    "from torch.optim.lr_scheduler import ReduceLROnPlateau\n",
    "import pandas, numpy, random\n",
    "import matplotlib.pyplot as plt"
   ]
  },
  {
   "cell_type": "code",
   "execution_count": 2,
   "metadata": {},
   "outputs": [
    {
     "data": {
      "text/plain": [
       "'\\nif torch.cuda.is_available():\\n    torch.set_default_tensor_type(torch.cuda.FloatTensor)\\n    print(\"using cuda:\", torch.cuda.get_device_name(0))\\n    pass\\n\\ndevice = torch.device(\"cuda\" if torch.cuda.is_available() else \"cpu\")\\ndevice\\n\\nfrom multiprocessing import set_start_method\\ntry:\\n    set_start_method(\\'spawn\\')\\nexcept RuntimeError:\\n    pass\\n'"
      ]
     },
     "execution_count": 2,
     "metadata": {},
     "output_type": "execute_result"
    }
   ],
   "source": [
    "# if CUDA is available, use GPU and set default tensor type to cuda\n",
    "\n",
    "'''\n",
    "if torch.cuda.is_available():\n",
    "    torch.set_default_tensor_type(torch.cuda.FloatTensor)\n",
    "    print(\"using cuda:\", torch.cuda.get_device_name(0))\n",
    "    pass\n",
    "\n",
    "device = torch.device(\"cuda\" if torch.cuda.is_available() else \"cpu\")\n",
    "device\n",
    "\n",
    "from multiprocessing import set_start_method\n",
    "try:\n",
    "    set_start_method('spawn')\n",
    "except RuntimeError:\n",
    "    pass\n",
    "'''    \n"
   ]
  },
  {
   "cell_type": "code",
   "execution_count": 3,
   "metadata": {},
   "outputs": [],
   "source": [
    "baseline = 2.5"
   ]
  },
  {
   "cell_type": "code",
   "execution_count": 4,
   "metadata": {},
   "outputs": [],
   "source": [
    "class SMILESMolDataset(Dataset):\n",
    "    def __init__(self, molecules, y, vectorizer):\n",
    "        self.molecules = molecules\n",
    "        self.y = y\n",
    "        self.vectorizer = vectorizer\n",
    "    def __len__(self):\n",
    "        return len(self.molecules)\n",
    "    def __getitem__(self, idx):\n",
    "        if torch.is_tensor(idx):\n",
    "            idx = idx.tolist()\n",
    "             \n",
    "        mols = self.molecules[idx]\n",
    "         \n",
    "        #The vectorizer was written to work with batches, \n",
    "        #but PyTorch datasets unfortunately works with single samples\n",
    "        sample = self.vectorizer.transform([mols])[0]\n",
    "        label = float(self.y[idx] > baseline)\n",
    "        #print(\"self.y[idx]\", self.y[idx], 'label', label)\n",
    "\n",
    "        target = torch.FloatTensor([label])\n",
    "        \n",
    "        return sample, label, target\n"
   ]
  },
  {
   "cell_type": "code",
   "execution_count": 5,
   "metadata": {},
   "outputs": [
    {
     "name": "stdout",
     "output_type": "stream",
     "text": [
      " > 3) 405  <= 3) 595\n",
      "number_of_data 1000 max_mu 14.8809 min_mu 0.0\n",
      "0      0.0000\n",
      "1      1.6256\n",
      "2      1.8511\n",
      "3      0.0000\n",
      "4      2.8937\n",
      "        ...  \n",
      "995    1.7250\n",
      "996    1.1867\n",
      "997    3.7673\n",
      "998    2.4520\n",
      "999    4.0475\n",
      "Name: mu, Length: 1000, dtype: float64\n"
     ]
    }
   ],
   "source": [
    "real_data = pandas.read_csv('dataset/qm9.csv')\n",
    "real_data = real_data[0:1000]\n",
    "\n",
    "\n",
    "max_mu = max(real_data['mu'])\n",
    "min_mu = min(real_data['mu'])\n",
    "number_of_data = len(real_data)\n",
    "\n",
    "number1 = len(real_data[real_data['mu'] > baseline])\n",
    "number2 = len(real_data[real_data['mu'] <= baseline])\n",
    "print(' > 3)', number1, ' <= 3)', number2)\n",
    "print(\"number_of_data\", number_of_data, \"max_mu\", max_mu, \"min_mu\", min_mu)\n",
    "#real_data.head(5)\n",
    "\n",
    "\n",
    "print(real_data['mu'])"
   ]
  },
  {
   "cell_type": "code",
   "execution_count": 6,
   "metadata": {},
   "outputs": [
    {
     "data": {
      "text/html": [
       "<div>\n",
       "<style scoped>\n",
       "    .dataframe tbody tr th:only-of-type {\n",
       "        vertical-align: middle;\n",
       "    }\n",
       "\n",
       "    .dataframe tbody tr th {\n",
       "        vertical-align: top;\n",
       "    }\n",
       "\n",
       "    .dataframe thead th {\n",
       "        text-align: right;\n",
       "    }\n",
       "</style>\n",
       "<table border=\"1\" class=\"dataframe\">\n",
       "  <thead>\n",
       "    <tr style=\"text-align: right;\">\n",
       "      <th></th>\n",
       "      <th>smiles</th>\n",
       "      <th>mu</th>\n",
       "      <th>alpha</th>\n",
       "      <th>homo</th>\n",
       "      <th>lumo</th>\n",
       "      <th>gap</th>\n",
       "      <th>r2</th>\n",
       "      <th>zpve</th>\n",
       "      <th>cv</th>\n",
       "      <th>u0</th>\n",
       "      <th>u298</th>\n",
       "      <th>h298</th>\n",
       "      <th>g298</th>\n",
       "    </tr>\n",
       "  </thead>\n",
       "  <tbody>\n",
       "    <tr>\n",
       "      <th>0</th>\n",
       "      <td>C</td>\n",
       "      <td>0.0000</td>\n",
       "      <td>13.21</td>\n",
       "      <td>-0.3877</td>\n",
       "      <td>0.1171</td>\n",
       "      <td>0.5048</td>\n",
       "      <td>35.3641</td>\n",
       "      <td>0.044749</td>\n",
       "      <td>6.469</td>\n",
       "      <td>-40.478930</td>\n",
       "      <td>-40.476062</td>\n",
       "      <td>-40.475117</td>\n",
       "      <td>-40.498597</td>\n",
       "    </tr>\n",
       "    <tr>\n",
       "      <th>1</th>\n",
       "      <td>N</td>\n",
       "      <td>1.6256</td>\n",
       "      <td>9.46</td>\n",
       "      <td>-0.2570</td>\n",
       "      <td>0.0829</td>\n",
       "      <td>0.3399</td>\n",
       "      <td>26.1563</td>\n",
       "      <td>0.034358</td>\n",
       "      <td>6.316</td>\n",
       "      <td>-56.525887</td>\n",
       "      <td>-56.523026</td>\n",
       "      <td>-56.522082</td>\n",
       "      <td>-56.544961</td>\n",
       "    </tr>\n",
       "    <tr>\n",
       "      <th>2</th>\n",
       "      <td>O</td>\n",
       "      <td>1.8511</td>\n",
       "      <td>6.31</td>\n",
       "      <td>-0.2928</td>\n",
       "      <td>0.0687</td>\n",
       "      <td>0.3615</td>\n",
       "      <td>19.0002</td>\n",
       "      <td>0.021375</td>\n",
       "      <td>6.002</td>\n",
       "      <td>-76.404702</td>\n",
       "      <td>-76.401867</td>\n",
       "      <td>-76.400922</td>\n",
       "      <td>-76.422349</td>\n",
       "    </tr>\n",
       "    <tr>\n",
       "      <th>3</th>\n",
       "      <td>C#C</td>\n",
       "      <td>0.0000</td>\n",
       "      <td>16.28</td>\n",
       "      <td>-0.2845</td>\n",
       "      <td>0.0506</td>\n",
       "      <td>0.3351</td>\n",
       "      <td>59.5248</td>\n",
       "      <td>0.026841</td>\n",
       "      <td>8.574</td>\n",
       "      <td>-77.308427</td>\n",
       "      <td>-77.305527</td>\n",
       "      <td>-77.304583</td>\n",
       "      <td>-77.327429</td>\n",
       "    </tr>\n",
       "    <tr>\n",
       "      <th>4</th>\n",
       "      <td>C#N</td>\n",
       "      <td>2.8937</td>\n",
       "      <td>12.99</td>\n",
       "      <td>-0.3604</td>\n",
       "      <td>0.0191</td>\n",
       "      <td>0.3796</td>\n",
       "      <td>48.7476</td>\n",
       "      <td>0.016601</td>\n",
       "      <td>6.278</td>\n",
       "      <td>-93.411888</td>\n",
       "      <td>-93.409370</td>\n",
       "      <td>-93.408425</td>\n",
       "      <td>-93.431246</td>\n",
       "    </tr>\n",
       "  </tbody>\n",
       "</table>\n",
       "</div>"
      ],
      "text/plain": [
       "  smiles      mu  alpha    homo    lumo     gap       r2      zpve     cv  \\\n",
       "0      C  0.0000  13.21 -0.3877  0.1171  0.5048  35.3641  0.044749  6.469   \n",
       "1      N  1.6256   9.46 -0.2570  0.0829  0.3399  26.1563  0.034358  6.316   \n",
       "2      O  1.8511   6.31 -0.2928  0.0687  0.3615  19.0002  0.021375  6.002   \n",
       "3    C#C  0.0000  16.28 -0.2845  0.0506  0.3351  59.5248  0.026841  8.574   \n",
       "4    C#N  2.8937  12.99 -0.3604  0.0191  0.3796  48.7476  0.016601  6.278   \n",
       "\n",
       "          u0       u298       h298       g298  \n",
       "0 -40.478930 -40.476062 -40.475117 -40.498597  \n",
       "1 -56.525887 -56.523026 -56.522082 -56.544961  \n",
       "2 -76.404702 -76.401867 -76.400922 -76.422349  \n",
       "3 -77.308427 -77.305527 -77.304583 -77.327429  \n",
       "4 -93.411888 -93.409370 -93.408425 -93.431246  "
      ]
     },
     "execution_count": 6,
     "metadata": {},
     "output_type": "execute_result"
    }
   ],
   "source": [
    "data = pandas.read_csv('dataset/qm9.csv')\n",
    "data = data[0:10000]\n",
    "#pandas.read_csv('dataset/GDB13_Subset-ABCDEFGH.smi', header=None, names=[\"smiles\"])\n",
    "data.head(5)\n"
   ]
  },
  {
   "cell_type": "code",
   "execution_count": 7,
   "metadata": {},
   "outputs": [
    {
     "data": {
      "text/html": [
       "<div>\n",
       "<style scoped>\n",
       "    .dataframe tbody tr th:only-of-type {\n",
       "        vertical-align: middle;\n",
       "    }\n",
       "\n",
       "    .dataframe tbody tr th {\n",
       "        vertical-align: top;\n",
       "    }\n",
       "\n",
       "    .dataframe thead th {\n",
       "        text-align: right;\n",
       "    }\n",
       "</style>\n",
       "<table border=\"1\" class=\"dataframe\">\n",
       "  <thead>\n",
       "    <tr style=\"text-align: right;\">\n",
       "      <th></th>\n",
       "      <th>smiles</th>\n",
       "      <th>Molecule</th>\n",
       "    </tr>\n",
       "  </thead>\n",
       "  <tbody>\n",
       "    <tr>\n",
       "      <th>0</th>\n",
       "      <td>C</td>\n",
       "      <td><img data-content=\"rdkit/molecule\" src=\"data:image/png;base64,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\" alt=\"Mol\"/></td>\n",
       "    </tr>\n",
       "  </tbody>\n",
       "</table>\n",
       "</div>"
      ],
      "text/plain": [
       "  smiles                                           Molecule\n",
       "0      C  <img data-content=\"rdkit/molecule\" src=\"data:i..."
      ]
     },
     "execution_count": 7,
     "metadata": {},
     "output_type": "execute_result"
    }
   ],
   "source": [
    "PandasTools.AddMoleculeColumnToFrame(data,'smiles','Molecule')\n",
    "data = data[0:number_of_data]\n",
    "data[[\"smiles\",\"Molecule\"]].head(1)\n"
   ]
  },
  {
   "cell_type": "code",
   "execution_count": 8,
   "metadata": {},
   "outputs": [
    {
     "data": {
      "text/plain": [
       "'CC=O'"
      ]
     },
     "execution_count": 8,
     "metadata": {},
     "output_type": "execute_result"
    }
   ],
   "source": [
    "data['smiles'].iloc[10]"
   ]
  },
  {
   "cell_type": "code",
   "execution_count": 9,
   "metadata": {},
   "outputs": [
    {
     "data": {
      "text/html": [
       "<div>\n",
       "<style scoped>\n",
       "    .dataframe tbody tr th:only-of-type {\n",
       "        vertical-align: middle;\n",
       "    }\n",
       "\n",
       "    .dataframe tbody tr th {\n",
       "        vertical-align: top;\n",
       "    }\n",
       "\n",
       "    .dataframe thead th {\n",
       "        text-align: right;\n",
       "    }\n",
       "</style>\n",
       "<table border=\"1\" class=\"dataframe\">\n",
       "  <thead>\n",
       "    <tr style=\"text-align: right;\">\n",
       "      <th></th>\n",
       "      <th>smiles</th>\n",
       "      <th>mu</th>\n",
       "      <th>alpha</th>\n",
       "      <th>homo</th>\n",
       "      <th>lumo</th>\n",
       "      <th>gap</th>\n",
       "      <th>r2</th>\n",
       "      <th>zpve</th>\n",
       "      <th>cv</th>\n",
       "      <th>u0</th>\n",
       "      <th>u298</th>\n",
       "      <th>h298</th>\n",
       "      <th>g298</th>\n",
       "      <th>Molecule</th>\n",
       "    </tr>\n",
       "  </thead>\n",
       "  <tbody>\n",
       "    <tr>\n",
       "      <th>0</th>\n",
       "      <td>C</td>\n",
       "      <td>0.0</td>\n",
       "      <td>13.21</td>\n",
       "      <td>-0.3877</td>\n",
       "      <td>0.1171</td>\n",
       "      <td>0.5048</td>\n",
       "      <td>35.3641</td>\n",
       "      <td>0.044749</td>\n",
       "      <td>6.469</td>\n",
       "      <td>-40.47893</td>\n",
       "      <td>-40.476062</td>\n",
       "      <td>-40.475117</td>\n",
       "      <td>-40.498597</td>\n",
       "      <td><img data-content=\"rdkit/molecule\" src=\"data:image/png;base64,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\" alt=\"Mol\"/></td>\n",
       "    </tr>\n",
       "  </tbody>\n",
       "</table>\n",
       "</div>"
      ],
      "text/plain": [
       "  smiles   mu  alpha    homo    lumo     gap       r2      zpve     cv  \\\n",
       "0      C  0.0  13.21 -0.3877  0.1171  0.5048  35.3641  0.044749  6.469   \n",
       "\n",
       "         u0       u298       h298       g298  \\\n",
       "0 -40.47893 -40.476062 -40.475117 -40.498597   \n",
       "\n",
       "                                            Molecule  \n",
       "0  <img data-content=\"rdkit/molecule\" src=\"data:i...  "
      ]
     },
     "execution_count": 9,
     "metadata": {},
     "output_type": "execute_result"
    }
   ],
   "source": [
    "real_data1 = real_data\n",
    "PandasTools.AddMoleculeColumnToFrame(real_data1,'smiles','Molecule')\n",
    "real_data1[[\"smiles\",\"Molecule\"]].head(1)\n",
    "real_data['Molecule'] = real_data1[['Molecule']]\n",
    "real_data.head(1)"
   ]
  },
  {
   "cell_type": "code",
   "execution_count": 10,
   "metadata": {},
   "outputs": [],
   "source": [
    "from molvecgen.vectorizers import SmilesVectorizer\n",
    "\n",
    "smivec = SmilesVectorizer(pad=1, leftpad=True, canonical=False, augment=True)\n",
    "smivec.fit(real_data.Molecule.values, )"
   ]
  },
  {
   "cell_type": "code",
   "execution_count": 11,
   "metadata": {},
   "outputs": [],
   "source": [
    "smivec_data = SmilesVectorizer(pad=1, leftpad=True, canonical=False, augment=True)\n",
    "smivec_data.fit(data.Molecule.values, )"
   ]
  },
  {
   "cell_type": "code",
   "execution_count": 12,
   "metadata": {},
   "outputs": [
    {
     "name": "stdout",
     "output_type": "stream",
     "text": [
      "tensor([0., 1., 0., 2., 1.])\n",
      "tensor([0., 1., 0., 1., 0.])\n"
     ]
    }
   ],
   "source": [
    "# functions to generate random data\n",
    "\n",
    "def generate_random_seed_G(size):\n",
    "    random_data = torch.randn(size)\n",
    "    return random_data\n",
    "\n",
    "\n",
    "def generate_random_value(size):\n",
    "    #random_data = np.round(np.random.randint(int(min_mu), int(max_mu * 100), (1, size))/100,4)\n",
    "    random_data = np.random.randint(0, baseline * 2,(1, size))\n",
    "    random_data = torch.FloatTensor(random_data)\n",
    "    #random_data = torch.round((torch.randn(size) * 10000) / 100)\n",
    "    #round(random.uniform(min_alpha, max_alpha),2)\n",
    "    return random_data.view(-1)\n",
    "\n",
    "def generate_random_label(size):\n",
    "    random_data = np.random.randint(0, 2,(1, size))\n",
    "    random_data = torch.FloatTensor(random_data)\n",
    "    #random_data = torch.round((torch.randn(size) * 10000) / 100)\n",
    "    #round(random.uniform(min_alpha, max_alpha),2)\n",
    "    return random_data.view(-1)\n",
    "\n",
    "\n",
    "class View(nn.Module):\n",
    "    def __init__(self, shape):\n",
    "        super().__init__()\n",
    "        self.shape = shape,\n",
    "\n",
    "    def forward(self, x):\n",
    "        return x.view(*self.shape)\n",
    "\n",
    "print(generate_random_value(5))\n",
    "print(generate_random_label(5))"
   ]
  },
  {
   "cell_type": "code",
   "execution_count": 13,
   "metadata": {},
   "outputs": [
    {
     "name": "stdout",
     "output_type": "stream",
     "text": [
      "len(X_train) 1000 y_train[1] 1.6256\n"
     ]
    }
   ],
   "source": [
    "y = real_data.mu.values.reshape((-1,1))\n",
    "X = real_data.Molecule.values\n",
    "\n",
    "#Normalizing output using standard scaling\n",
    "scaler = StandardScaler()\n",
    "X_train = X\n",
    "y_train = real_data['mu']\n",
    "#scaler.fit_transform(y)\n",
    "\n",
    "print('len(X_train)',len(X_train),'y_train[1]', y_train[1])"
   ]
  },
  {
   "cell_type": "code",
   "execution_count": 14,
   "metadata": {},
   "outputs": [
    {
     "name": "stdout",
     "output_type": "stream",
     "text": [
      "data_dataset[10] (array([[0, 0, 0, 0, 0, 0, 0, 0, 0, 0, 0, 0, 0, 0, 0, 0, 0, 0, 0, 0, 0, 0],\n",
      "       [0, 0, 0, 0, 0, 0, 0, 0, 0, 0, 0, 0, 0, 0, 0, 0, 0, 0, 0, 0, 0, 0],\n",
      "       [0, 0, 0, 0, 0, 0, 0, 0, 0, 0, 0, 0, 0, 0, 0, 0, 0, 0, 0, 0, 0, 0],\n",
      "       [0, 0, 0, 0, 0, 0, 0, 0, 0, 0, 0, 0, 0, 0, 0, 0, 0, 0, 0, 0, 0, 0],\n",
      "       [0, 0, 0, 0, 0, 0, 0, 0, 0, 0, 0, 0, 0, 0, 0, 0, 0, 0, 0, 0, 0, 0],\n",
      "       [0, 0, 0, 0, 0, 0, 0, 0, 0, 0, 0, 0, 0, 0, 0, 0, 0, 0, 0, 0, 0, 0],\n",
      "       [0, 0, 0, 0, 0, 0, 0, 0, 0, 0, 0, 0, 0, 0, 0, 0, 0, 0, 0, 0, 0, 0],\n",
      "       [0, 0, 0, 0, 0, 0, 0, 0, 0, 0, 0, 0, 0, 0, 0, 0, 0, 0, 0, 0, 0, 0],\n",
      "       [0, 0, 0, 0, 0, 0, 0, 0, 0, 0, 0, 0, 0, 0, 0, 0, 0, 0, 0, 0, 0, 0],\n",
      "       [0, 0, 0, 0, 0, 0, 0, 0, 0, 0, 0, 0, 0, 0, 0, 0, 0, 0, 0, 0, 0, 0],\n",
      "       [0, 0, 0, 0, 0, 0, 0, 0, 0, 0, 0, 0, 0, 0, 0, 0, 0, 0, 0, 0, 0, 0],\n",
      "       [0, 0, 0, 0, 0, 0, 0, 0, 0, 0, 0, 0, 0, 0, 0, 0, 0, 0, 0, 0, 0, 0],\n",
      "       [0, 0, 0, 0, 0, 0, 0, 0, 0, 0, 0, 0, 0, 0, 0, 0, 0, 0, 0, 0, 0, 0],\n",
      "       [0, 0, 0, 0, 0, 0, 0, 0, 0, 0, 0, 0, 0, 0, 0, 0, 0, 0, 0, 0, 0, 0],\n",
      "       [0, 0, 0, 0, 0, 0, 0, 0, 0, 0, 0, 0, 0, 0, 0, 0, 0, 0, 0, 0, 0, 0],\n",
      "       [0, 0, 0, 0, 0, 0, 0, 0, 0, 0, 0, 0, 0, 0, 0, 0, 0, 0, 0, 1, 0, 0],\n",
      "       [0, 0, 0, 0, 0, 0, 1, 0, 0, 0, 0, 0, 0, 0, 0, 0, 0, 0, 0, 0, 0, 0],\n",
      "       [0, 0, 0, 0, 0, 0, 0, 0, 0, 1, 0, 0, 0, 0, 0, 0, 0, 0, 0, 0, 0, 0],\n",
      "       [0, 0, 0, 0, 0, 0, 0, 0, 0, 0, 0, 0, 0, 0, 0, 0, 0, 0, 1, 0, 0, 0],\n",
      "       [0, 0, 0, 0, 0, 0, 0, 0, 0, 0, 0, 0, 0, 0, 0, 0, 0, 0, 1, 0, 0, 0],\n",
      "       [0, 0, 0, 0, 0, 0, 0, 0, 0, 0, 0, 0, 0, 0, 0, 0, 0, 0, 0, 0, 1, 0]],\n",
      "      dtype=int8), 0.0, tensor([0.])) data_y tensor([0.])\n"
     ]
    }
   ],
   "source": [
    "data_y = generate_random_value(number_of_data).reshape((-1,1))\n",
    "data_X = data.Molecule.values\n",
    "scaler = StandardScaler()\n",
    "#data_y = scaler.fit_transform(data_y)\n",
    "data_dataset = SMILESMolDataset(data_X, data_y, smivec_data)\n",
    "print('data_dataset[10]', data_dataset[10], 'data_y', data_y[10] )\n"
   ]
  },
  {
   "cell_type": "code",
   "execution_count": 15,
   "metadata": {},
   "outputs": [
    {
     "name": "stdout",
     "output_type": "stream",
     "text": [
      "train_dataset[10] (array([[0, 0, 0, 0, 0, 0, 0, 0, 0, 0, 0, 0, 0, 0, 0, 0, 0, 0, 0, 0, 0, 0],\n",
      "       [0, 0, 0, 0, 0, 0, 0, 0, 0, 0, 0, 0, 0, 0, 0, 0, 0, 0, 0, 0, 0, 0],\n",
      "       [0, 0, 0, 0, 0, 0, 0, 0, 0, 0, 0, 0, 0, 0, 0, 0, 0, 0, 0, 0, 0, 0],\n",
      "       [0, 0, 0, 0, 0, 0, 0, 0, 0, 0, 0, 0, 0, 0, 0, 0, 0, 0, 0, 0, 0, 0],\n",
      "       [0, 0, 0, 0, 0, 0, 0, 0, 0, 0, 0, 0, 0, 0, 0, 0, 0, 0, 0, 0, 0, 0],\n",
      "       [0, 0, 0, 0, 0, 0, 0, 0, 0, 0, 0, 0, 0, 0, 0, 0, 0, 0, 0, 0, 0, 0],\n",
      "       [0, 0, 0, 0, 0, 0, 0, 0, 0, 0, 0, 0, 0, 0, 0, 0, 0, 0, 0, 0, 0, 0],\n",
      "       [0, 0, 0, 0, 0, 0, 0, 0, 0, 0, 0, 0, 0, 0, 0, 0, 0, 0, 0, 0, 0, 0],\n",
      "       [0, 0, 0, 0, 0, 0, 0, 0, 0, 0, 0, 0, 0, 0, 0, 0, 0, 0, 0, 0, 0, 0],\n",
      "       [0, 0, 0, 0, 0, 0, 0, 0, 0, 0, 0, 0, 0, 0, 0, 0, 0, 0, 0, 0, 0, 0],\n",
      "       [0, 0, 0, 0, 0, 0, 0, 0, 0, 0, 0, 0, 0, 0, 0, 0, 0, 0, 0, 0, 0, 0],\n",
      "       [0, 0, 0, 0, 0, 0, 0, 0, 0, 0, 0, 0, 0, 0, 0, 0, 0, 0, 0, 0, 0, 0],\n",
      "       [0, 0, 0, 0, 0, 0, 0, 0, 0, 0, 0, 0, 0, 0, 0, 0, 0, 0, 0, 0, 0, 0],\n",
      "       [0, 0, 0, 0, 0, 0, 0, 0, 0, 0, 0, 0, 0, 0, 0, 0, 0, 0, 0, 0, 0, 0],\n",
      "       [0, 0, 0, 0, 0, 0, 0, 0, 0, 0, 0, 0, 0, 0, 0, 0, 0, 0, 0, 0, 0, 0],\n",
      "       [0, 0, 0, 0, 0, 0, 0, 0, 0, 0, 0, 0, 0, 0, 0, 0, 0, 0, 0, 1, 0, 0],\n",
      "       [0, 0, 0, 0, 0, 0, 1, 0, 0, 0, 0, 0, 0, 0, 0, 0, 0, 0, 0, 0, 0, 0],\n",
      "       [0, 0, 0, 0, 0, 0, 0, 0, 0, 1, 0, 0, 0, 0, 0, 0, 0, 0, 0, 0, 0, 0],\n",
      "       [0, 0, 0, 0, 0, 0, 0, 0, 0, 0, 0, 0, 0, 0, 0, 0, 0, 0, 1, 0, 0, 0],\n",
      "       [0, 0, 0, 0, 0, 0, 0, 0, 0, 0, 0, 0, 0, 0, 0, 0, 0, 0, 1, 0, 0, 0],\n",
      "       [0, 0, 0, 0, 0, 0, 0, 0, 0, 0, 0, 0, 0, 0, 0, 0, 0, 0, 0, 0, 1, 0]],\n",
      "      dtype=int8), 1.0, tensor([1.])) len(train_dataset[10][0]) 21\n"
     ]
    }
   ],
   "source": [
    "train_dataset = SMILESMolDataset(X_train, y_train, smivec)\n",
    "train_dataset[10]\n",
    "print('train_dataset[10]', train_dataset[10], 'len(train_dataset[10][0])', len(train_dataset[10][0]) )"
   ]
  },
  {
   "cell_type": "code",
   "execution_count": 16,
   "metadata": {},
   "outputs": [
    {
     "data": {
      "text/plain": [
       "0.0"
      ]
     },
     "execution_count": 16,
     "metadata": {},
     "output_type": "execute_result"
    }
   ],
   "source": [
    "# return a random SMILES from the GDB13_Subset\n",
    "def generate_random_seed(size):\n",
    "    index_list = np.random.randint(1, number_of_data, (1, size))[0]\n",
    "    random_data = []\n",
    "    for i in index_list:\n",
    "          random_data.append( data_dataset[i] )\n",
    "    #random_data = data_dataset[10]\n",
    "    return random_data\n",
    "\n",
    "generate_random_seed(2)[0][1]"
   ]
  },
  {
   "cell_type": "code",
   "execution_count": 17,
   "metadata": {},
   "outputs": [],
   "source": [
    "epochs = 5000\n",
    "dims = smivec.dims\n",
    "lstm_size = 128  # The size of the LSTM layer\n",
    "hidden_size = 128  # The size of the hidden non-linear layer\n",
    "dropout_rate = 0.50 # The dropout rate\n",
    "out_size = 1        # This is just a single task, so this will be one\n",
    "batch_size = 1   # The mini_batch size during training\n",
    "#batch_size = 128   # The mini_batch size during training\n",
    "#batch_size = 1   # The mini_batch size during training\n",
    "G_input_size = 100 # The Generator input data size\n",
    "#learning_rate_D = 0.003  # The Discriminator initial learning rate for the optimizer \n",
    "#learning_rate_G = 0.001  # The Generator initial learning rate for the optimizer\n",
    "learning_rate_D = 0.0001  # The Discriminator initial learning rate for the optimizer \n",
    "learning_rate_G = 0.0001  # The Generator initial learning rate for the optimizer"
   ]
  },
  {
   "cell_type": "code",
   "execution_count": 18,
   "metadata": {},
   "outputs": [],
   "source": [
    "# discriminator class\n",
    "\n",
    "class Discriminator(nn.Module):\n",
    "    \n",
    "    def __init__(self):\n",
    "        # initialise parent pytorch class\n",
    "        super().__init__()\n",
    "        \n",
    "        length = dims[0] \n",
    "        number_tokens = dims[1] + 1  # add the label layer\n",
    "        #print('LSTM input_size', number_tokens)\n",
    "         \n",
    "        \n",
    "        #self.lstm = nn.LSTM(input_size=number_tokens, hidden_size=lstm_size, num_layers=1, batch_first=True, bidirectional=False)\n",
    "        #self.fc1 = nn.Linear(lstm_size, hidden_size) # Output layer\n",
    "        #self.activation = nn.ReLU() # Non-Linear ReLU Layer       \n",
    "        #self.fc_out = nn.Linear(hidden_size, out_size) # Output layer\n",
    "        #self.dropout = nn.Dropout(dropout_rate)       \n",
    "        \n",
    "        # define neural network layers\n",
    "        self.model = nn.Sequential(\n",
    "            View(483),\n",
    "            nn.Linear(483, 200),\n",
    "            nn.LeakyReLU(0.02),\n",
    "\n",
    "            nn.LayerNorm(200),\n",
    "\n",
    "            nn.Linear(200, 1),\n",
    "            nn.Sigmoid()\n",
    "        )\n",
    "        \n",
    "        \n",
    "        # create loss function\n",
    "        self.loss_function = nn.MSELoss()\n",
    "\n",
    "        # create optimiser, simple stochastic gradient descent\n",
    "        self.optimiser = torch.optim.Adam(self.parameters(), lr=learning_rate_D)\n",
    "        #self.lr_scheduler = ReduceLROnPlateau(self.optimiser, mode='min', factor=0.5, patience=50, \n",
    "        #          verbose=True, threshold=0.0001, threshold_mode='rel', cooldown=0, min_lr=1e-6, eps=1e-08)\n",
    "\n",
    "        # counter and accumulator for progress\n",
    "        self.counter = 0;\n",
    "        self.progress = []\n",
    "\n",
    "        pass\n",
    "    \n",
    "    \n",
    "    def forward(self, input_tensor, label_tensor):\n",
    "        # combine seed and label\n",
    "        \n",
    "        #print(\"input_tensor.shape\", input_tensor.shape, \"label_tensor.shape\", label_tensor.shape)\n",
    "        x = torch.cat((input_tensor, label_tensor), -1)\n",
    "        \n",
    "        #out, (h_n, c_n) = self.lstm(x) #LSTM network reads in one-hot-encoded SMILES, h_n is last output, out is for all timesteps\n",
    "        #out = self.dropout(h_n) #Dropout\n",
    "        #out = self.fc1(out) # Pass into the hidden layer\n",
    "        #out = self.activation(out) # Use ReLU on hidden activation\n",
    "        #out = self.dropout(out) # dropout\n",
    "        #out = self.fc_out(out) # Use a linear layer for the output\n",
    "        #return out\n",
    "        \n",
    "        return self.model(x)\n",
    "        \n",
    "        \n",
    "    \n",
    "    \n",
    "    def train(self, inputs, label_tensor, targets):\n",
    "        # calculate the output of the network Discriminator\n",
    "        outputs = self.forward(inputs, label_tensor)\n",
    "        \n",
    "        \n",
    "        #print('outputs', outputs)\n",
    "        #print('targets', targets)\n",
    "        # calculate loss\n",
    "        #outputs = outputs.view(-1)\n",
    "        #targets = targets.view(-1)\n",
    "        #print('outputs.shape', outputs.shape, 'targets.shape',targets.shape)\n",
    "        \n",
    "        if (outputs.shape != targets.shape):\n",
    "            print(\"Generator loss function issue: outputs.shape != targets.shape\", outputs.shape, targets.shape)\n",
    "\n",
    "        loss = self.loss_function(outputs, targets)\n",
    "\n",
    "        # increase counter and accumulate error every 10\n",
    "        self.counter += 1;\n",
    "        if (self.counter % 10 == 0):\n",
    "            self.progress.append(loss.item())\n",
    "            pass\n",
    "        if (self.counter % 1000 == 0):\n",
    "            print(\"counter = \", self.counter)\n",
    "            pass\n",
    "\n",
    "        # zero gradients, perform a backward pass, update weights\n",
    "        self.optimiser.zero_grad()\n",
    "        loss.backward()\n",
    "        self.optimiser.step()\n",
    "\n",
    "        pass\n",
    "    \n",
    "    \n",
    "    def plot_progress(self):\n",
    "        df = pandas.DataFrame(self.progress, columns=['loss'])\n",
    "        df.plot(ylim=(0), figsize=(16,8), alpha=0.1, marker='.', grid=True, yticks=(0, 0.25, 0.5, 1.0, 5.0))\n",
    "        pass\n",
    "    \n",
    "    pass"
   ]
  },
  {
   "cell_type": "code",
   "execution_count": 19,
   "metadata": {},
   "outputs": [],
   "source": [
    "from torch.utils.data import DataLoader\n",
    "data_loader = torch.utils.data.DataLoader(train_dataset,batch_size=batch_size,shuffle=True, num_workers=4,drop_last=True )\n",
    "\n"
   ]
  },
  {
   "cell_type": "code",
   "execution_count": 20,
   "metadata": {},
   "outputs": [
    {
     "data": {
      "text/plain": [
       "device(type='cuda')"
      ]
     },
     "execution_count": 20,
     "metadata": {},
     "output_type": "execute_result"
    }
   ],
   "source": [
    "device = torch.device(\"cuda\" if torch.cuda.is_available() else \"cpu\")\n",
    "device"
   ]
  },
  {
   "cell_type": "code",
   "execution_count": 21,
   "metadata": {},
   "outputs": [
    {
     "name": "stdout",
     "output_type": "stream",
     "text": [
      "counter =  1000\n",
      "counter =  2000\n",
      "CPU times: user 8.51 s, sys: 1.18 s, total: 9.69 s\n",
      "Wall time: 10 s\n"
     ]
    }
   ],
   "source": [
    "%%time\n",
    "# test discriminator can separate real data from random noise\n",
    "\n",
    "\n",
    "D = Discriminator()\n",
    "D.to(device)\n",
    "\n",
    "for smiles,label, target in data_loader:\n",
    "    # real\n",
    "    target = target.view(1).to(device)\n",
    "    #print('0.before change label.shape', label.shape, 'smiles', smiles.shape, 'target.shape', target.shape)\n",
    "    label = label.float().to(device)\n",
    "    label = label.view(batch_size, 1, 1).repeat(1, smiles.shape[1], 1)\n",
    "    \n",
    "    #print('1.before change label.shape', label.shape, 'smiles', smiles.shape)\n",
    "    D.train(smiles.to(device).float(), label, target)\n",
    "    \n",
    "    # fake\n",
    "    fake_input = []\n",
    "    fake_label = []\n",
    "    for item in generate_random_seed(batch_size):\n",
    "        fake_input.append(item[0])\n",
    "        fake_label.append(item[1])\n",
    "    \n",
    "    #print('fake_label', fake_label)\n",
    "    target = torch.FloatTensor(fake_label).to(device)\n",
    "    fake_input = torch.FloatTensor(fake_input).to(device)\n",
    "    \n",
    "    fake_label = torch.FloatTensor(fake_label).to(device)\n",
    "#    #print('2.before change label.shape', fake_input.shape, 'fake_label', fake_label.shape)\n",
    "    fake_label = fake_label.view(batch_size, 1, 1).repeat(1, fake_input.shape[1], 1)\n",
    "    #print('fake_input.shape', fake_input.shape, 'fake_label.shape', fake_label.shape)\n",
    "    D.train(fake_input, fake_label, target)\n",
    "\n",
    "    pass"
   ]
  },
  {
   "cell_type": "code",
   "execution_count": 22,
   "metadata": {},
   "outputs": [
    {
     "data": {
      "image/png": "[encoded data removed]",
      "text/plain": [
       "<Figure size 1152x576 with 1 Axes>"
      ]
     },
     "metadata": {
      "needs_background": "light"
     },
     "output_type": "display_data"
    }
   ],
   "source": [
    "D.plot_progress()"
   ]
  },
  {
   "cell_type": "code",
   "execution_count": 23,
   "metadata": {},
   "outputs": [
    {
     "name": "stdout",
     "output_type": "stream",
     "text": [
      "label tensor([[[0.],\n",
      "         [0.],\n",
      "         [0.],\n",
      "         [0.],\n",
      "         [0.],\n",
      "         [0.],\n",
      "         [0.],\n",
      "         [0.],\n",
      "         [0.],\n",
      "         [0.],\n",
      "         [0.],\n",
      "         [0.],\n",
      "         [0.],\n",
      "         [0.],\n",
      "         [0.],\n",
      "         [0.],\n",
      "         [0.],\n",
      "         [0.],\n",
      "         [0.],\n",
      "         [0.],\n",
      "         [0.]]], device='cuda:0')\n",
      "result tensor([0.0101], device='cuda:0', grad_fn=<SigmoidBackward>)\n"
     ]
    }
   ],
   "source": [
    "\n",
    "i = 0\n",
    "for smiles,label,target in data_loader:\n",
    "    # real\n",
    "    #target = torch.FloatTensor([1.0]).view(1,1,1).repeat(1, smiles.shape[0] ,1).to(device)\n",
    "    label = label.float().to(device)\n",
    "    label = label.view(batch_size, 1, 1).repeat(1, smiles.shape[1], 1)\n",
    "    result = D.forward(smiles.to(device).float(), label)\n",
    "    print('label', label)\n",
    "    print('result',result)\n",
    "    \n",
    "    \n",
    "    i += 1\n",
    "    if (i >= 1):\n",
    "        break\n",
    "    pass\n",
    "\n"
   ]
  },
  {
   "cell_type": "code",
   "execution_count": 24,
   "metadata": {},
   "outputs": [
    {
     "name": "stdout",
     "output_type": "stream",
     "text": [
      "fake_label tensor([[[1.],\n",
      "         [1.],\n",
      "         [1.],\n",
      "         [1.],\n",
      "         [1.],\n",
      "         [1.],\n",
      "         [1.],\n",
      "         [1.],\n",
      "         [1.],\n",
      "         [1.],\n",
      "         [1.],\n",
      "         [1.],\n",
      "         [1.],\n",
      "         [1.],\n",
      "         [1.],\n",
      "         [1.],\n",
      "         [1.],\n",
      "         [1.],\n",
      "         [1.],\n",
      "         [1.],\n",
      "         [1.]]], device='cuda:0')\n",
      "result tensor([0.9976], device='cuda:0', grad_fn=<SigmoidBackward>)\n"
     ]
    }
   ],
   "source": [
    "# fake\n",
    "fake_input = []\n",
    "fake_label = []\n",
    "for item in generate_random_seed(batch_size):\n",
    "    fake_input.append(item[0])\n",
    "    fake_label.append(item[1])\n",
    "    \n",
    "#print('fake_label', fake_label)\n",
    "target = torch.FloatTensor(fake_label).view(1,len(fake_label),1).to(device)\n",
    "fake_input = torch.FloatTensor(fake_input).to(device)\n",
    "    \n",
    "fake_label = torch.FloatTensor(fake_label).to(device)\n",
    "#    #print('2.before change label.shape', fake_input.shape, 'fake_label', fake_label.shape)\n",
    "fake_label = fake_label.view(batch_size, 1, 1).repeat(1, fake_input.shape[1], 1)\n",
    "result = D.forward(fake_input, fake_label)\n",
    "#print('fake_input.shape', fake_input.shape, 'fake_label.shape', fake_label.shape)\n",
    "print('fake_label', fake_label)\n",
    "print('result', result) \n"
   ]
  },
  {
   "cell_type": "code",
   "execution_count": 25,
   "metadata": {},
   "outputs": [],
   "source": [
    "# generator class\n",
    "\n",
    "class Generator(nn.Module):\n",
    "    \n",
    "    def __init__(self, batch_size):\n",
    "        # initialise parent pytorch class\n",
    "        super().__init__()\n",
    "        \n",
    "        self.batch_size = batch_size \n",
    "        self.model = nn.Sequential(\n",
    "            nn.Linear(G_input_size * 2, 200),\n",
    "            nn.LeakyReLU(0.02),\n",
    "            #nn.LayerNorm(200),\n",
    "            nn.Linear(200, number_of_data)\n",
    "            #nn.Sigmoid()\n",
    "        )\n",
    "        \n",
    "        # create optimiser, simple stochastic gradient descent\n",
    "        self.optimiser = torch.optim.Adam(self.parameters(), lr=learning_rate_G)\n",
    "        \n",
    "        # counter and accumulator for progress\n",
    "        self.counter = 0;\n",
    "        self.progress = []\n",
    "        \n",
    "        pass\n",
    "    \n",
    "    \n",
    "    def forward(self, seed_tensor, label_tensor):        \n",
    "        # combine seed and label\n",
    "        #print('Generator seed_tensor.shape', seed_tensor.shape, 'label_tensor', label_tensor.shape)\n",
    "        inputs = torch.cat((seed_tensor, label_tensor))\n",
    "        #print('after torch.cat', inputs.shape)\n",
    "        outputs = self.model(inputs)\n",
    "        #print('outputs', outputs)\n",
    "        return torch.argmax(F.softmax(outputs, dim=0))\n",
    "\n",
    "\n",
    "    def train(self, D, inputs, label_tensor, targets):\n",
    "        # calculate the output of the network\n",
    "        g_output = self.forward(inputs, label_tensor)\n",
    "\n",
    "        g_smiles, g_label, _ = data_dataset[g_output]\n",
    "        \n",
    "        g_input = torch.FloatTensor(g_smiles).to(device)\n",
    "        g_input = g_input.reshape(1, g_input.shape[0], g_input.shape[1])\n",
    "        g_label = torch.FloatTensor([g_label]).to(device)\n",
    "        g_label = g_label.unsqueeze(1).repeat(1, g_input.shape[1], 1)\n",
    "        \n",
    "        # pass onto Discriminator\n",
    "        d_output = D.forward(g_input, g_label)\n",
    "        \n",
    "        #print('d_output.shape', d_output.shape, 'targets.shape', targets.shape)\n",
    "        if (d_output.shape != targets.shape):\n",
    "            print(\"Generator loss function issue: d_output.shape != targets.shape\", d_output.shape, targets.shape)\n",
    "        \n",
    "        # calculate error\n",
    "        loss = D.loss_function(d_output, targets)\n",
    "\n",
    "        # increase counter and accumulate error every 10\n",
    "        self.counter += 1;\n",
    "        if (self.counter % 10 == 0):\n",
    "            self.progress.append(loss.item())\n",
    "            pass\n",
    "\n",
    "        # zero gradients, perform a backward pass, update weights\n",
    "        self.optimiser.zero_grad()\n",
    "        loss.backward()\n",
    "        self.optimiser.step()\n",
    "\n",
    "        pass\n",
    "    \n",
    "\n",
    "    def get_smiles(self, label):\n",
    "        label_tensor = torch.zeros((G_input_size))\n",
    "        for i in range(G_input_size):\n",
    "            label_tensor[i] = label\n",
    "    \n",
    "        fake_input = torch.FloatTensor(generate_random_seed_G(G_input_size)).to(device)\n",
    "        fake_label = torch.FloatTensor(label_tensor).to(device)\n",
    "        idx = G.forward(fake_input, fake_label).detach().cpu().numpy()\n",
    "        #print('idx', idx, 'fake_input', fake_input.shape, 'fake_label.shape', fake_label.shape,  'result.shape', result.shape)\n",
    "        \n",
    "        #idx = self.get_index(G.forward(fake_input, fake_label)).detach().cpu().numpy()\n",
    "    \n",
    "        #data['smiles'].iloc[idx]\n",
    "        return real_data['smiles'].iloc[idx]\n",
    "\n",
    "    \n",
    "    def plot_progress(self):\n",
    "        df = pandas.DataFrame(self.progress, columns=['loss'])\n",
    "        df.plot(ylim=(0), figsize=(16,8), alpha=0.1, marker='.', grid=True, yticks=(0, 0.25, 0.5, 1.0, 5.0))\n",
    "        pass\n",
    "    \n",
    "    pass"
   ]
  },
  {
   "cell_type": "code",
   "execution_count": 26,
   "metadata": {},
   "outputs": [
    {
     "name": "stdout",
     "output_type": "stream",
     "text": [
      "idx tensor(98, device='cuda:0')\n"
     ]
    },
    {
     "data": {
      "text/plain": [
       "(array([[0, 0, 0, 0, 0, 0, 0, 0, 0, 0, 0, 0, 0, 0, 0, 0, 0, 0, 0, 0, 0, 0],\n",
       "        [0, 0, 0, 0, 0, 0, 0, 0, 0, 0, 0, 0, 0, 0, 0, 0, 0, 0, 0, 0, 0, 0],\n",
       "        [0, 0, 0, 0, 0, 0, 0, 0, 0, 0, 0, 0, 0, 0, 0, 0, 0, 0, 0, 0, 0, 0],\n",
       "        [0, 0, 0, 0, 0, 0, 0, 0, 0, 0, 0, 0, 0, 0, 0, 0, 0, 0, 0, 0, 0, 0],\n",
       "        [0, 0, 0, 0, 0, 0, 0, 0, 0, 0, 0, 0, 0, 0, 0, 0, 0, 0, 0, 0, 0, 0],\n",
       "        [0, 0, 0, 0, 0, 0, 0, 0, 0, 0, 0, 0, 0, 0, 0, 0, 0, 0, 0, 0, 0, 0],\n",
       "        [0, 0, 0, 0, 0, 0, 0, 0, 0, 0, 0, 0, 0, 0, 0, 0, 0, 0, 0, 0, 0, 0],\n",
       "        [0, 0, 0, 0, 0, 0, 0, 0, 0, 0, 0, 0, 0, 0, 0, 0, 0, 0, 0, 0, 0, 0],\n",
       "        [0, 0, 0, 0, 0, 0, 0, 0, 0, 0, 0, 0, 0, 0, 0, 0, 0, 0, 0, 0, 0, 0],\n",
       "        [0, 0, 0, 0, 0, 0, 0, 0, 0, 0, 0, 0, 0, 0, 0, 0, 0, 0, 0, 0, 0, 0],\n",
       "        [0, 0, 0, 0, 0, 0, 0, 0, 0, 0, 0, 0, 0, 0, 0, 0, 0, 0, 0, 1, 0, 0],\n",
       "        [0, 0, 0, 0, 0, 0, 0, 0, 0, 0, 0, 0, 0, 0, 0, 0, 0, 0, 1, 0, 0, 0],\n",
       "        [0, 0, 0, 0, 1, 0, 0, 0, 0, 0, 0, 0, 0, 0, 0, 0, 0, 0, 0, 0, 0, 0],\n",
       "        [0, 0, 0, 0, 0, 0, 0, 0, 0, 0, 0, 0, 0, 0, 0, 0, 0, 0, 1, 0, 0, 0],\n",
       "        [0, 0, 0, 0, 0, 0, 0, 0, 0, 0, 0, 0, 0, 1, 0, 0, 0, 0, 0, 0, 0, 0],\n",
       "        [0, 0, 0, 0, 0, 0, 1, 0, 0, 0, 0, 0, 0, 0, 0, 0, 0, 0, 0, 0, 0, 0],\n",
       "        [0, 0, 0, 0, 0, 0, 0, 1, 0, 0, 0, 0, 0, 0, 0, 0, 0, 0, 0, 0, 0, 0],\n",
       "        [0, 0, 0, 0, 0, 0, 0, 0, 0, 0, 0, 0, 0, 0, 0, 0, 0, 0, 1, 0, 0, 0],\n",
       "        [0, 0, 0, 0, 0, 0, 1, 0, 0, 0, 0, 0, 0, 0, 0, 0, 0, 0, 0, 0, 0, 0],\n",
       "        [0, 0, 0, 0, 1, 0, 0, 0, 0, 0, 0, 0, 0, 0, 0, 0, 0, 0, 0, 0, 0, 0],\n",
       "        [0, 0, 0, 0, 0, 0, 0, 0, 0, 0, 0, 0, 0, 0, 0, 0, 0, 0, 0, 0, 1, 0]],\n",
       "       dtype=int8),\n",
       " 0.0,\n",
       " tensor([0.]))"
      ]
     },
     "execution_count": 26,
     "metadata": {},
     "output_type": "execute_result"
    }
   ],
   "source": [
    "# check the generator output is of the right type and shape\n",
    "\n",
    "G = Generator(1)\n",
    "G.to(device)\n",
    "\n",
    "#fake = generate_random_seed()\n",
    "fake_input = torch.FloatTensor(generate_random_seed_G(G_input_size)).to(device)\n",
    "fake_label = torch.FloatTensor(generate_random_value(G_input_size)).to(device)\n",
    "idx = G.forward(fake_input, fake_label)\n",
    "print('idx', idx)\n",
    "data_dataset[idx]\n",
    "\n",
    "\n"
   ]
  },
  {
   "cell_type": "code",
   "execution_count": 27,
   "metadata": {},
   "outputs": [
    {
     "data": {
      "text/plain": [
       "'C1CCCC1'"
      ]
     },
     "execution_count": 27,
     "metadata": {},
     "output_type": "execute_result"
    }
   ],
   "source": [
    "G.get_smiles(1.0)"
   ]
  },
  {
   "cell_type": "code",
   "execution_count": null,
   "metadata": {},
   "outputs": [
    {
     "name": "stdout",
     "output_type": "stream",
     "text": [
      "epoch =  1\n",
      "counter =  1000\n",
      "counter =  2000\n",
      "epoch =  2\n",
      "counter =  3000\n",
      "counter =  4000\n",
      "epoch =  3\n",
      "counter =  5000\n",
      "counter =  6000\n",
      "epoch =  4\n",
      "counter =  7000\n",
      "counter =  8000\n",
      "epoch =  5\n",
      "counter =  9000\n",
      "counter =  10000\n",
      "epoch =  6\n",
      "counter =  11000\n",
      "counter =  12000\n",
      "epoch =  7\n",
      "counter =  13000\n",
      "counter =  14000\n",
      "epoch =  8\n",
      "counter =  15000\n",
      "counter =  16000\n",
      "epoch =  9\n",
      "counter =  17000\n",
      "counter =  18000\n",
      "epoch =  10\n",
      "counter =  19000\n",
      "counter =  20000\n",
      "epoch =  11\n",
      "counter =  21000\n",
      "counter =  22000\n",
      "epoch =  12\n",
      "counter =  23000\n",
      "counter =  24000\n",
      "epoch =  13\n",
      "counter =  25000\n",
      "counter =  26000\n",
      "epoch =  14\n",
      "counter =  27000\n",
      "counter =  28000\n",
      "epoch =  15\n",
      "counter =  29000\n",
      "counter =  30000\n",
      "epoch =  16\n",
      "counter =  31000\n",
      "counter =  32000\n",
      "epoch =  17\n",
      "counter =  33000\n",
      "counter =  34000\n",
      "epoch =  18\n",
      "counter =  35000\n",
      "counter =  36000\n",
      "epoch =  19\n",
      "counter =  37000\n",
      "counter =  38000\n",
      "epoch =  20\n",
      "counter =  39000\n",
      "counter =  40000\n",
      "epoch =  21\n",
      "counter =  41000\n",
      "counter =  42000\n",
      "epoch =  22\n",
      "counter =  43000\n",
      "counter =  44000\n",
      "epoch =  23\n",
      "counter =  45000\n",
      "counter =  46000\n",
      "epoch =  24\n",
      "counter =  47000\n",
      "counter =  48000\n",
      "epoch =  25\n",
      "counter =  49000\n",
      "counter =  50000\n",
      "epoch =  26\n",
      "counter =  51000\n",
      "counter =  52000\n",
      "epoch =  27\n",
      "counter =  53000\n",
      "counter =  54000\n",
      "epoch =  28\n",
      "counter =  55000\n",
      "counter =  56000\n",
      "epoch =  29\n",
      "counter =  57000\n",
      "counter =  58000\n",
      "epoch =  30\n",
      "counter =  59000\n",
      "counter =  60000\n",
      "epoch =  31\n",
      "counter =  61000\n",
      "counter =  62000\n",
      "epoch =  32\n",
      "counter =  63000\n",
      "counter =  64000\n",
      "epoch =  33\n",
      "counter =  65000\n",
      "counter =  66000\n",
      "epoch =  34\n",
      "counter =  67000\n",
      "counter =  68000\n",
      "epoch =  35\n",
      "counter =  69000\n",
      "counter =  70000\n",
      "epoch =  36\n",
      "counter =  71000\n",
      "counter =  72000\n",
      "epoch =  37\n",
      "counter =  73000\n",
      "counter =  74000\n",
      "epoch =  38\n",
      "counter =  75000\n",
      "counter =  76000\n",
      "epoch =  39\n",
      "counter =  77000\n",
      "counter =  78000\n",
      "epoch =  40\n",
      "counter =  79000\n",
      "counter =  80000\n",
      "epoch =  41\n",
      "counter =  81000\n",
      "counter =  82000\n",
      "epoch =  42\n",
      "counter =  83000\n",
      "counter =  84000\n",
      "epoch =  43\n",
      "counter =  85000\n",
      "counter =  86000\n",
      "epoch =  44\n",
      "counter =  87000\n"
     ]
    }
   ],
   "source": [
    "%%time\n",
    "\n",
    "# train Discriminator and Generator\n",
    "D = Discriminator()\n",
    "D.to(device)\n",
    "G = Generator(batch_size)\n",
    "G.to(device)\n",
    "\n",
    "\n",
    "for epoch in range(epochs):\n",
    "    print (\"epoch = \", epoch + 1)\n",
    "\n",
    "    # train Discriminator and Generator\n",
    "    for smiles,label,target in data_loader:\n",
    "        #########################################################                   \n",
    "        # train discriminator on true\n",
    "        #########################################################                   \n",
    "        target = torch.FloatTensor(torch.ones(smiles.shape[0])).to(device)\n",
    "        #print('0.before change label.shape', label.shape, 'smiles', smiles.shape, 'target.shape', target.shape)\n",
    "        label = label.float().to(device)\n",
    "        label = label.view(batch_size, 1, 1).repeat(1, smiles.shape[1], 1)\n",
    "    \n",
    "        #print('1.before change label.shape', label.shape, 'smiles', smiles.shape)\n",
    "        D.train(smiles.to(device).float(), label, target)\n",
    "        \n",
    "        #########################################################                   \n",
    "        # train discriminator on false\n",
    "        # use detach() so gradients in G are not calculated\n",
    "        #########################################################      \n",
    "        # fake\n",
    "        fake_input = []\n",
    "        fake_label = []\n",
    "        for item in generate_random_seed(batch_size):\n",
    "            fake_input.append(item[0])\n",
    "            fake_label.append(item[1])\n",
    "    \n",
    "        #print('fake_label', fake_label)\n",
    "        target = torch.FloatTensor(torch.zeros(len(fake_label))).to(device)\n",
    "        fake_input = torch.FloatTensor(fake_input).to(device)\n",
    "        fake_label = torch.FloatTensor(fake_label).to(device)\n",
    "        #print('2.before change label.shape', fake_input.shape, 'fake_label', fake_label.shape)\n",
    "        fake_label = fake_label.view(batch_size, 1, 1).repeat(1, fake_input.shape[1], 1)\n",
    "        #print('fake_input.shape', fake_input.shape, 'fake_label.shape', fake_label.shape)\n",
    "        target = torch.FloatTensor([0.0]).to(device)\n",
    "        D.train(fake_input, fake_label, target)\n",
    "        \n",
    "        \n",
    "        #########################################################                   \n",
    "        # train generator\n",
    "        #########################################################                   \n",
    "        fake_input = torch.FloatTensor(generate_random_seed_G(G_input_size)).to(device)\n",
    "        fake_label = torch.FloatTensor(torch.zeros(G_input_size)).to(device)\n",
    "        #print('fake_label', fake_label)\n",
    "        #print('fake_label.shape', fake_label.shape)\n",
    "        #fake_label = fake_label.view(1,G_input_size,1)\n",
    "        target = torch.FloatTensor([0.0]).to(device)\n",
    "        G.train(D, fake_input, fake_label, target)\n",
    "    pass\n",
    "    \n",
    "pass\n"
   ]
  },
  {
   "cell_type": "code",
   "execution_count": 29,
   "metadata": {},
   "outputs": [
    {
     "data": {
      "image/png": "[encoded data removed]",
      "text/plain": [
       "<Figure size 1152x576 with 1 Axes>"
      ]
     },
     "metadata": {
      "needs_background": "light"
     },
     "output_type": "display_data"
    }
   ],
   "source": [
    "D.plot_progress()"
   ]
  },
  {
   "cell_type": "code",
   "execution_count": 30,
   "metadata": {},
   "outputs": [
    {
     "data": {
      "image/png": "[encoded data removed]",
      "text/plain": [
       "<Figure size 1152x576 with 1 Axes>"
      ]
     },
     "metadata": {
      "needs_background": "light"
     },
     "output_type": "display_data"
    }
   ],
   "source": [
    "G.plot_progress()"
   ]
  },
  {
   "cell_type": "code",
   "execution_count": 31,
   "metadata": {},
   "outputs": [
    {
     "name": "stdout",
     "output_type": "stream",
     "text": [
      "tensor([0.7279], device='cuda:0', grad_fn=<SigmoidBackward>)\n",
      "tensor([0.5886], device='cuda:0', grad_fn=<SigmoidBackward>)\n",
      "tensor([0.5892], device='cuda:0', grad_fn=<SigmoidBackward>)\n",
      "tensor([0.6612], device='cuda:0', grad_fn=<SigmoidBackward>)\n"
     ]
    }
   ],
   "source": [
    "i = 0\n",
    "for smiles,label,target in data_loader:\n",
    "    # real\n",
    "    target = torch.FloatTensor([1.0]).view(1,1,1).repeat(1, smiles.shape[0] ,1).to(device)\n",
    "    label = label.float().to(device)\n",
    "    label = label.view(batch_size, 1, 1).repeat(1, smiles.shape[1], 1)\n",
    "    \n",
    "    #print(label)\n",
    "    print(D.forward(smiles.to(device).float(), label))\n",
    "    \n",
    "    i += 1\n",
    "    if (i >= 4):\n",
    "        break\n",
    "    pass\n",
    "\n"
   ]
  },
  {
   "cell_type": "code",
   "execution_count": 32,
   "metadata": {},
   "outputs": [
    {
     "name": "stdout",
     "output_type": "stream",
     "text": [
      "tensor([0.0232], device='cuda:0', grad_fn=<SigmoidBackward>)\n",
      "tensor([0.6305], device='cuda:0', grad_fn=<SigmoidBackward>)\n",
      "tensor([0.5841], device='cuda:0', grad_fn=<SigmoidBackward>)\n",
      "tensor([0.5170], device='cuda:0', grad_fn=<SigmoidBackward>)\n"
     ]
    }
   ],
   "source": [
    "for i in range(4):\n",
    "    fake_input = []\n",
    "    fake_label = []\n",
    "    for item in generate_random_seed(batch_size):\n",
    "        fake_input.append(item[0])\n",
    "        fake_label.append(item[1])\n",
    "    \n",
    "    \n",
    "    fake_input = torch.FloatTensor(fake_input).to(device)\n",
    "    \n",
    "    #fake_input = fake_input.reshape(1, fake_input.shape[0], fake_input.shape[1])\n",
    "    fake_label = torch.FloatTensor(fake_label).to(device)\n",
    "    #print('2.before change label.shape', fake_input.shape, 'fake_label', fake_label.shape)\n",
    "    fake_label = fake_label.view(batch_size, 1, 1).repeat(1, fake_input.shape[1], 1)\n",
    "    #print('fake_input.shape', fake_input.shape, 'fake_label.shape', fake_label.shape)\n",
    "    target = torch.FloatTensor([0.0]).view(1,1,1).repeat(1, fake_input.shape[0] ,1).to(device)\n",
    "    print(D.forward(fake_input, fake_label))\n",
    "    pass\n"
   ]
  },
  {
   "cell_type": "code",
   "execution_count": 33,
   "metadata": {},
   "outputs": [
    {
     "name": "stdout",
     "output_type": "stream",
     "text": [
      "result tensor(428, device='cuda:0') idx 428 fake_input torch.Size([100]) fake_label.shape torch.Size([100]) result.shape torch.Size([])\n",
      "OC1CNC1=O\n"
     ]
    }
   ],
   "source": [
    "fake_input = torch.FloatTensor(generate_random_seed_G(G_input_size)).to(device)\n",
    "fake_label = torch.FloatTensor(generate_random_value(G_input_size)).to(device)\n",
    "result = G.forward(fake_input, fake_label).detach()\n",
    "idx = result.cpu().numpy()\n",
    "print('result', result, 'idx', idx, 'fake_input', fake_input.shape, 'fake_label.shape', fake_label.shape,  'result.shape', result.shape)\n",
    "        \n",
    "#idx = self.get_index(G.forward(fake_input, fake_label)).detach().cpu().numpy()\n",
    "print(data['smiles'].iloc[idx])"
   ]
  },
  {
   "cell_type": "code",
   "execution_count": 42,
   "metadata": {},
   "outputs": [
    {
     "data": {
      "text/plain": [
       "0.615"
      ]
     },
     "execution_count": 42,
     "metadata": {},
     "output_type": "execute_result"
    }
   ],
   "source": [
    "accuracy = []\n",
    "number_of_verify = 1000\n",
    "for i in range(number_of_verify):\n",
    "    test_smiles = G.get_smiles(1.0)\n",
    "    real = real_data[real_data['smiles'] == test_smiles ]\n",
    "    #print('real data', real.iat[0,0],real.iat[0,1], real.iat[0,1] > baseline)\n",
    "    accuracy.append(real.iat[0,1] > baseline)\n",
    "np.mean(accuracy)\n",
    "    \n"
   ]
  },
  {
   "cell_type": "code",
   "execution_count": 44,
   "metadata": {},
   "outputs": [
    {
     "name": "stdout",
     "output_type": "stream",
     "text": [
      "save model to file: pre_train_model/GAN17GG202104131916.sav\n",
      "save model to file: pre_train_model/GAN17GG202104131916.sav\n"
     ]
    }
   ],
   "source": [
    "import pickle\n",
    "from datetime import datetime\n",
    "\n",
    "now = datetime.now() \n",
    "date_time = now.strftime(\"%Y%m%d%H%M\")\n",
    "G_filename = 'pre_train_model/GAN17G' + date_time + '.sav'\n",
    "print('save model to file:', G_filename)\n",
    "pickle.dump(G, open(G_filename, 'wb'))\n",
    "\n",
    "D_filename = 'pre_train_model/GAN17D' + date_time + '.sav'\n",
    "print('save model to file:', G_filename)\n",
    "pickle.dump(D, open(D_filename, 'wb'))\n",
    "\n",
    "\n",
    "#G_model = pickle.load(open(G_filename, 'rb'))"
   ]
  },
  {
   "cell_type": "code",
   "execution_count": null,
   "metadata": {},
   "outputs": [],
   "source": []
  }
 ],
 "metadata": {
  "kernelspec": {
   "display_name": "Python 3",
   "language": "python",
   "name": "python3"
  },
  "language_info": {
   "codemirror_mode": {
    "name": "ipython",
    "version": 3
   },
   "file_extension": ".py",
   "mimetype": "text/x-python",
   "name": "python",
   "nbconvert_exporter": "python",
   "pygments_lexer": "ipython3",
   "version": "3.7.6"
  }
 },
 "nbformat": 4,
 "nbformat_minor": 4
}
